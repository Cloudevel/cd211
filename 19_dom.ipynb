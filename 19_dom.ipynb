{
 "cells": [
  {
   "cell_type": "markdown",
   "metadata": {},
   "source": [
    "[![imagenes/pythonista.png](imagenes/pythonista.png)](https://pythonista.io)"
   ]
  },
  {
   "cell_type": "markdown",
   "metadata": {},
   "source": [
    "## El Modelo del objeto documento (DOM).\n",
    "\n",
    "Al abrir un documento HTML en cualquier navegador, dicho documento es considerado com un objeto, el  cual a su vez contiene otros objetos o elementos. \n",
    "\n",
    "El modelo del objeto documento (DOM) es una manera estandarizada en la que se puede acceder a los elementos de un documento HTML."
   ]
  },
  {
   "cell_type": "markdown",
   "metadata": {},
   "source": [
    "### Árbol de nodos.\n",
    "\n",
    "El DOM permite identificar a los elementos de un documento HTML como una serie de nodos que a su vez podrían contener a otros nodos, los cuales se van bifurcando a partir de la raiz del documento al estilo de las ramas de un {arbol a partir de su tronco.\n",
    "\n",
    "### El objeto *document*.\n",
    "\n",
    "El objeto *document* contiene al documento HTML que se despiega en la ventana de un navegador y es mediante el uso de sus métodos como se puede acceder a los elementos que contiene.\n",
    "\n",
    "Los elementos HTML, contienen dos nodos:\n",
    "\n",
    "* Elemento: Correspondiente a la etiqueta del elemento.\n",
    "* Texto: Correspondiente al tecto dentro del elemento.\n",
    "\n",
    "\n",
    "### Tipos de nodo.\n",
    "\n",
    "* Document, el cual correpsonde al nodo raíz.\n",
    "* Element, el cual representa a cada elemento por medio de su etiqueta.\n",
    "* Attr, corresondiente a un atributo del elemento.\n",
    "* Text, contiene el texto que está dentro del elemento.\n",
    "* Comment, comentarios del documento.\n",
    " \n",
    "### Manipulación de nodos.\n",
    "\n",
    "Mediante el DOM, es posible acceder a cad elemento del documento HTML y realiar las siguientes operaciones:\n",
    "\n",
    "* Acceder a valor de un elemento.\n",
    "* Establecer valores a un elemento.\n",
    "* Mover un elemento de la página.\n",
    "* Crear o eliminar elementos.\n",
    "\n",
    "**NOTA:** El acceso a los elementos de un documento HTML solamente pueden ser realizados cuando la página se haya cargado por completo.\n",
    "\n",
    "### Acceso a los nodos.\n",
    "\n",
    "Como se mencionó previamente, el DOM presenta una estructura similar a la del tronco de un árbol a partir del cual se bifurcan ramas. Se dice que el elemento HTML que contiene a otros elementos es el padre de estos.\n",
    "\n",
    "```\n",
    "padre(parent)\n",
    "| hijos(children)\n",
    "├──elemento\n",
    "├──hermano(sibling)\n",
    "```"
   ]
  },
  {
   "cell_type": "markdown",
   "metadata": {},
   "source": [
    "## El método *document.getRootNode()* .\n",
    "\n",
    "Este método permite acceder al nodo raíz del documento. El elemento resultante contiene a los elementos *head* y *body* como propiedades.\n",
    "\n"
   ]
  },
  {
   "cell_type": "markdown",
   "metadata": {},
   "source": [
    "**Ejemplos**:\n",
    "\n",
    "* Abrir una ventana en blanco dentro de un navegador (se recomienda Firefox).\n",
    "* Seleccionar la consola del navegador a partir de la inspección de los elementos.\n",
    "* Al ejecutar el siguente código se asignará el nodo raíz será asignado a la variable *documento*.\n",
    "\n",
    "``` javascript\n",
    "const documento = document.getRootNode();\n",
    "```\n",
    "\n",
    "* Para acceder al elemento *body* del documento HTML se ejecuta lo siguiente:\n",
    "\n",
    "``` javascript\n",
    "documento.body;\n",
    "```\n",
    "\n",
    "Se desplegará el contenido y los atributos del elemento *body*."
   ]
  },
  {
   "cell_type": "markdown",
   "metadata": {},
   "source": [
    "## Creación de un elemento.\n",
    "\n",
    "Es posible crear un elemento mendiante el método *document.createElement()*, indicando el tipo de elemento mediante el nombre de su etiqueta."
   ]
  },
  {
   "cell_type": "markdown",
   "metadata": {},
   "source": [
    "**Ejemplo:**\n",
    "\n",
    "* Se creará un elemento de tipo *p* y se asignará a la variable *parrafo*.\n",
    "\n",
    "``` javascript\n",
    "parrafo = document.createElement(\"p\");\n",
    "```"
   ]
  },
  {
   "cell_type": "markdown",
   "metadata": {},
   "source": [
    "### Propiedades básicas de un elemento.\n",
    "\n",
    "Los elementos contienen múltiples propiedades emanadas de *document*, pero las más características son: \n",
    "\n",
    "* *textContent*, la cual corresonde al contenido de texto del elemento.\n",
    "* *children*, la cual corresponde a una colección que enumera a los elementos que contiene el elemento.\n",
    "* *childNodes*, la cual corresponde a una lista de los nodos que contiene el elemento.\n",
    "* *innerHTML* la cual corresponde a un objeto de tipo String que contiene el código HTML del elemento.\n",
    "* *innerText* la cual corresponde a un objeto de tipo String que contiene el texto del elemento y sus elementos contenidos.\n",
    "* *id* la cual corresponde a un objeto de tipo String que contiene el atributo *id* del elemento.\n",
    "* *className* la cual corresponde al nombre de la calse al a que pertenece el elemento.\n",
    "* *parentElement* la cual corresponde al elemento padre del elemento actual.\n",
    "* *parentNode* la cual corresponde al nodo padre del elemento actual."
   ]
  },
  {
   "cell_type": "markdown",
   "metadata": {},
   "source": [
    "## Inserción de un elemento utilizando el método *appendChild()*\n",
    "\n",
    "Este método permite añadir al final de un elemento, otro elemento que es ingresado como argumento."
   ]
  },
  {
   "cell_type": "markdown",
   "metadata": {},
   "source": [
    "## Métodos de acceso a elementos emanado de *document*.\n",
    " \n",
    "* *getElementsByTagName()*\n",
    "* *getElementsByName()*\n",
    "* *getElementById()*\n",
    "* *getElementsByClassName()*\n",
    "\n",
    "## Eliminación de un elemento mediante el método *remove.Child()*. \n",
    "El método *removeChild()* requiere como argumento al nodo que se va a eliminar. \n",
    "\n",
    "Esta función debe ser invocada desde el elemento padre de ese nodo que se quiere eliminar. La forma más segura y rápida de acceder al nodo padre de un elemento es mediante la propiedad nodoHijo.parentNode .\n",
    "\n",
    "**Nota:** Cuando se elimina un nodo, también se eliminan automáticamente todos los nodos hijos que tenga, por lo que no es necesario borrar manualmente cada nodo hijo."
   ]
  },
  {
   "cell_type": "markdown",
   "metadata": {},
   "source": [
    "<p style=\"text-align: center\"><a rel=\"license\" href=\"http://creativecommons.org/licenses/by/4.0/\"><img alt=\"Licencia Creative Commons\" style=\"border-width:0\" src=\"https://i.creativecommons.org/l/by/4.0/80x15.png\" /></a><br />Esta obra está bajo una <a rel=\"license\" href=\"http://creativecommons.org/licenses/by/4.0/\">Licencia Creative Commons Atribución 4.0 Internacional</a>.</p>\n",
    "<p style=\"text-align: center\">&copy; José Luis Chiquete Valdivieso. 2018.</p>"
   ]
  }
 ],
 "metadata": {
  "kernelspec": {
   "display_name": "Javascript (Node.js)",
   "language": "javascript",
   "name": "javascript"
  },
  "language_info": {
   "file_extension": ".js",
   "mimetype": "application/javascript",
   "name": "javascript",
   "version": "6.14.3"
  }
 },
 "nbformat": 4,
 "nbformat_minor": 2
}
