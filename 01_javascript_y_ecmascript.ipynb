{
 "cells": [
  {
   "cell_type": "markdown",
   "metadata": {},
   "source": [
    "[![cloudevel](Imagenes/cloudevel.png)](https://cloudevel.com)"
   ]
  },
  {
   "cell_type": "markdown",
   "metadata": {},
   "source": [
    "# Javascript y ECMAScript"
   ]
  },
  {
   "cell_type": "markdown",
   "metadata": {},
   "source": [
    "## Introducción a Javascript.\n",
    "\n",
    "*Javascript* es un lenguaje de programación creado en 1995 por [Brendan Eich](https://es.wikipedia.org/wiki/Brendan_Eich) para [Netscape](https://es.wikipedia.org/wiki/Netscape_Communications_Corporation) y [Sun Microsystems](https://es.wikipedia.org/wiki/Sun_Microsystems) con la finalidad de servir como un componente que falcilitara la interacción de los contenidos *HTML* en los navegadores web. \n",
    "\n",
    "Javascript es un lenguaje:\n",
    "\n",
    "* Interpertado.\n",
    "* Multiparadigma.\n",
    "    * Funcional.\n",
    "    * Orientado a objetos.\n",
    "    * Prototípico.\n",
    "* De tipado dinámico y débil.\n",
    "\n",
    "### Motores de Javascript.\n",
    "\n",
    "#### Chrome V8.\n",
    "\n",
    "Todos los navegadores web más populares cuentan con un \"motor\" (engine) capaz de ejecutar código de *Javascript* ya sea por medio de guiones (scripts) o mediante una terminal que interactía directamente con el navegador.\n",
    "\n",
    "Google ha desarrollado el motor [*V8*](https://v8.dev/), el cual es incluido en los navegadores derivados de Google Chrome sino que es el elemento base de [*Node.js*](https://nodejs.org/es/), de [Opera](https://www.opera.com/es-419).\n",
    "\n",
    "#### SpiderMonkey.\n",
    "\n",
    "La Fundación Mozilla cuenta con [*SpiderMonkey*](https://developer.mozilla.org/en-US/docs/Mozilla/Projects/SpiderMonkey).\n",
    "\n",
    "#### JavascriptCore.\n",
    "\n",
    "El motor de Safari para MacOS X es [*JavascriptCore*](https://developer.apple.com/documentation/javascriptcore)."
   ]
  },
  {
   "cell_type": "markdown",
   "metadata": {},
   "source": [
    "**NOTA:** Aún cuando son lenguajes de programación contemporáneos y en el desarrollo de ambos hubo una intensa y estrecha colaboración por parte de Sun Microsystems,  <a href=\"https://es.wikipedia.org/wiki/Java_(lenguaje_de_programaci%C3%B3n)\">Java</a> y Javascript no son sinónimos y tampoco son lenguajes parecidos."
   ]
  },
  {
   "cell_type": "markdown",
   "metadata": {},
   "source": [
    "## *ECMAScript*.\n",
    "\n",
    "A  final de la década de los 1990 y principios de la del 2000, Microsoft y Netscape competían por la supremacía en el mercado de los navegadores web en lo que se conoció como [\"La guerra de los navegadores\"](https://es.wikipedia.org/wiki/Guerra_de_navegadores) y en aquellos días Microsoft ofrecía Internet Explorer con su propio lenguaje llamado [*JScript*](https://es.wikipedia.org/wiki/JScript).\n",
    "\n",
    "Esta competencia representaba el riesgo potencial de crear sitios web incompatibles entre los navegadores, por lo que en 1997 fue publicado el estándar [*ECMAScript*](https://es.wikipedia.org/wiki/ECMAScript) con al finalidad de homologar la implementación de dicho estándar en los navegadores y evitar una fragmentación del mercado."
   ]
  },
  {
   "cell_type": "markdown",
   "metadata": {},
   "source": [
    "## ECMAScript moderno.\n",
    "\n",
    "Javascript es un lenguaje que ha superado las espectativas de su diseño inicial y ha debido de evolucionar para poder ejecutar código más seguro, eficiente y coherente.\n",
    "\n",
    "El estándar *ECMAScript* sufrió de una profunda reestructuración a partir de su actualización en 2015, corrigiendo varios problemas de diseño y modernizando al lenguaje. A esta versíon se le conoce como *ECMAScript 5* o (*ES5*). A partir de *ES5* e publicó una nueva versión del estándar conocida como *ECMAScript 6* o (*ES6*).\n",
    "\n",
    "Aún cuando Javascript aún es compatible con código previo a *ES5*, se recomienada apegarse al estándar *ES5*, *ES6* y posteriores."
   ]
  },
  {
   "cell_type": "markdown",
   "metadata": {},
   "source": [
    "## Competidores y extensiones de Javascript.\n",
    "\n",
    "* [Dart](https://dart.dev/).\n",
    "* [CoffeeScript](https://coffeescript.org/).\n",
    "* [ActionScript](https://www.adobe.com/devnet/actionscript.html).\n",
    "* [TypeScript](https://www.typescriptlang.org/)."
   ]
  },
  {
   "cell_type": "markdown",
   "metadata": {},
   "source": [
    "<p style=\"text-align: center\"><a rel=\"license\" href=\"http://creativecommons.org/licenses/by/4.0/\"><img alt=\"Licencia Creative Commons\" style=\"border-width:0\" src=\"https://i.creativecommons.org/l/by/4.0/80x15.png\" /></a><br />Esta obra está bajo una <a rel=\"license\" href=\"http://creativecommons.org/licenses/by/4.0/\">Licencia Creative Commons Atribución 4.0 Internacional</a>.</p>\n",
    "<p style=\"text-align: center\">&copy; José Luis Chiquete Valdivieso. 2019.</p>"
   ]
  }
 ],
 "metadata": {
  "kernelspec": {
   "display_name": "Javascript (Node.js)",
   "language": "javascript",
   "name": "javascript"
  },
  "language_info": {
   "file_extension": ".js",
   "mimetype": "application/javascript",
   "name": "javascript",
   "version": "6.14.3"
  }
 },
 "nbformat": 4,
 "nbformat_minor": 2
}
