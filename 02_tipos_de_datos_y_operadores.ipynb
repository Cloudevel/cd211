{
 "cells": [
  {
   "cell_type": "markdown",
   "metadata": {},
   "source": [
    "[![cloudevel](Imagenes/cloudevel.png)](https://cloudevel.com)"
   ]
  },
  {
   "cell_type": "markdown",
   "metadata": {},
   "source": [
    "# Sobre el uso del punto y coma (*;*).\n",
    "\n",
    "Javascript delimita al final de una línea de código con un signo de punto y coma (*;*). Actualmente, los intérpretes y consolas identifican en retorno de línea como el final de una línea de código. Sin embargo, en aras de ajustarnos a las mejores prácticas, se utilizará el signo a final de cada línea de código.\n",
    "\n",
    "\n",
    "# Tipos de datos básicos en Javascript.\n",
    "\n",
    "\n",
    "\n",
    "## Numéricos.\n",
    "Javascript sólo identifica a un tipo de dato numérico. No hay diferencia entre números enteros y números con decimales.\n",
    "\n",
    "## Cadena de caracteres.\n",
    "Javascipt no identifica tipos de un sólo caracter, sino a cadenas de caracteres  Unicode delimitadas ya sea por comillas o apóstrofes.\n",
    "\n",
    "## Booleanos.\n",
    "Los elementos de tipo booleanos sólo pueden ser de la siguiente forma:\n",
    "* *true* para verdadero.\n",
    "* *false* para falso.\n",
    "\n",
    "# Null.\n",
    "Es un tipo de dato que no representa nada. Se utiliza para definir variables a las que posteriormente se le asignará un valor.\n",
    "\n",
    "## Inferencia de tipo.\n",
    "Javascript es un lenguaje que no requiere que se defina el tipo de dato, sino que lo infiere a travez de su sintaxis."
   ]
  },
  {
   "cell_type": "code",
   "execution_count": null,
   "metadata": {},
   "outputs": [],
   "source": []
  },
  {
   "cell_type": "code",
   "execution_count": null,
   "metadata": {},
   "outputs": [],
   "source": [
    "12.3 + 12;"
   ]
  },
  {
   "cell_type": "code",
   "execution_count": null,
   "metadata": {},
   "outputs": [],
   "source": [
    "true;"
   ]
  },
  {
   "cell_type": "code",
   "execution_count": null,
   "metadata": {},
   "outputs": [],
   "source": [
    "\"Hola, Mundo\";"
   ]
  },
  {
   "cell_type": "markdown",
   "metadata": {},
   "source": [
    "Es posible  transformar a un dato de cierto tipo a otro que sea compatible, mediante las siguientes funciones:\n",
    "* *String()* convierte a cadena de caracteres el valor que se le ingresa como argumento.\n",
    "* *Bool()* convierte en entero a un número de tipo *float*, truncándolo o a uno de tipo *str* si éste representa a un número.\n",
    "* *Number()* convierte a un valor de cadena de caracteres si éste representa a un número. En caso de que no represente a un número, regresará el valor *NaN*"
   ]
  },
  {
   "cell_type": "code",
   "execution_count": null,
   "metadata": {},
   "outputs": [],
   "source": [
    "String(12);"
   ]
  },
  {
   "cell_type": "code",
   "execution_count": null,
   "metadata": {},
   "outputs": [],
   "source": [
    "Number(\"23\");"
   ]
  },
  {
   "cell_type": "code",
   "execution_count": null,
   "metadata": {},
   "outputs": [],
   "source": [
    "Number(\"Hola\");"
   ]
  },
  {
   "cell_type": "markdown",
   "metadata": {},
   "source": [
    "# Operadores aritméticos\n",
    " \n",
    "|Operador|Descripción|\n",
    "|:------:|:---------:|\n",
    "|_+_       |Suma       |\n",
    "|_-_ \t     |Resta      |\n",
    "|_-_       |Negativo   |\n",
    "|_\\*_      |Multiplicación|\n",
    "|_/_ \t     |División   |\n",
    "|_%_       |Residuo    |\n",
    "| ++       |Incremento  |\n",
    "|--        |Decremento|\n",
    "\n",
    "Los operadores de incremento y decremento se verán cuando se estudien las iteraciones.\n",
    "\n",
    "Se utilizan los paréntesis para aislar operaciones.\n"
   ]
  },
  {
   "cell_type": "code",
   "execution_count": null,
   "metadata": {},
   "outputs": [],
   "source": [
    "12 / 34;"
   ]
  },
  {
   "cell_type": "code",
   "execution_count": null,
   "metadata": {},
   "outputs": [],
   "source": [
    "3 % 2;"
   ]
  },
  {
   "cell_type": "code",
   "execution_count": null,
   "metadata": {},
   "outputs": [],
   "source": [
    "12 * 5;"
   ]
  },
  {
   "cell_type": "markdown",
   "metadata": {},
   "source": [
    "# Tipado no estricto\n",
    "Javascript es un lenguaje de tipado no estricto. Es decir que si se encuentra con un valor de tipo de cadena de caracteres que represente un número, puede realizar con éste operaciones con resultados de distintos tipos.\n",
    "\n",
    "Es posible realizar algunas operaciones entre números y cadenas de caracteres."
   ]
  },
  {
   "cell_type": "code",
   "execution_count": null,
   "metadata": {},
   "outputs": [],
   "source": [
    "\"5\" + 5;"
   ]
  },
  {
   "cell_type": "code",
   "execution_count": null,
   "metadata": {},
   "outputs": [],
   "source": [
    "5 * \"5\";"
   ]
  },
  {
   "cell_type": "code",
   "execution_count": null,
   "metadata": {},
   "outputs": [],
   "source": [
    "5 + \"Hola\";"
   ]
  },
  {
   "cell_type": "code",
   "execution_count": null,
   "metadata": {},
   "outputs": [],
   "source": [
    "5 * \"Hola\";"
   ]
  },
  {
   "cell_type": "markdown",
   "metadata": {},
   "source": [
    "<p style=\"text-align: center\"><a rel=\"license\" href=\"http://creativecommons.org/licenses/by/4.0/\"><img alt=\"Licencia Creative Commons\" style=\"border-width:0\" src=\"https://i.creativecommons.org/l/by/4.0/80x15.png\" /></a><br />Esta obra está bajo una <a rel=\"license\" href=\"http://creativecommons.org/licenses/by/4.0/\">Licencia Creative Commons Atribución 4.0 Internacional</a>.</p>\n",
    "<p style=\"text-align: center\">&copy; José Luis Chiquete Valdivieso. 2019.</p>"
   ]
  }
 ],
 "metadata": {
  "kernelspec": {
   "display_name": "Python 3",
   "language": "python",
   "name": "python3"
  },
  "language_info": {
   "codemirror_mode": {
    "name": "ipython",
    "version": 3
   },
   "file_extension": ".py",
   "mimetype": "text/x-python",
   "name": "python",
   "nbconvert_exporter": "python",
   "pygments_lexer": "ipython3",
   "version": "3.6.6"
  }
 },
 "nbformat": 4,
 "nbformat_minor": 2
}
