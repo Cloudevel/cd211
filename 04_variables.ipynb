{
 "cells": [
  {
   "cell_type": "markdown",
   "metadata": {},
   "source": [
    "# Creación de variables."
   ]
  },
  {
   "cell_type": "markdown",
   "metadata": {},
   "source": [
    "## Creación de variables en Javascript previas a ES6.\n",
    "\n",
    "En las versiones previas a ES6 la forma de crear una variable se realizaba mediante a declaracion *var*. \n",
    "\n",
    "Una vez que la variable es creada, la ejecución regresará el mensaje *undefined* en la consola.\n",
    "\n",
    "Por cuestiones de compatibilidad con código previo, la declaración *var* sigue siendo utilizada, pero ya no se recomienda.\n",
    "\n",
    "Más adelante se discutirá el problema de la utilización de *var*."
   ]
  },
  {
   "cell_type": "markdown",
   "metadata": {},
   "source": [
    "## Las declaraciones *const* y *let*\n",
    "\n",
    "A partir de ES6 se utilizan:\n",
    "\n",
    "* *const* para asignar valores que no cambian.\n",
    "* *let* para crear variables."
   ]
  },
  {
   "cell_type": "code",
   "execution_count": null,
   "metadata": {},
   "outputs": [],
   "source": [
    "let variable;"
   ]
  },
  {
   "cell_type": "markdown",
   "metadata": {},
   "source": [
    "Para conocer el valor que guarda una variable sólo es necesario invocar su nombre desde la consola. En este caso, como no se le asignó un valor a la variable, el resuldato será *undefined*."
   ]
  },
  {
   "cell_type": "code",
   "execution_count": null,
   "metadata": {},
   "outputs": [],
   "source": [
    "variable;"
   ]
  },
  {
   "cell_type": "markdown",
   "metadata": {},
   "source": [
    "# El operador de identidad *=*\n",
    "Para asignar un valor a una variable se utiliza el operador *=*."
   ]
  },
  {
   "cell_type": "code",
   "execution_count": null,
   "metadata": {},
   "outputs": [],
   "source": [
    "const numero = 12;"
   ]
  },
  {
   "cell_type": "code",
   "execution_count": null,
   "metadata": {},
   "outputs": [],
   "source": [
    "numero;"
   ]
  },
  {
   "cell_type": "markdown",
   "metadata": {},
   "source": [
    "# Reglas para la elaboración de nombres en Javascript.\n",
    "Javascript sólo acepta el uso de caracteres Unicode para la definición de variables.\n",
    "Después del primer caracter, se pueden utilizar caracteres alfabéticos, números y/o guiones bajos.\n",
    "No se permiten caracteres distintos a los alfabéticos o que pudieran confundirse con operadores como \"|\", \"~\", \"#\", \"-\", etc.\n",
    "\n",
    "Se pueden utilizar mayúsculas, pero cabe señalar que Javascript es sensible a mayúsculas.\\\n",
    "\n",
    "Javascript cuenta con un conjunto de palabras reservadas, las cuales no pueden ser usadas como nombres de variables."
   ]
  },
  {
   "cell_type": "code",
   "execution_count": null,
   "metadata": {},
   "outputs": [],
   "source": [
    "let Saludo = \"Hola\";"
   ]
  },
  {
   "cell_type": "code",
   "execution_count": null,
   "metadata": {},
   "outputs": [],
   "source": [
    "let Saludó = \"Hi!\";"
   ]
  },
  {
   "cell_type": "code",
   "execution_count": null,
   "metadata": {},
   "outputs": [],
   "source": [
    "Saludó;"
   ]
  },
  {
   "cell_type": "code",
   "execution_count": null,
   "metadata": {},
   "outputs": [],
   "source": [
    "Saludo;"
   ]
  },
  {
   "cell_type": "code",
   "execution_count": null,
   "metadata": {},
   "outputs": [],
   "source": [
    "let _numero = 25.4;"
   ]
  },
  {
   "cell_type": "code",
   "execution_count": null,
   "metadata": {},
   "outputs": [],
   "source": [
    "_numero;"
   ]
  },
  {
   "cell_type": "code",
   "execution_count": null,
   "metadata": {},
   "outputs": [],
   "source": [
    "let -numero =  33;"
   ]
  },
  {
   "cell_type": "code",
   "execution_count": null,
   "metadata": {},
   "outputs": [],
   "source": [
    "_numero = 25;"
   ]
  },
  {
   "cell_type": "markdown",
   "metadata": {},
   "source": [
    "Es posible definir variables omitiendo el uso de la expresión *var*, pero no se recomienda."
   ]
  },
  {
   "cell_type": "code",
   "execution_count": null,
   "metadata": {},
   "outputs": [],
   "source": [
    "texto = \"Este es un texto\";"
   ]
  },
  {
   "cell_type": "code",
   "execution_count": null,
   "metadata": {},
   "outputs": [],
   "source": [
    "texto;"
   ]
  },
  {
   "cell_type": "markdown",
   "metadata": {},
   "source": [
    "Una expresión es una serie de instrucciones que pueden ser ejecutadas en una sola línea y que generan un resultado. El resultado de una expresión puede ser guardado en una variable."
   ]
  },
  {
   "cell_type": "code",
   "execution_count": null,
   "metadata": {},
   "outputs": [],
   "source": [
    "let suma = 12 + 24 -(15 * 3);"
   ]
  },
  {
   "cell_type": "code",
   "execution_count": null,
   "metadata": {},
   "outputs": [],
   "source": [
    "suma;"
   ]
  },
  {
   "cell_type": "markdown",
   "metadata": {},
   "source": [
    "## Operadores de asignación.\n",
    "\n",
    "Además del operador *=* existen otros operadores de asignación.\n",
    "\n",
    "|Operador|Descripción|Ejemplo|\n",
    "|:------:|:---------:|:-----:|\n",
    "|*=*    |Asignación simple|*x = y*|\n",
    "|*+=*   |Suma             |*x += y* equivale a *x = x + y*|\n",
    "|*-=*   |Resta \t          |*x -= y* equivale a *x = x - y*|\n",
    "|_\\*=_  |Multiplicación   |_x \\*= y_ equivale a _x = x \\* y_|\n",
    "|*/=* \t|División \t      |*x /= y* equivale a *x = x / y*|\n",
    "|*%=* \t|Residuo de división|*x %= y* equivale a *x = x % y*|\n"
   ]
  },
  {
   "cell_type": "code",
   "execution_count": null,
   "metadata": {},
   "outputs": [],
   "source": [
    " suma += 11;"
   ]
  },
  {
   "cell_type": "code",
   "execution_count": null,
   "metadata": {},
   "outputs": [],
   "source": [
    "suma;"
   ]
  },
  {
   "cell_type": "code",
   "execution_count": null,
   "metadata": {},
   "outputs": [],
   "source": [
    "suma /= 0.0125;"
   ]
  }
 ],
 "metadata": {
  "kernelspec": {
   "display_name": "Javascript (Node.js)",
   "language": "javascript",
   "name": "javascript"
  },
  "language_info": {
   "codemirror_mode": "javascript",
   "file_extension": ".js",
   "mimetype": "text/javascript",
   "name": "nodejs",
   "pygments_lexer": "javascript",
   "version": "0.10"
  }
 },
 "nbformat": 4,
 "nbformat_minor": 2
}
