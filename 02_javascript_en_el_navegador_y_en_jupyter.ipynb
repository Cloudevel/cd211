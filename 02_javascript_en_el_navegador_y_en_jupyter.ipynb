{
 "cells": [
  {
   "cell_type": "markdown",
   "metadata": {},
   "source": [
    "[![cloudevel](Imagenes/cloudevel.png)](https://cloudevel.com)"
   ]
  },
  {
   "cell_type": "markdown",
   "metadata": {},
   "source": [
    "**ADVERTENCIA:**\n",
    "\n",
    "Para que las notebooks de este módulo se ejecuten correctamente, es necesario que todas las salidas de las celdas estén limpias.\n",
    "\n",
    "En caso contrario es necesario seleccionar **Cell| All Output| Clear** del menú de la notebook, guardarla, cerrarla y abrirla nuevamente."
   ]
  },
  {
   "cell_type": "markdown",
   "metadata": {},
   "source": [
    "## *Javascript* y los documentos *HTML*.\n",
    "\n",
    "Javascript puede ser integrado de dos formas a un documento *HTML*.\n",
    "\n",
    "* Ingresando el código en una etiqueta ```<script>```.\n",
    "* Mediante la carga de un archivo mediante la etiqueta ```<link>```."
   ]
  },
  {
   "cell_type": "markdown",
   "metadata": {},
   "source": [
    "### Inclusión de código dentro del elemento ```<script>```.\n",
    "\n",
    "El elemento ```<script>``` le indica al navegador que el texto encerrado entre estas estiquetas contiene código ejecutable.\n",
    "\n",
    "La mayoría de los navegadores identifican automáticamente al código encerrado como *Javascript*, pero es recomndable usar el atributo ```type=\"text/javascript\"``` para ser más específicos.\n",
    "\n",
    "La sintaxis es la siguiente.\n",
    "\n",
    "```\n",
    "<script type=\"text/javascript\">\n",
    "    (código)\n",
    "</script>\n",
    "```"
   ]
  },
  {
   "cell_type": "markdown",
   "metadata": {},
   "source": [
    "**Ejemplo:**\n",
    "\n",
    "El documento [```ejemplos/hola_js.html```](ejemplos/hola_js.html) contiene el siguiente código, el cual incluye código de *Javascript* dentro de un elemento ```<script>```.\n",
    "\n",
    "```html\n",
    "<!DOCTYPE html>\n",
    "<html>\n",
    "    <head>\n",
    "        <meta charset=\"UTF-8\">\n",
    "        <title>Hola, mundo</title>\n",
    "    </head>\n",
    "    <body>\n",
    "        <script>\n",
    "            let nombre = prompt(\"Ingrese su nombre.\");\n",
    "            alert(\"Hola, \" + nombre);\n",
    "        </script>\n",
    "        <h1> Saludos.</h1> \n",
    "    </body>\n",
    "</html>\n",
    "```\n",
    "**Nota:** \n",
    "Para ejecutar el código del documento es necesario descargar el archivo y abrirlo con un navegador. "
   ]
  },
  {
   "cell_type": "markdown",
   "metadata": {},
   "source": [
    "### Referencia a un archivo script mediante la etiqueta ```<script>```.\n",
    "\n",
    "Es posible indicar la localización de un archivo que contenga código de *Javascript* utilizando la siguiente sintaxis:\n",
    "\n",
    "```\n",
    "<script type=\"text/javascript\" src=\"(localización)\"></script>\n",
    "```\n",
    "\n",
    "* Donde ```(localización)``` puede ser un archivo en un sistema de archivos o en una *URL*.\n",
    "\n",
    "\n",
    "**NOTA:** Se acostumbra que los archivos con código de  *Javascript* llevan la extensión ```.js```."
   ]
  },
  {
   "cell_type": "markdown",
   "metadata": {},
   "source": [
    "## Mozilla Firefox.\n",
    "\n",
    "Prácticamente todos los navegadores web modernos cuentan con herramientas de inspección de contenidos, las cuales incluyen:\n",
    "\n",
    "* Un visor de elementos.\n",
    "* Una consola con un shell de *Javascript*.\n",
    "* Un depurador.\n",
    "* Un editor de estilos.\n",
    "* Herramientas de medición de recursos y rendimiento.\n",
    "\n",
    "Para este curso se ha elegido utilizar Mozilla Firefox para ilustrar los apuntes y se recomienda instalar la versión más reciente de la [edición para desarrolladores de Firefox](https://www.mozilla.org/es-ES/firefox/developer/). \n",
    "\n",
    "### Accceso al inspector de elementos.\n",
    "\n",
    "Para acceder al inspector de elementos de Mozilla Firefox se deben de oprimir las teclas <kbd>Shift</kbd>+<kbd>Ctrl</kbd>+<kbd>I</kbd> de forma simultánea."
   ]
  },
  {
   "cell_type": "markdown",
   "metadata": {},
   "source": [
    "## Uso de los comandos mágicos de Jupyter.\n",
    "\n",
    "Las notebooks de Jupyter que incluyen el kernel de Python permiten ejecutar ciertos \"comandos mágicos\", que a su vez son capaces de realizar diversas acciones tanto en el entorno de la notebook como en la ejecución de la celda desde la que se ejecutan dichos comandos.\n",
    "\n",
    "Para mayor información acerca de los comandos mágicos puede consultar la siguiente liga:\n",
    "\n",
    "https://ipython.readthedocs.io/en/stable/interactive/magics.html\n"
   ]
  },
  {
   "cell_type": "markdown",
   "metadata": {},
   "source": [
    "### El comando mágico ```%%html```.\n",
    "\n",
    "Este comando permite desplegar código *HTML* desde una celda de código. Dicho código se vuelve parte del objeto ```document``` que conforma a la notebook."
   ]
  },
  {
   "cell_type": "markdown",
   "metadata": {},
   "source": [
    "**Ejemplo:**\n",
    "\n",
    "Se utilizará código *HTML* para desplegar un par de mensajes."
   ]
  },
  {
   "cell_type": "code",
   "execution_count": null,
   "metadata": {
    "scrolled": true
   },
   "outputs": [],
   "source": [
    "%%html\n",
    "<h1>Hola Mundo.</h1>\n",
    "<p> Esta es una muestra de lo que puede hacer el comando mágico <em>%%html</em>.</p>"
   ]
  },
  {
   "cell_type": "markdown",
   "metadata": {},
   "source": [
    "### El comando mágico ```%%javascript```.\n",
    "\n",
    "Este comando mágico permite ejecutar código en *Javascript* el cual es capaz de interactuar con el *DOM* de la notebook que lo contiene."
   ]
  },
  {
   "cell_type": "markdown",
   "metadata": {},
   "source": [
    "**Ejemplo:**"
   ]
  },
  {
   "cell_type": "markdown",
   "metadata": {},
   "source": [
    "* Se creará un elemento ```<div>``` con el atributo ```id=\"circulo\"``` usando el comando mágico ```%%html```."
   ]
  },
  {
   "cell_type": "code",
   "execution_count": null,
   "metadata": {},
   "outputs": [],
   "source": [
    "%%html\n",
    "<style>\n",
    "    #circulo {\n",
    "    width: 100px;\n",
    "    height: 100px;\n",
    "    border-radius: 50px;\n",
    "    background-color: lightblue;\n",
    "    }\n",
    "</style>\n",
    "<div id=\"circulo\"></div>"
   ]
  },
  {
   "cell_type": "markdown",
   "metadata": {},
   "source": [
    "* Mediante el uso del comando mágico ```%%javascript``` se insertará un código esrito en Javascript el cual realizará lo siguiente:\n",
    "    * Modificará el estilo del elemento ```<body>```, haciendo que la propiedad de color de fondo sea ```skyblue```.\n",
    "    * Modificará el estilo del elemento con el atributo ```id=\"circulo\"```, haciendo que la propiedad de color de fondo sea ```gold```."
   ]
  },
  {
   "cell_type": "code",
   "execution_count": null,
   "metadata": {
    "scrolled": false
   },
   "outputs": [],
   "source": [
    "%%javascript\n",
    "\n",
    "let cuerpo = document.getElementsByTagName(\"body\")[0];\n",
    "cuerpo.style.backgroundColor=\"skyblue\";\n",
    "let circulo = document.getElementById(\"circulo\");\n",
    "circulo.style.backgroundColor=\"gold\";"
   ]
  },
  {
   "cell_type": "markdown",
   "metadata": {},
   "source": [
    "<p style=\"text-align: center\"><a rel=\"license\" href=\"http://creativecommons.org/licenses/by/4.0/\"><img alt=\"Licencia Creative Commons\" style=\"border-width:0\" src=\"https://i.creativecommons.org/l/by/4.0/80x15.png\" /></a><br />Esta obra está bajo una <a rel=\"license\" href=\"http://creativecommons.org/licenses/by/4.0/\">Licencia Creative Commons Atribución 4.0 Internacional</a>.</p>\n",
    "<p style=\"text-align: center\">&copy; José Luis Chiquete Valdivieso. 2019.</p>"
   ]
  }
 ],
 "metadata": {
  "kernelspec": {
   "display_name": "Python 3",
   "language": "python",
   "name": "python3"
  },
  "language_info": {
   "codemirror_mode": {
    "name": "ipython",
    "version": 3
   },
   "file_extension": ".py",
   "mimetype": "text/x-python",
   "name": "python",
   "nbconvert_exporter": "python",
   "pygments_lexer": "ipython3",
   "version": "3.6.3"
  }
 },
 "nbformat": 4,
 "nbformat_minor": 2
}
