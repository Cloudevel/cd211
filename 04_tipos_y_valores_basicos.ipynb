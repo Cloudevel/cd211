{
 "cells": [
  {
   "cell_type": "markdown",
   "metadata": {},
   "source": [
    "[![cloudevel](Imagenes/cloudevel.png)](https://cloudevel.com)"
   ]
  },
  {
   "cell_type": "markdown",
   "metadata": {},
   "source": [
    " # Tipos y valores básicos."
   ]
  },
  {
   "cell_type": "markdown",
   "metadata": {},
   "source": [
    "## Tipado dinámico e inferencia de tipo.\n",
    "\n",
    "Javascript es un lenguaje que no requiere que se defina el tipo de dato, sino que lo infiere a través de su sintaxis."
   ]
  },
  {
   "cell_type": "markdown",
   "metadata": {},
   "source": [
    "## Tipos de datos y valores básicos en *Javascript*.\n",
    "\n",
    "* ```Number```.\n",
    "* ```String```.\n",
    "* ```Boolean```.\n",
    "* ```Symbol```.\n",
    "* El valor ```null```."
   ]
  },
  {
   "cell_type": "markdown",
   "metadata": {},
   "source": [
    "## Datos de tipo numérico.\n",
    "*Javascript* sólo identifica a un tipo de dato numérico ```Number```. No hay diferencia entre números enteros y números con decimales."
   ]
  },
  {
   "cell_type": "markdown",
   "metadata": {},
   "source": [
    "**Ejemplos:**"
   ]
  },
  {
   "cell_type": "code",
   "execution_count": null,
   "metadata": {},
   "outputs": [],
   "source": [
    "123.4;"
   ]
  },
  {
   "cell_type": "code",
   "execution_count": null,
   "metadata": {},
   "outputs": [],
   "source": [
    "12.34 + 25;"
   ]
  },
  {
   "cell_type": "markdown",
   "metadata": {},
   "source": [
    "## Cadenas de caracteres.\n",
    "En *Javascipt* las cadenas de caracteres son compatibles con el formato [*Unicode*](https://unicode-table.com/es/) y están delimitadas ya sea por comillas ```\"``` o apóstrofes ```'```."
   ]
  },
  {
   "cell_type": "markdown",
   "metadata": {},
   "source": [
    "**Ejemplos:**"
   ]
  },
  {
   "cell_type": "code",
   "execution_count": null,
   "metadata": {},
   "outputs": [],
   "source": [
    "'Hola';"
   ]
  },
  {
   "cell_type": "code",
   "execution_count": null,
   "metadata": {},
   "outputs": [],
   "source": [
    "'Hola \"amigo\"';"
   ]
  },
  {
   "cell_type": "markdown",
   "metadata": {},
   "source": [
    "## Caracteres de escape.\n",
    "\n",
    "*Javascript* permite incluir caracteres especiales mediante lo que conoce como un caracter de escape el cual corresponde a la diagonal invertida ```\\```."
   ]
  },
  {
   "cell_type": "markdown",
   "metadata": {},
   "source": [
    "**Ejemplo:**"
   ]
  },
  {
   "cell_type": "markdown",
   "metadata": {},
   "source": [
    "La siguiente celda incluye en texto el caracter  ```'```, y para evitar confusiones, dicho caracter será representdo mediante los caracteres ```\\'```. "
   ]
  },
  {
   "cell_type": "code",
   "execution_count": null,
   "metadata": {},
   "outputs": [],
   "source": [
    "\"McDonald's\";"
   ]
  },
  {
   "cell_type": "markdown",
   "metadata": {},
   "source": [
    "## Booleanos.\n",
    "\n",
    "Los elementos de tipo booleanos sólo pueden ser de la siguiente forma:\n",
    "* ```true``` para verdadero.\n",
    "* ```false``` para falso.\n",
    "Los valores booleanos por lo general son el resultado de la ejecución de expresiones lógicas."
   ]
  },
  {
   "cell_type": "markdown",
   "metadata": {},
   "source": [
    "## El dato ```null```.\n",
    "\n",
    "El dato ```null``` expresa la ausencia de valores numéricos, booleanos o de cadenas de caracteres. Este valor correspone a la nada."
   ]
  },
  {
   "cell_type": "markdown",
   "metadata": {},
   "source": [
    "## El dato ```undefined```.\n",
    "\n",
    "Se utiliza para definir variables a las que posteriormente se le asignará un valor."
   ]
  },
  {
   "cell_type": "markdown",
   "metadata": {},
   "source": [
    "**Ejemplo:**"
   ]
  },
  {
   "cell_type": "markdown",
   "metadata": {},
   "source": [
    "* La siguiente celda definirá a la variable ```x```, pero no le asignará un valor. El valor pordefecto será ```undefined```."
   ]
  },
  {
   "cell_type": "code",
   "execution_count": null,
   "metadata": {},
   "outputs": [],
   "source": [
    "let x;"
   ]
  },
  {
   "cell_type": "markdown",
   "metadata": {},
   "source": [
    "**Nota:** ```undefined``` no es desplegado e las notebooks de Jupyter."
   ]
  },
  {
   "cell_type": "code",
   "execution_count": null,
   "metadata": {},
   "outputs": [],
   "source": [
    "x;"
   ]
  },
  {
   "cell_type": "markdown",
   "metadata": {},
   "source": [
    "* La función ```console.log()``` permite deplegar valores en la consola y permite ver aquellos correspondientes ```undefined```."
   ]
  },
  {
   "cell_type": "code",
   "execution_count": null,
   "metadata": {},
   "outputs": [],
   "source": [
    "console.log(x);"
   ]
  },
  {
   "cell_type": "markdown",
   "metadata": {},
   "source": [
    "# Funciones de transformación de tipo.\n",
    "\n",
    "Es posible  transformar a un dato de cierto tipo a otro que sea compatible, mediante las siguientes funciones:\n",
    "* ```String()``` convierte a cadena de caracteres el valor que se le ingresa como argumento.\n",
    "* ```Boolean()``` tansforma n un valor en un booleano lo que se ingresa como argumento. Cualquier cadena de caracteres o valor distinto de ```0``` corresponde a  ```true```. Tanto```0``` como ```undefined``` y ```null```serán interpretados como ```false```.\n",
    "* ```Number()``` convierte a un valor numéricos a un cadena de caracteres si ésta representa a un número. En caso de que no represente a un número, regresará el valor ```NaN```.\n",
    "* ```parseInt()``` convierte en un entero a un número o  a la representaciónde un número de una cadena de  caracteres, turncándolo.\n",
    "* ```parseFloat()``` convierte en un número de punto flotante (con decimales) a un número entero y  a la representaciónde un número de una cadena de  caracteres."
   ]
  },
  {
   "cell_type": "markdown",
   "metadata": {},
   "source": [
    "**Ejemplos:**"
   ]
  },
  {
   "cell_type": "markdown",
   "metadata": {},
   "source": [
    "* La siguiente celda regresará la cadena de caracteres ```'12'``` a partir del número ```12``` que se ingresa como argumento a la función ```String()```."
   ]
  },
  {
   "cell_type": "code",
   "execution_count": null,
   "metadata": {
    "scrolled": true
   },
   "outputs": [],
   "source": [
    "String(12);"
   ]
  },
  {
   "cell_type": "markdown",
   "metadata": {},
   "source": [
    "* La siguiente celda regresará la cadena de caracteres ```'true'``` a partir del valor ```true``` que se ingresa como argumento a la función ```String()```."
   ]
  },
  {
   "cell_type": "code",
   "execution_count": null,
   "metadata": {},
   "outputs": [],
   "source": [
    "String(true);"
   ]
  },
  {
   "cell_type": "markdown",
   "metadata": {},
   "source": [
    "* La siguiente celda regresará el número ```23``` a partir de la cadena de caracteres  ```\"23\"``` que se ingresa como argumento a la función ```Number()```."
   ]
  },
  {
   "cell_type": "code",
   "execution_count": null,
   "metadata": {},
   "outputs": [],
   "source": [
    "Number(\"23\");"
   ]
  },
  {
   "cell_type": "markdown",
   "metadata": {},
   "source": [
    "* La siguiente celda regresará el valor ```NaN``` a partir de la cadena de caracteres  ```\"Hola\"``` que se ingresa como argumento a la función ```Number()```."
   ]
  },
  {
   "cell_type": "code",
   "execution_count": null,
   "metadata": {},
   "outputs": [],
   "source": [
    "Number(\"Hola\");"
   ]
  },
  {
   "cell_type": "markdown",
   "metadata": {},
   "source": [
    "* Las siguiente celdas regresarán el valor ```true``` al usar la función ```Boolean()```."
   ]
  },
  {
   "cell_type": "code",
   "execution_count": null,
   "metadata": {},
   "outputs": [],
   "source": [
    "Boolean(12);"
   ]
  },
  {
   "cell_type": "code",
   "execution_count": null,
   "metadata": {},
   "outputs": [],
   "source": [
    "Boolean(\"Hola\");"
   ]
  },
  {
   "cell_type": "markdown",
   "metadata": {},
   "source": [
    "* Las siguiente celda regresarán el valor ```false``` al ingresar ```0``` como argumento para la función ```Boolean()```."
   ]
  },
  {
   "cell_type": "code",
   "execution_count": null,
   "metadata": {},
   "outputs": [],
   "source": [
    "Boolean(0);"
   ]
  },
  {
   "cell_type": "markdown",
   "metadata": {},
   "source": [
    "* Las siguiente celda regresarán el valor ```true``` al ingresar la cadena de caracteres```\"0\"``` como argumento para la función ```Boolean()```. Esto se debe a que contiene un caracter que representa a cero, pero no esl valor numérico de cero."
   ]
  },
  {
   "cell_type": "code",
   "execution_count": null,
   "metadata": {},
   "outputs": [],
   "source": [
    "Boolean(\"0\");"
   ]
  },
  {
   "cell_type": "markdown",
   "metadata": {},
   "source": [
    "* Las siguiente celda regresarán el valor ```false``` al ingresar ```undefined``` como argumento para la función ```Boolean()```."
   ]
  },
  {
   "cell_type": "code",
   "execution_count": null,
   "metadata": {},
   "outputs": [],
   "source": [
    "Boolean(undefined);"
   ]
  },
  {
   "cell_type": "markdown",
   "metadata": {},
   "source": [
    "* La siguiente celda regresará el valor ```false``` al ingresar ```null``` como argumento para la función ```Boolean()```."
   ]
  },
  {
   "cell_type": "code",
   "execution_count": null,
   "metadata": {},
   "outputs": [],
   "source": [
    "Boolean(null);"
   ]
  },
  {
   "cell_type": "markdown",
   "metadata": {},
   "source": [
    "* La siguiente celdá truncará al número ```12.8``` que se ingresa como argumento y regresará al número entero ```12``` usandfo la función  ```parseInt()```."
   ]
  },
  {
   "cell_type": "code",
   "execution_count": null,
   "metadata": {
    "scrolled": true
   },
   "outputs": [],
   "source": [
    "parseInt(12.8);"
   ]
  },
  {
   "cell_type": "markdown",
   "metadata": {},
   "source": [
    "* La siguiente celdá truncará al número ```12.3``` representado en una cadena de caracteres que se ingresa como argumento y regresará al número entero ```12``` usandfo la función  ```parseInt()```."
   ]
  },
  {
   "cell_type": "code",
   "execution_count": null,
   "metadata": {},
   "outputs": [],
   "source": [
    "parseInt(\"12.3\");"
   ]
  },
  {
   "cell_type": "markdown",
   "metadata": {},
   "source": [
    "* La siguiente celdá truncará a la cadena de caracteres que se ingresa como argumento y regresará al número entero ```2``` usando la función  ```parseInt()```."
   ]
  },
  {
   "cell_type": "code",
   "execution_count": null,
   "metadata": {},
   "outputs": [],
   "source": [
    "parseInt(\"2 + 2\");"
   ]
  },
  {
   "cell_type": "markdown",
   "metadata": {},
   "source": [
    "* La siguiente celdá truncará a la cadena de caracteres que se ingresa como argumento y regresará al número entero ```8``` usando la función  ```parseInt()```."
   ]
  },
  {
   "cell_type": "code",
   "execution_count": null,
   "metadata": {},
   "outputs": [],
   "source": [
    "parseInt(\"8 botellas\");"
   ]
  },
  {
   "cell_type": "markdown",
   "metadata": {},
   "source": [
    "* La siguiente celdá truncará a la cadena de caracteres que se ingresa como argumento y regresará el valor ```NaN``` usando la función  ```parseInt()```. Esto se debe a que la cadena mo empieza con la representación de un número."
   ]
  },
  {
   "cell_type": "code",
   "execution_count": null,
   "metadata": {},
   "outputs": [],
   "source": [
    "parseInt(\"botellas 8\");"
   ]
  },
  {
   "cell_type": "markdown",
   "metadata": {},
   "source": [
    "* La siguiente celdá truncará a la cadena de caracteres que se ingresa como argumento y regresará al número entero ```8.23``` usando la función  ```parseFloat()```."
   ]
  },
  {
   "cell_type": "code",
   "execution_count": null,
   "metadata": {},
   "outputs": [],
   "source": [
    "parseFloat(\"8.23 botellas\");"
   ]
  },
  {
   "cell_type": "markdown",
   "metadata": {},
   "source": [
    "* La siguiente celdá truncará a la cadena de caracteres que se ingresa como argumento y regresará el valor ```NaN``` usando la función  ```parseFloat()```. Esto se debe a que la cadena mo empieza con la representación de un número."
   ]
  },
  {
   "cell_type": "code",
   "execution_count": null,
   "metadata": {},
   "outputs": [],
   "source": [
    "parseInt(\"botellas 8\");"
   ]
  },
  {
   "cell_type": "markdown",
   "metadata": {},
   "source": [
    "# Tipado no estricto.\n",
    "\n",
    "*Javascript* es un lenguaje de tipado no estricto. Es decir que si se encuentra con un valor de tipo de cadena de caracteres que represente un número, puede realizar con éste operaciones con resultados de distintos tipos.\n",
    "\n",
    "Es posible realizar algunas operaciones entre números y cadenas de caracteres."
   ]
  },
  {
   "cell_type": "markdown",
   "metadata": {},
   "source": [
    "**Ejemplos:**"
   ]
  },
  {
   "cell_type": "markdown",
   "metadata": {},
   "source": [
    "* La siguiente celda regresará una cadena de caracteres que convierte al valor entero ```5``` en un caracter y lo concatena con la cadena ```\"5\"``` que estás a la izquierda del operador ```+ ```."
   ]
  },
  {
   "cell_type": "code",
   "execution_count": null,
   "metadata": {},
   "outputs": [],
   "source": [
    "\"5\" + 5;"
   ]
  },
  {
   "cell_type": "markdown",
   "metadata": {},
   "source": [
    "* La siguiente celda regresará un número al convertir a la cadena ```\"5\"``` en el número ```5``` y multiplicarla por el número ```5``` que está a la izquierda del operador ```*```."
   ]
  },
  {
   "cell_type": "code",
   "execution_count": null,
   "metadata": {},
   "outputs": [],
   "source": [
    "5 * \"5\";"
   ]
  },
  {
   "cell_type": "code",
   "execution_count": null,
   "metadata": {},
   "outputs": [],
   "source": [
    "\"5\" * 5;"
   ]
  },
  {
   "cell_type": "markdown",
   "metadata": {},
   "source": [
    "* La siguiente celda regresará una cadena de caracteres que convierte al valor entero ```5``` en un caracter y lo concatena con la cadena ```\"5\"``` que estás a la derecha del operador ```+ ```."
   ]
  },
  {
   "cell_type": "code",
   "execution_count": null,
   "metadata": {},
   "outputs": [],
   "source": [
    "5 + \"Hola\";"
   ]
  },
  {
   "cell_type": "markdown",
   "metadata": {},
   "source": [
    "* La siguiente celda regresará ```NaN```, debido a que la cadena de caracteres no contiene una representación de un número."
   ]
  },
  {
   "cell_type": "code",
   "execution_count": null,
   "metadata": {
    "scrolled": true
   },
   "outputs": [],
   "source": [
    "5 * \"Hola\";"
   ]
  },
  {
   "cell_type": "markdown",
   "metadata": {},
   "source": [
    "## La función ``` typeof()```.\n",
    "\n",
    "Esta función nos permite obtener el tipo de dato que se utiliza."
   ]
  },
  {
   "cell_type": "markdown",
   "metadata": {},
   "source": [
    "**Ejemplos:**"
   ]
  },
  {
   "cell_type": "markdown",
   "metadata": {},
   "source": [
    "* las siguientes celdas deplegarán el tipo de dato que se ingresa como argumento a la función ```typeof()```."
   ]
  },
  {
   "cell_type": "code",
   "execution_count": null,
   "metadata": {},
   "outputs": [],
   "source": [
    "typeof(1);"
   ]
  },
  {
   "cell_type": "code",
   "execution_count": null,
   "metadata": {},
   "outputs": [],
   "source": [
    "typeof({});"
   ]
  },
  {
   "cell_type": "code",
   "execution_count": null,
   "metadata": {},
   "outputs": [],
   "source": [
    "typeof(true);"
   ]
  },
  {
   "cell_type": "code",
   "execution_count": null,
   "metadata": {},
   "outputs": [],
   "source": [
    "typeof('Hola');"
   ]
  },
  {
   "cell_type": "code",
   "execution_count": null,
   "metadata": {},
   "outputs": [],
   "source": [
    "typeof(null);"
   ]
  },
  {
   "cell_type": "code",
   "execution_count": null,
   "metadata": {},
   "outputs": [],
   "source": [
    "typeof(undefined);"
   ]
  },
  {
   "cell_type": "code",
   "execution_count": null,
   "metadata": {},
   "outputs": [],
   "source": [
    "typeof([1, 2, 4]);"
   ]
  },
  {
   "cell_type": "markdown",
   "metadata": {},
   "source": [
    "<p style=\"text-align: center\"><a rel=\"license\" href=\"http://creativecommons.org/licenses/by/4.0/\"><img alt=\"Licencia Creative Commons\" style=\"border-width:0\" src=\"https://i.creativecommons.org/l/by/4.0/80x15.png\" /></a><br />Esta obra está bajo una <a rel=\"license\" href=\"http://creativecommons.org/licenses/by/4.0/\">Licencia Creative Commons Atribución 4.0 Internacional</a>.</p>\n",
    "<p style=\"text-align: center\">&copy; José Luis Chiquete Valdivieso. 2020.</p>"
   ]
  }
 ],
 "metadata": {
  "kernelspec": {
   "display_name": "Javascript (Node.js)",
   "language": "javascript",
   "name": "javascript"
  },
  "language_info": {
   "file_extension": ".js",
   "mimetype": "application/javascript",
   "name": "javascript",
   "version": "8.10.0"
  }
 },
 "nbformat": 4,
 "nbformat_minor": 2
}
