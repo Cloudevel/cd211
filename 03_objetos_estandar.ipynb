{
 "cells": [
  {
   "cell_type": "markdown",
   "metadata": {},
   "source": [
    "[![cloudevel](Imagenes/cloudevel.png)](https://cloudevel.com)"
   ]
  },
  {
   "cell_type": "markdown",
   "metadata": {},
   "source": [
    "## Objetos estándar.\n",
    "\n",
    "*Javascript* define una serie de objetos que son parte fundamental del lenguaje de programación "
   ]
  },
  {
   "cell_type": "markdown",
   "metadata": {},
   "source": [
    "## El objeto global.\n",
    "\n",
    "Este es el objeto que contiene al intérprete de *Javascript*, el cual es el encargado de recibir y ejecutar el código.\n",
    "\n",
    "* Si se está ejecutando *Javascript* desde la consola de un navegador, el objeto global es ```window```. Es llamado así porque cada ventana del navegador cuenta con un entorno independiente de las otras.\n",
    "* Si se está ejecutando *Javascript* desde *Node.js* el objeto global es ```global```.\n",
    "* Las versiones más actualizadas de *Node.js* y los navegadores han unificado el nombre del objeto global como ```globalThis``` ."
   ]
  },
  {
   "cell_type": "markdown",
   "metadata": {},
   "source": [
    "**Ejemplos:**"
   ]
  },
  {
   "cell_type": "markdown",
   "metadata": {},
   "source": [
    "* En caso de que se esté ejecutando esta notebook con el kernel de *ijavascript*,  la siguiente celda desplegará la información del objeto global del intérprete al que dicho kernel está ligado."
   ]
  },
  {
   "cell_type": "code",
   "execution_count": null,
   "metadata": {},
   "outputs": [],
   "source": [
    "global;"
   ]
  },
  {
   "cell_type": "markdown",
   "metadata": {},
   "source": [
    "## Propiedades globales.\n",
    "\n",
    "* ```undefined``` implica algo cuyo valor no se ha asignado.\n",
    "* ```null``` implica un valor nulo.\n",
    "* ```Infinity``` implica una cantidad infinita.\n",
    "* ```NaN``` implica algo que no es un número."
   ]
  },
  {
   "cell_type": "markdown",
   "metadata": {},
   "source": [
    "## Tipos de datos básicos.\n",
    "\n",
    "* ```Number``` para números. \n",
    "* ```String``` para cadenas de caracteres.\n",
    "* ```Boolean``` para valores booleanos.\n",
    "* ```Object``` para cualquier tipo de objeto.\n",
    "* ```Symbol```"
   ]
  },
  {
   "cell_type": "markdown",
   "metadata": {},
   "source": [
    "### Colecciones.\n",
    "\n",
    "* ```Array``` define una colección ordenadas e indexada de datos.\n",
    "* ```Set``` permite crear colecciones de datos que se comportan como conjuntos.\n",
    "* ```Map``` permiten crear colecciones de pares mapeables mediante la sintaxis ```<clave>:<valor>```.\n",
    "* ```WeakMap``` permiten crear colecciones de pares mapeables mediante la sintaxis ```<clave>:<valor>``` con caracteristicas particulares.\n",
    "* ```ArrayBuffer``` permite crear un arreglo de bytes.\n",
    "* ```DataView``` permite acceder y manipular objetos ```ArrayBuffer```."
   ]
  },
  {
   "cell_type": "markdown",
   "metadata": {},
   "source": [
    "### Funciones.\n",
    "\n",
    "* ```Function``` este es el tipo para todas las funciones de Javascript.\n",
    "* ```arguments``` captura los argumentos de una función.\n",
    "* ```Generator``` permite crear generadores.\n",
    "* ```GeneratorFunction```  permite crear funciones de generadores."
   ]
  },
  {
   "cell_type": "markdown",
   "metadata": {},
   "source": [
    "### Objetos adicionales.\n",
    "\n",
    "* ```JSON``` permite crear objetos basados en la *Notación de objetos de Javascript* (*JSON* por sus siglas en inglés).\n",
    "* ```Date``` es un objeto que permite crear otros objetos capaces de getionar formatos de fecha.\n",
    "* ```Math``` contiene una serie de métodos para realizar operaciones matemática básicas.\n",
    "* ```RegExp``` permite realizar búsqueda de patrones en ujhna cadena de caracteres por medio de expresiones regulares.\n",
    "* ```BigInt``` permite gestionar números enteros grandes."
   ]
  },
  {
   "cell_type": "markdown",
   "metadata": {},
   "source": [
    "### Operaciones asíncronas.\n",
    "\n",
    "* ```Promise``` este objeto permite realizar operaciones asíncronas.\n",
    "* ```Reflect``` permiten realizar operaciones asíncronas avanzadas.\n",
    "* ```Proxy```  permiten realizar operaciones asíncronas avanzadas."
   ]
  },
  {
   "cell_type": "markdown",
   "metadata": {},
   "source": [
    "### Excepciones.\n",
    "\n",
    "* ```Error``` es la base para la gestiónde excepciones."
   ]
  },
  {
   "cell_type": "markdown",
   "metadata": {},
   "source": [
    "<p style=\"text-align: center\"><a rel=\"license\" href=\"http://creativecommons.org/licenses/by/4.0/\"><img alt=\"Licencia Creative Commons\" style=\"border-width:0\" src=\"https://i.creativecommons.org/l/by/4.0/80x15.png\" /></a><br />Esta obra está bajo una <a rel=\"license\" href=\"http://creativecommons.org/licenses/by/4.0/\">Licencia Creative Commons Atribución 4.0 Internacional</a>.</p>\n",
    "<p style=\"text-align: center\">&copy; José Luis Chiquete Valdivieso. 2019.</p>"
   ]
  }
 ],
 "metadata": {
  "kernelspec": {
   "display_name": "Javascript (Node.js)",
   "language": "javascript",
   "name": "javascript"
  },
  "language_info": {
   "file_extension": ".js",
   "mimetype": "application/javascript",
   "name": "javascript",
   "version": "8.10.0"
  }
 },
 "nbformat": 4,
 "nbformat_minor": 2
}
