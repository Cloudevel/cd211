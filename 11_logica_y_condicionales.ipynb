{
 "cells": [
  {
   "cell_type": "markdown",
   "metadata": {},
   "source": [
    "[![cloudevel](Imagenes/cloudevel.png)](https://cloudevel.com)"
   ]
  },
  {
   "cell_type": "markdown",
   "metadata": {},
   "source": [
    "# Expresiones lógicas.\n",
    "\n",
    "Una expresión lógica es una sucesión de operadores y valores que da por resultasdo un valor booleano ```true``` o ```false```.\n",
    "\n",
    "Para que una expresión lógica de un resultado verdadero (```true```) o falso (```false```) es necesario comparar un valor con otro.\n",
    "\n",
    "## Operadores de evaluación lógica.\n",
    "Para lograr este fin, Javascript cuenta con los siguientes operadores lógicos:\n",
    "\n",
    "|Operador|Evalúa          |\n",
    "|:------:|:---------------|\n",
    "|```==```    |```a == b``` ¿el valor de a igual al valor de b?|\n",
    "|```!=``` \t |```a != b``` ¿el valor de a distinto al valor de b?|\n",
    "|```>```     |```a > b``` ¿a mayor que b?|\n",
    "|```<``` \t |```a < b``` ¿a menor que b?|\n",
    "|```>=```    |```a >= b``` ¿a mayor o igual que b?|\n",
    "|```<=```    |```a <= b``` ¿a menor o igual que b?|\n",
    "|```===```   |```a === b``` ¿el valor de a es igual al valor de b y ambos son del mismo tipo?|\n",
    "|```!==```   |```a !== b``` ¿a es de distinto tipo que b?|\n",
    "\n",
    "**Nota:** Es un error extremadamente común confundir el operador de asignación ```=``` con el operador de igualdad ```==```, por lo que es necesario ser ciudadoso y evitar errores de sintaxis.\n",
    "\n",
    "Debido a que *Javascript* no es un lenguaje de tipado estricto, es posible hacer comparaciones entre números y cadenas de caracteres con resultados contradictorios."
   ]
  },
  {
   "cell_type": "markdown",
   "metadata": {},
   "source": [
    "**Ejemplos:**"
   ]
  },
  {
   "cell_type": "code",
   "execution_count": null,
   "metadata": {},
   "outputs": [],
   "source": [
    "2 == \"2\";"
   ]
  },
  {
   "cell_type": "code",
   "execution_count": null,
   "metadata": {},
   "outputs": [],
   "source": [
    "2 == \"2b\";"
   ]
  },
  {
   "cell_type": "code",
   "execution_count": null,
   "metadata": {},
   "outputs": [],
   "source": [
    "0 != true;"
   ]
  },
  {
   "cell_type": "code",
   "execution_count": null,
   "metadata": {},
   "outputs": [],
   "source": [
    "1 == true;"
   ]
  },
  {
   "cell_type": "code",
   "execution_count": null,
   "metadata": {},
   "outputs": [],
   "source": [
    "0 == false;"
   ]
  },
  {
   "cell_type": "code",
   "execution_count": null,
   "metadata": {},
   "outputs": [],
   "source": [
    "\"hola\" == true;"
   ]
  },
  {
   "cell_type": "code",
   "execution_count": null,
   "metadata": {},
   "outputs": [],
   "source": [
    "\"1\" == true;"
   ]
  },
  {
   "cell_type": "code",
   "execution_count": null,
   "metadata": {},
   "outputs": [],
   "source": [
    "4 == true;"
   ]
  },
  {
   "cell_type": "code",
   "execution_count": null,
   "metadata": {},
   "outputs": [],
   "source": [
    "2 === \"2\";"
   ]
  },
  {
   "cell_type": "code",
   "execution_count": null,
   "metadata": {},
   "outputs": [],
   "source": [
    "1 === true;"
   ]
  },
  {
   "cell_type": "code",
   "execution_count": null,
   "metadata": {},
   "outputs": [],
   "source": [
    "5 > \"Hola\";"
   ]
  },
  {
   "cell_type": "code",
   "execution_count": null,
   "metadata": {},
   "outputs": [],
   "source": [
    "5 < \"Hola\";"
   ]
  },
  {
   "cell_type": "code",
   "execution_count": null,
   "metadata": {},
   "outputs": [],
   "source": [
    "\"1000\" >= \"a12\";"
   ]
  },
  {
   "cell_type": "code",
   "execution_count": null,
   "metadata": {},
   "outputs": [],
   "source": [
    "\"1000\" <= \"10000\";"
   ]
  },
  {
   "cell_type": "code",
   "execution_count": null,
   "metadata": {},
   "outputs": [],
   "source": [
    "1000 >= \"12\";"
   ]
  },
  {
   "cell_type": "code",
   "execution_count": null,
   "metadata": {},
   "outputs": [],
   "source": [
    "null == 0;"
   ]
  },
  {
   "cell_type": "code",
   "execution_count": null,
   "metadata": {},
   "outputs": [],
   "source": [
    "[] == 0;"
   ]
  },
  {
   "cell_type": "code",
   "execution_count": null,
   "metadata": {},
   "outputs": [],
   "source": [
    "[] == false;"
   ]
  },
  {
   "cell_type": "code",
   "execution_count": null,
   "metadata": {},
   "outputs": [],
   "source": [
    "undefined == 0;"
   ]
  },
  {
   "cell_type": "code",
   "execution_count": null,
   "metadata": {},
   "outputs": [],
   "source": [
    "null == 0;"
   ]
  },
  {
   "cell_type": "code",
   "execution_count": null,
   "metadata": {},
   "outputs": [],
   "source": [
    "undefined == false;"
   ]
  },
  {
   "cell_type": "code",
   "execution_count": null,
   "metadata": {},
   "outputs": [],
   "source": [
    "null == false;"
   ]
  },
  {
   "cell_type": "code",
   "execution_count": null,
   "metadata": {},
   "outputs": [],
   "source": [
    "[] === 0;"
   ]
  },
  {
   "cell_type": "code",
   "execution_count": null,
   "metadata": {},
   "outputs": [],
   "source": [
    "[] !== 0;"
   ]
  },
  {
   "cell_type": "code",
   "execution_count": null,
   "metadata": {},
   "outputs": [],
   "source": [
    "25.43 >= 17;"
   ]
  },
  {
   "cell_type": "code",
   "execution_count": null,
   "metadata": {},
   "outputs": [],
   "source": [
    "let saludo = \"HoLa\";"
   ]
  },
  {
   "cell_type": "code",
   "execution_count": null,
   "metadata": {},
   "outputs": [],
   "source": [
    "saludo == 'hola';"
   ]
  },
  {
   "cell_type": "code",
   "execution_count": null,
   "metadata": {},
   "outputs": [],
   "source": [
    "saludo.toLowerCase();"
   ]
  },
  {
   "cell_type": "code",
   "execution_count": null,
   "metadata": {},
   "outputs": [],
   "source": [
    "saludo;"
   ]
  },
  {
   "cell_type": "code",
   "execution_count": null,
   "metadata": {},
   "outputs": [],
   "source": [
    "saludo.toLowerCase() == 'hola';"
   ]
  },
  {
   "cell_type": "code",
   "execution_count": null,
   "metadata": {},
   "outputs": [],
   "source": [
    "typeof(Hola) == String;"
   ]
  },
  {
   "cell_type": "code",
   "execution_count": null,
   "metadata": {},
   "outputs": [],
   "source": [
    "Hola;"
   ]
  },
  {
   "cell_type": "code",
   "execution_count": null,
   "metadata": {},
   "outputs": [],
   "source": [
    "typeof(\"Hola\") == 'string';"
   ]
  },
  {
   "cell_type": "markdown",
   "metadata": {},
   "source": [
    "## El operador ```in```.\n",
    "El operador ```in``` permite saber si un índice está dentro del rango de  de un objeto. "
   ]
  },
  {
   "cell_type": "code",
   "execution_count": null,
   "metadata": {
    "scrolled": true
   },
   "outputs": [],
   "source": [
    "0 in [\"delantero\", \"defensa\", \"portero\", \"árbitro\"];"
   ]
  },
  {
   "cell_type": "code",
   "execution_count": null,
   "metadata": {
    "scrolled": true
   },
   "outputs": [],
   "source": [
    "7 in [\"delantero\", \"defensa\", \"portero\", \"árbitro\"];"
   ]
  },
  {
   "cell_type": "markdown",
   "metadata": {},
   "source": [
    "## Operadores de lógica booleana.\n",
    "\n",
    "Los operadores de lógica booleana permiten crear proposiciones lógicas compuestas dentro de una expresión.\n",
    "\n",
    "|Operación|Operador|Evalúa|\n",
    "|:----:|:------:|:----:|\n",
    "|OR|  <code>&#124;&#124;</code> |```a```<code>&#124;&#124;</code>```b``` ¿Se cumplen ```a``` o ```b```?|\n",
    "|AND|```&&``` \t |```a && b``` ¿Se comple ```a``` y  ```b?```|\n",
    "|NOT|```!* ```   |```!x``` Complemento de ```x```|"
   ]
  },
  {
   "cell_type": "markdown",
   "metadata": {},
   "source": [
    "### Tablas de la verdad. \n",
    "\n",
    "Las tablas de la verdad permiten conocer el comportamiento de un operador dependiendo del valor que tomen los elementos.\n",
    "\n",
    "|<code>&#124;&#124;</code>| ```true```|```false```|\n",
    "|---|---|---|\n",
    "|```true```|```true```|```true```|\n",
    "|```false```|```true```|```false```|\n",
    "\n",
    "\n",
    "|```&&```|```true```|```false```|\n",
    "|---|---|---|\n",
    "|```true```|```true```|```false```|\n",
    "|```false```|```false```|```false```|"
   ]
  },
  {
   "cell_type": "markdown",
   "metadata": {},
   "source": [
    "**Ejemplos:**"
   ]
  },
  {
   "cell_type": "code",
   "execution_count": null,
   "metadata": {},
   "outputs": [],
   "source": [
    "true && false;"
   ]
  },
  {
   "cell_type": "code",
   "execution_count": null,
   "metadata": {},
   "outputs": [],
   "source": [
    "(12 / 3) + 2 - 1 == 1;"
   ]
  },
  {
   "cell_type": "code",
   "execution_count": null,
   "metadata": {},
   "outputs": [],
   "source": [
    "15 >= 6;"
   ]
  },
  {
   "cell_type": "code",
   "execution_count": null,
   "metadata": {},
   "outputs": [],
   "source": [
    "(12 / 3) + 2 - 1 == 1 && 15 >= 6;"
   ]
  },
  {
   "cell_type": "code",
   "execution_count": null,
   "metadata": {},
   "outputs": [],
   "source": [
    "(12 / 3) + 2 - 1 == 1 || 15 >= 6;"
   ]
  },
  {
   "cell_type": "code",
   "execution_count": null,
   "metadata": {},
   "outputs": [],
   "source": [
    "!((12 / 3) + 2 - 1 == 1);"
   ]
  },
  {
   "cell_type": "code",
   "execution_count": null,
   "metadata": {},
   "outputs": [],
   "source": [
    "(12 / 3) + 2 - 1 == 1 && 15 >= 6 || 12 == 5;"
   ]
  },
  {
   "cell_type": "code",
   "execution_count": null,
   "metadata": {},
   "outputs": [],
   "source": [
    "(12 / 3) + 2 - 1 == 1 || 15 >= 6 || 12 == 5;"
   ]
  },
  {
   "cell_type": "code",
   "execution_count": null,
   "metadata": {},
   "outputs": [],
   "source": [
    "true || false;"
   ]
  },
  {
   "cell_type": "code",
   "execution_count": null,
   "metadata": {},
   "outputs": [],
   "source": [
    "!true;"
   ]
  },
  {
   "cell_type": "markdown",
   "metadata": {},
   "source": [
    "En estos ejemplos se evaluara si el valor dentro de una variable se encuentra en un rango."
   ]
  },
  {
   "cell_type": "code",
   "execution_count": null,
   "metadata": {},
   "outputs": [],
   "source": [
    "let numero = 12;"
   ]
  },
  {
   "cell_type": "code",
   "execution_count": null,
   "metadata": {},
   "outputs": [],
   "source": [
    "numero > 5 && numero < 43;"
   ]
  },
  {
   "cell_type": "code",
   "execution_count": null,
   "metadata": {},
   "outputs": [],
   "source": [
    "numero > 12 && numero < 43;"
   ]
  },
  {
   "cell_type": "code",
   "execution_count": null,
   "metadata": {},
   "outputs": [],
   "source": [
    "numero >= 12 && numero < 43;"
   ]
  },
  {
   "cell_type": "markdown",
   "metadata": {},
   "source": [
    "## Precedencia de los operadores y los paréntesis.\n",
    "\n",
    "Los operadores lógicos se evalúan de izquierda a derecha, pero a los componentes encerrados dentro del paréntesis se les evalúa primero."
   ]
  },
  {
   "cell_type": "code",
   "execution_count": null,
   "metadata": {},
   "outputs": [],
   "source": [
    "!false && true || true;"
   ]
  },
  {
   "cell_type": "code",
   "execution_count": null,
   "metadata": {},
   "outputs": [],
   "source": [
    "!(false && true || true);"
   ]
  },
  {
   "cell_type": "code",
   "execution_count": null,
   "metadata": {},
   "outputs": [],
   "source": [
    "!false && (true || true);"
   ]
  },
  {
   "cell_type": "code",
   "execution_count": null,
   "metadata": {
    "scrolled": true
   },
   "outputs": [],
   "source": [
    "!(false && true) || true;"
   ]
  },
  {
   "cell_type": "markdown",
   "metadata": {},
   "source": [
    "## Expresiones ternarias.\n",
    "\n",
    "Una expresión ternaria permite a partir de una expresión lógica ejecutar una expresión en caso de que el resultado sea ```true``` u otra en caso de que sea ```false```.\n",
    "\n",
    "``` \n",
    "<expresión lógica> ? <expresión true> : <expresión false>; \n",
    "```"
   ]
  },
  {
   "cell_type": "markdown",
   "metadata": {},
   "source": [
    "**Ejemplo:**"
   ]
  },
  {
   "cell_type": "code",
   "execution_count": null,
   "metadata": {},
   "outputs": [],
   "source": [
    "let numero = 2;"
   ]
  },
  {
   "cell_type": "code",
   "execution_count": null,
   "metadata": {},
   "outputs": [],
   "source": [
    "numero % 2 == 0 ? 'par' : 'non';"
   ]
  },
  {
   "cell_type": "code",
   "execution_count": null,
   "metadata": {},
   "outputs": [],
   "source": [
    "numero = 3;"
   ]
  },
  {
   "cell_type": "code",
   "execution_count": null,
   "metadata": {},
   "outputs": [],
   "source": [
    "numero % 2 == 0 ? 'par' : 'non';"
   ]
  },
  {
   "cell_type": "markdown",
   "metadata": {},
   "source": [
    "##  Declaraciones.\n",
    "\n",
    "Las declaraciones son bloques de código que ejecutan diversas expresiones, pero no regresan un valor."
   ]
  },
  {
   "cell_type": "markdown",
   "metadata": {},
   "source": [
    "### Delimitación de bloques de código.\n",
    "\n",
    "En *Javasacript* un bloque de código se delimita mediante llaves ```{}```.\n",
    "\n",
    "La indentación (espacios en blanco o tabuladores al iniciar una línea) se utiliza sólo como buena práctica para identificar los bloques de código de mejor manera."
   ]
  },
  {
   "cell_type": "markdown",
   "metadata": {},
   "source": [
    "## Condicional ```if()```.\n",
    "Un condicional permite ejecutar cierto bloque de código delimitado dentro de éste en caso de que una condición dada sea ```true```.\n",
    "\n",
    "El el caso de Javascript es obligatorio que las condiciones lógicas estén encerradas entre paréntesis.\n",
    "\n",
    "```\n",
    "if (<expresión lógica) {\n",
    "    <código>\n",
    "}\n",
    "```"
   ]
  },
  {
   "cell_type": "code",
   "execution_count": null,
   "metadata": {},
   "outputs": [],
   "source": [
    "let animal;"
   ]
  },
  {
   "cell_type": "code",
   "execution_count": null,
   "metadata": {},
   "outputs": [],
   "source": [
    "animal = \"gato\";\n",
    "\n",
    "/* despliega un mensaje indicando el valor de animal. */\n",
    "console.log(\"El animal es un\", animal + \".\");\n",
    "\n",
    "/* evalúa el valor de la variable animal. */\n",
    "if (animal == \"gato\") {\n",
    "    console.log(\"Los gatos maullan.\");\n",
    "}\n",
    "\n",
    "/* despliega un mensaje final. */\n",
    "console.log(\"Tenga un buen día.\");"
   ]
  },
  {
   "cell_type": "markdown",
   "metadata": {},
   "source": [
    "Ahora bien. Si en lugar de *\"gato\"* el valor de la variable *animal* es *\"perro\"*,entonces el código indentado no se ejecuta:"
   ]
  },
  {
   "cell_type": "code",
   "execution_count": null,
   "metadata": {},
   "outputs": [],
   "source": [
    "animal = \"perro\";\n",
    "\n",
    "/* despliega un mensaje indicando el valor de animal. */\n",
    "console.log(\"El animal es un\", animal + \".\");\n",
    "\n",
    "/* evalúa el valor de la variable animal. */\n",
    "if (animal == \"gato\") {\n",
    "    console.log(\"Los gatos maullan.\");\n",
    "}\n",
    "\n",
    "/* despliega un mensaje final. */\n",
    "console.log(\"Tenga un buen día.\");"
   ]
  },
  {
   "cell_type": "markdown",
   "metadata": {},
   "source": [
    "Javascript es sensible a las mayúsculas."
   ]
  },
  {
   "cell_type": "code",
   "execution_count": null,
   "metadata": {},
   "outputs": [],
   "source": [
    "animal = \"Gato\";\n",
    "\n",
    "/* despliega un mensaje indicando el valor de animal. */\n",
    "console.log(\"El animal es un\", animal + \".\");\n",
    "\n",
    "/* evalúa el valor de la variable animal. */\n",
    "if (animal == \"gato\") {\n",
    "    console.log(\"Los gatos maullan.\");\n",
    "}\n",
    "\n",
    "/* despliega un mensaje final. */\n",
    "console.log(\"Tenga un buen día.\");"
   ]
  },
  {
   "cell_type": "markdown",
   "metadata": {},
   "source": [
    "## Estructura ``if ()``  ... ```else```.\n",
    "\n",
    "En esta estructura, el bloque de código delimitado por ```else``` se ejecuta en caso de que la expresión lógica del ```ìf``` sea ```false```.\n",
    "\n",
    "```\n",
    "if (<expresión lógica) {\n",
    "    <código 1>\n",
    "    }\n",
    "else {\n",
    "    <código 2>\n",
    "}\n",
    "```"
   ]
  },
  {
   "cell_type": "code",
   "execution_count": null,
   "metadata": {},
   "outputs": [],
   "source": [
    "animal = \"Gato\";\n",
    "\n",
    "/* despliega un mensaje indicando el valor de animal. */\n",
    "console.log(\"El animal es un\", animal + \".\");\n",
    "\n",
    "/* evalúa el valor de la variable animal. */\n",
    "if (animal == \"gato\") {\n",
    "    console.log(\"Los gatos maullan.\");\n",
    "}\n",
    "/* si el resultado de la evaluación es false */\n",
    "else {\n",
    "    console.log(\"No identifico al animal.\");\n",
    "}\n",
    "console.log(\"Tenga un buen día.\");"
   ]
  },
  {
   "cell_type": "markdown",
   "metadata": {},
   "source": [
    "## Estructura ```if ()``` ... ```else if()``` ... ```else```.\n",
    "\n",
    "Existen casos en los que se deben evaluar diversas condiciones. *Javascript* permite evaluar más de una condición con la combinación ```else if()```. \n",
    "\n",
    "Tan pronto como una condición sea verdadera, esta se ejecutará y el flujo de código continúa con el bloque de mayor jerarquía.\n",
    "\n",
    "```\n",
    "if (<expresión lógica 1) {\n",
    "    <código 1>\n",
    "    }\n",
    "else if (<expresión lógica 2) {\n",
    "    <código 2>\n",
    "    } \n",
    "...\n",
    "...\n",
    "else if (<expresión lógica n) {\n",
    "    <código n>\n",
    "    } \n",
    "else {\n",
    "    <código n + 1>\n",
    "}\n",
    "```"
   ]
  },
  {
   "cell_type": "code",
   "execution_count": null,
   "metadata": {},
   "outputs": [],
   "source": [
    "let variable;"
   ]
  },
  {
   "cell_type": "code",
   "execution_count": null,
   "metadata": {},
   "outputs": [],
   "source": [
    "variable = 12.3;\n",
    "console.log(\"El número es\", variable);\n",
    "\n",
    "/* evalúa si el valor es mayor que cero. */\n",
    "if (variable > 0) {\n",
    "    console.log(\"El número es positivo.\");\n",
    "}\n",
    "\n",
    "/* evalúa si el valor es menor que cero. */\n",
    "else if (variable < 0) {\n",
    "    console.log(\"El número es negativo.\");    \n",
    "}\n",
    "\n",
    "/* si ninguna de las condiciones es true, se ejecuta lo siguiente*/\n",
    "else {\n",
    "    console.log(\"El número es cero.\");\n",
    "}\n",
    "console.log(\"Buen día.\");"
   ]
  },
  {
   "cell_type": "code",
   "execution_count": null,
   "metadata": {},
   "outputs": [],
   "source": [
    "variable = -0.00000000001;\n",
    "console.log(\"El número es\", variable);\n",
    "\n",
    "/* evalúa si el valor es mayor que cero. */\n",
    "if (variable > 0) {\n",
    "    console.log(\"El número es positivo.\");\n",
    "}\n",
    "\n",
    "/* evalúa si el valor es menor que cero. */\n",
    "else if (variable < 0) {\n",
    "    console.log(\"El número es negativo.\");    \n",
    "}\n",
    "\n",
    "/* si ninguna de las condiciones es true, se ejecuta lo siguiente*/\n",
    "else {\n",
    "    console.log(\"El número es cero.\");\n",
    "}\n",
    "console.log(\"Buen día.\");"
   ]
  },
  {
   "cell_type": "code",
   "execution_count": null,
   "metadata": {},
   "outputs": [],
   "source": [
    "variable = 0;\n",
    "console.log(\"El número es\", variable);\n",
    "\n",
    "/* evalúa si el valor es mayor que cero. */\n",
    "if (variable > 0) {\n",
    "    console.log(\"El número es positivo.\");\n",
    "}\n",
    "\n",
    "/* evalúa si el valor es menor que cero. */\n",
    "else if (variable < 0) {\n",
    "    console.log(\"El número es negativo.\");    \n",
    "}\n",
    "\n",
    "/* si ninguna de las condiciones es true, se ejecuta lo siguiente*/\n",
    "else {\n",
    "    console.log(\"El número es cero.\");\n",
    "}\n",
    "console.log(\"Buen día.\");"
   ]
  },
  {
   "cell_type": "markdown",
   "metadata": {
    "collapsed": true
   },
   "source": [
    "## Bloques \"anidados\".\n",
    "Es posible colocar bloques dentro de otros y cada bloque está delimitado por las llaves ```{}```, tal como se ejemplifica a continuación. \n",
    "Estos bloques anidados pueden ser de diversos tipos, pero en este caso se usarán los condicionales conocidos:"
   ]
  },
  {
   "cell_type": "code",
   "execution_count": null,
   "metadata": {},
   "outputs": [],
   "source": [
    "let cantidad;"
   ]
  },
  {
   "cell_type": "code",
   "execution_count": null,
   "metadata": {},
   "outputs": [],
   "source": [
    "cantidad = 12;\n",
    "console.log(\"La variable es\", cantidad + \".\");\n",
    "\n",
    "/* evalua si es una representación de un número*/\n",
    "if (cantidad == Number(cantidad))\n",
    "{\n",
    "    console.log(\"El valor representa a un número.\");\n",
    "    \n",
    "    /* evalua si es de tipo numérico*/\n",
    "    if (typeof(cantidad) == 'number')\n",
    "    {\n",
    "        console.log(\"La variable es de tipo numérico.\");  \n",
    "    }\n",
    "    else \n",
    "    {\n",
    "        console.log(\"La variable no es de tipo numérico.\"); \n",
    "    }\n",
    "}\n",
    "else {\n",
    "    console.log(\"La variable no representa a un número.\");\n",
    "}"
   ]
  },
  {
   "cell_type": "code",
   "execution_count": null,
   "metadata": {},
   "outputs": [],
   "source": [
    "cantidad = \"Hola\";\n",
    "console.log(\"La variable es\", cantidad + \".\");\n",
    "\n",
    "/* evalua si es una representación de un número*/\n",
    "if (cantidad == Number(cantidad))\n",
    "{\n",
    "    console.log(\"El valor representa a un número.\");\n",
    "    \n",
    "    /* evalua si es de tipo numérico*/\n",
    "    if (typeof(cantidad) == 'number')\n",
    "    {\n",
    "        console.log(\"La variable es de tipo numérico.\");  \n",
    "    }\n",
    "    else \n",
    "    {\n",
    "        console.log(\"La variable no es de tipo numérico.\"); \n",
    "    }\n",
    "}\n",
    "else {\n",
    "    console.log(\"La variable no representa a un número.\");\n",
    "}"
   ]
  },
  {
   "cell_type": "code",
   "execution_count": null,
   "metadata": {},
   "outputs": [],
   "source": [
    "cantidad = \"22\";\n",
    "console.log(\"La variable es\", cantidad + \".\");\n",
    "\n",
    "/* evalua si es una representación de un número*/\n",
    "if (cantidad == Number(cantidad))\n",
    "{\n",
    "    console.log(\"El valor representa a un número.\");\n",
    "    \n",
    "    /* evalua si es de tipo numérico*/\n",
    "    if (typeof(cantidad) == 'number')\n",
    "    {\n",
    "        console.log(\"La variable es de tipo numérico.\");  \n",
    "    }\n",
    "    else \n",
    "    {\n",
    "        console.log(\"La variable no es de tipo numérico.\"); \n",
    "    }\n",
    "}\n",
    "else {\n",
    "    console.log(\"La variable no representa a un número.\");\n",
    "}"
   ]
  },
  {
   "cell_type": "markdown",
   "metadata": {
    "collapsed": true
   },
   "source": [
    "## Estructura ```switch()```... ```case()```.\n",
    "\n",
    "* La declaración *switch* evalúa una expresión. \n",
    "* La declaración *case* corresponde a posibles valores resultantes de la expresión, y en caso de que exista una conicidencia, se ejecutará el bloque correspondiente.\n",
    "\n",
    "```\n",
    "switch(<expresión>)\n",
    "{\n",
    "    case(<valor 1>):\n",
    "    {\n",
    "        <bloque de código 1>\n",
    "    }\n",
    "    case(<valor 2>):\n",
    "    {\n",
    "        <bloque de código 2>\n",
    "    }\n",
    "    ...\n",
    "    ...\n",
    "    case(<valor n>):\n",
    "    {\n",
    "        <bloque de código n>\n",
    "    }\n",
    "}\n",
    "```"
   ]
  },
  {
   "cell_type": "markdown",
   "metadata": {},
   "source": [
    "**Ejemplo:**"
   ]
  },
  {
   "cell_type": "code",
   "execution_count": null,
   "metadata": {},
   "outputs": [],
   "source": [
    "let producto;"
   ]
  },
  {
   "cell_type": "code",
   "execution_count": null,
   "metadata": {},
   "outputs": [],
   "source": [
    "producto = \"llanta\";\n",
    "\n",
    "switch(producto.toLowerCase())\n",
    "    {\n",
    "        case \"volante\":\n",
    "        {\n",
    "            console.log('El volante cuesta $250.00');\n",
    "        }\n",
    "        case \"llanta\":\n",
    "        {\n",
    "            console.log('La llanta cuesta $500.00');\n",
    "        }\n",
    "    }"
   ]
  },
  {
   "cell_type": "code",
   "execution_count": null,
   "metadata": {},
   "outputs": [],
   "source": [
    "producto = \"llanta\";\n",
    "\n",
    "switch(producto.toLowerCase())\n",
    "    {\n",
    "        case \"volante\":\n",
    "        {\n",
    "            console.log('El volante cuesta $250.00.');\n",
    "        }\n",
    "        case \"rin\":\n",
    "        case \"llanta\":\n",
    "        {\n",
    "            console.log('La llanta y el rin cuestan $500.00 cada uno.');\n",
    "        }\n",
    "    }"
   ]
  },
  {
   "cell_type": "markdown",
   "metadata": {},
   "source": [
    "<p style=\"text-align: center\"><a rel=\"license\" href=\"http://creativecommons.org/licenses/by/4.0/\"><img alt=\"Licencia Creative Commons\" style=\"border-width:0\" src=\"https://i.creativecommons.org/l/by/4.0/80x15.png\" /></a><br />Esta obra está bajo una <a rel=\"license\" href=\"http://creativecommons.org/licenses/by/4.0/\">Licencia Creative Commons Atribución 4.0 Internacional</a>.</p>\n",
    "<p style=\"text-align: center\">&copy; José Luis Chiquete Valdivieso. 2019.</p>"
   ]
  }
 ],
 "metadata": {
  "kernelspec": {
   "display_name": "Javascript (Node.js)",
   "language": "javascript",
   "name": "javascript"
  },
  "language_info": {
   "file_extension": ".js",
   "mimetype": "application/javascript",
   "name": "javascript",
   "version": "8.10.0"
  }
 },
 "nbformat": 4,
 "nbformat_minor": 1
}
