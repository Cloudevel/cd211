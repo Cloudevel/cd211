{
 "cells": [
  {
   "cell_type": "markdown",
   "metadata": {},
   "source": [
    "[![cloudevel](Imagenes/cloudevel.png)](https://cloudevel.com)"
   ]
  },
  {
   "cell_type": "markdown",
   "metadata": {},
   "source": [
    "# Funciones.\n",
    "\n",
    "Una función es un bloque de código que puede ser ejecutado cuando se le invoque. En le caso de Javascript*. \n",
    "\n",
    "Las funciones pueden tener nombres o no. A las funciones que no tiene nombre se les conoce como funciones anónimas."
   ]
  },
  {
   "cell_type": "markdown",
   "metadata": {},
   "source": [
    "## Definición de una función.\n",
    "\n",
    "*Javascript* define una función mediante la palabra clave ```function```, seguida opcionalmente por un nombre que se le asignaría a la función y una serie de parámetros iniciales dentro de un paréntesis y posteriormente se ingresa el código encerrado en llaves.\n",
    "\n",
    "``` \n",
    "function <nombre>(<parámetro 1>, <parámetro 2>, ... , <parámetro n>) {\n",
    "   <código>\n",
    "}\n",
    "```"
   ]
  },
  {
   "cell_type": "markdown",
   "metadata": {},
   "source": [
    "### Parámetros.\n",
    "\n",
    "Los parámetros son variables del ámbito local de una función, las cuales deben de tener un valor asignado. \n",
    "\n",
    "Una función no necesariamente debe de definir parámetros."
   ]
  },
  {
   "cell_type": "markdown",
   "metadata": {},
   "source": [
    "**Ejemplo:**"
   ]
  },
  {
   "cell_type": "markdown",
   "metadata": {},
   "source": [
    "* La siguiente celda definirá a la función saluda, la cual no tiene parámetros."
   ]
  },
  {
   "cell_type": "code",
   "execution_count": 1,
   "metadata": {},
   "outputs": [],
   "source": [
    "function saluda()\n",
    "{\n",
    "    console.log(\"Hola\");\n",
    "}"
   ]
  },
  {
   "cell_type": "markdown",
   "metadata": {},
   "source": [
    "### Definición antigua de una función.\n",
    "\n",
    "Es posible definir una función utilizando la siguiente sintaxis:\n",
    "\n",
    "``` \n",
    "var <nombre> = function(<parámetro 1>, <parámetro 2>, ... , <parámetro n>){\n",
    "<código>\n",
    "}\n",
    "```\n",
    "Aún cuando esta sintaxis es aceptable, no se recomienda."
   ]
  },
  {
   "cell_type": "markdown",
   "metadata": {},
   "source": [
    "## Invocación de una función.\n",
    "\n",
    "Para ejecutar una función que no sea anónima se utiliza la siguiente sintaxis:\n",
    "\n",
    "```\n",
    "<nombre de la función>(<argumetos>)';\n",
    "```"
   ]
  },
  {
   "cell_type": "markdown",
   "metadata": {},
   "source": [
    "### Argumentos.\n",
    "\n",
    "Los argumentos son valores que se ingresan y que la función puede utilizar.\n",
    "\n",
    "A diferencia de otros lenguajes de programación *Javascript* permite ingresar más argumentos que parámetros."
   ]
  },
  {
   "cell_type": "markdown",
   "metadata": {},
   "source": [
    "### Valores de retorno de una función.\n",
    "\n",
    "Las funciones siempre regresan un valor que puede ser guardado en una variable, en el caso que no se defina un valor de regreso, se regresaría ```undefined```."
   ]
  },
  {
   "cell_type": "markdown",
   "metadata": {},
   "source": [
    "**Ejemplos:**"
   ]
  },
  {
   "cell_type": "code",
   "execution_count": 4,
   "metadata": {},
   "outputs": [
    {
     "name": "stdout",
     "output_type": "stream",
     "text": [
      "Hola\n"
     ]
    }
   ],
   "source": [
    "saluda(11, 4, 5);"
   ]
  },
  {
   "cell_type": "code",
   "execution_count": 5,
   "metadata": {
    "scrolled": true
   },
   "outputs": [
    {
     "name": "stdout",
     "output_type": "stream",
     "text": [
      "Hola\n"
     ]
    }
   ],
   "source": [
    "saluda();"
   ]
  },
  {
   "cell_type": "code",
   "execution_count": 6,
   "metadata": {},
   "outputs": [
    {
     "data": {
      "text/plain": [
       "'function'"
      ]
     },
     "execution_count": 6,
     "metadata": {},
     "output_type": "execute_result"
    }
   ],
   "source": [
    "typeof(saluda);"
   ]
  },
  {
   "cell_type": "code",
   "execution_count": 7,
   "metadata": {
    "scrolled": true
   },
   "outputs": [
    {
     "name": "stdout",
     "output_type": "stream",
     "text": [
      "Hola\n"
     ]
    },
    {
     "data": {
      "text/plain": [
       "'undefined'"
      ]
     },
     "execution_count": 7,
     "metadata": {},
     "output_type": "execute_result"
    }
   ],
   "source": [
    "typeof(saluda());"
   ]
  },
  {
   "cell_type": "markdown",
   "metadata": {},
   "source": [
    "## Ámbitos."
   ]
  },
  {
   "cell_type": "markdown",
   "metadata": {},
   "source": [
    "### Ámbito global.\n",
    "\n",
    "El objeto ```global``` contiene a las variables que se defienen en el entorno global. Para tener un listado de las variables globales se utilizan los siguientes comando:\n",
    "\n",
    "* En caso de usar la consola de un navegador:\n",
    "\n",
    "``` javascript\n",
    "Object.keys(window);\n",
    "```\n",
    "\n",
    "* En caso de usar Node.js:\n",
    "\n",
    "``` javascript\n",
    "Object.keys(global);\n",
    "```\n",
    "\n",
    "* Em caso de que el entorno soporte ```globalThis```:\n",
    "\n",
    "\n",
    "``` javascript\n",
    "Object.keys(globalThis);\n",
    "```"
   ]
  },
  {
   "cell_type": "markdown",
   "metadata": {},
   "source": [
    "**Ejemplo:**"
   ]
  },
  {
   "cell_type": "code",
   "execution_count": null,
   "metadata": {},
   "outputs": [],
   "source": [
    "Object.keys(global);"
   ]
  },
  {
   "cell_type": "markdown",
   "metadata": {},
   "source": [
    "### Entornos locales."
   ]
  },
  {
   "cell_type": "markdown",
   "metadata": {},
   "source": [
    "### Búsqueda en entornos."
   ]
  },
  {
   "cell_type": "markdown",
   "metadata": {},
   "source": [
    "**Ejemplo:**"
   ]
  },
  {
   "cell_type": "code",
   "execution_count": null,
   "metadata": {},
   "outputs": [],
   "source": [
    "function analisis(){\n",
    "    console.log(\"El número es\", numero);\n",
    "    if (numero > 0) {\n",
    "        console.log(\"El número es positivo.\");\n",
    "    }\n",
    "    else if (numero < 0) {\n",
    "        console.log(\"El número es negativo.\");\n",
    "    }\n",
    "    else if ( numero = 0){\n",
    "        console.log(\"El número es cero.\");\n",
    "    }\n",
    "    else {\n",
    "        console.log(\"No puedo verificar el número.\");\n",
    "    }\n",
    "}"
   ]
  },
  {
   "cell_type": "markdown",
   "metadata": {},
   "source": [
    "Como se puede apreciar, la variable ```numero``` no fue definida en la función.\n",
    "\n",
    "Al invocar la función ```analisis()```, dicha función buscará en su ámbito local y posteriormente en el ámbito general , es decir, en el entorno fuera de la función.\n",
    "\n",
    "Si la variable  no está definida en ninguno de los dos ámbitos, se generará un error."
   ]
  },
  {
   "cell_type": "code",
   "execution_count": null,
   "metadata": {
    "scrolled": true
   },
   "outputs": [],
   "source": [
    "analisis();"
   ]
  },
  {
   "cell_type": "markdown",
   "metadata": {},
   "source": [
    "Si ahora se define la variable *numero* en el ámbito global:"
   ]
  },
  {
   "cell_type": "code",
   "execution_count": null,
   "metadata": {},
   "outputs": [],
   "source": [
    "let numero = 15;"
   ]
  },
  {
   "cell_type": "code",
   "execution_count": null,
   "metadata": {},
   "outputs": [],
   "source": [
    "analisis();"
   ]
  },
  {
   "cell_type": "code",
   "execution_count": null,
   "metadata": {},
   "outputs": [],
   "source": [
    "numero = -3;\n",
    "analisis();"
   ]
  },
  {
   "cell_type": "markdown",
   "metadata": {
    "collapsed": true
   },
   "source": [
    "Ahora bien. Si modificamos la función y se define una variable local con el nombre *numero*."
   ]
  },
  {
   "cell_type": "code",
   "execution_count": null,
   "metadata": {},
   "outputs": [],
   "source": [
    "function analisis(){\n",
    "    let numero = 33;\n",
    "    console.log(\"El número es\", numero);\n",
    "    if (numero > 0) {\n",
    "        console.log(\"El número es positivo.\");\n",
    "    }\n",
    "    else if (numero < 0) {\n",
    "        console.log(\"El número es negativo.\");\n",
    "    }\n",
    "    else if ( numero = 0){\n",
    "        console.log(\"El número es cero.\");\n",
    "    }\n",
    "    else {\n",
    "        console.log(\"No puedo verificar el número.\");\n",
    "    }\n",
    "    console.log(\"Buen día.\");\n",
    "}"
   ]
  },
  {
   "cell_type": "code",
   "execution_count": null,
   "metadata": {},
   "outputs": [],
   "source": [
    "numero;"
   ]
  },
  {
   "cell_type": "code",
   "execution_count": null,
   "metadata": {
    "scrolled": false
   },
   "outputs": [],
   "source": [
    "analisis();"
   ]
  },
  {
   "cell_type": "code",
   "execution_count": null,
   "metadata": {
    "scrolled": true
   },
   "outputs": [],
   "source": [
    "console.log(numero);"
   ]
  },
  {
   "cell_type": "markdown",
   "metadata": {},
   "source": [
    "Incluso si se define una variable con el mismo nombre en el ámbito global, la función usará el valor del ámbito local."
   ]
  },
  {
   "cell_type": "code",
   "execution_count": null,
   "metadata": {},
   "outputs": [],
   "source": [
    "numero = \"Dos\";"
   ]
  },
  {
   "cell_type": "code",
   "execution_count": null,
   "metadata": {},
   "outputs": [],
   "source": [
    "analisis();"
   ]
  },
  {
   "cell_type": "code",
   "execution_count": null,
   "metadata": {},
   "outputs": [],
   "source": [
    "numero;"
   ]
  },
  {
   "cell_type": "markdown",
   "metadata": {},
   "source": [
    "## Parámetros y argumentos.\n",
    "Una función puede aceptar datos al ser invocada. A estos datos se les conoce como argumentos. \n",
    "\n",
    "Los argumentos son guardados en variables locales que se nombran dentro del paréntesis al definir la función y que están separadas por comas.\n",
    "En el caso de la función análisis vamos a definir un parámetro llamado \"*número*:"
   ]
  },
  {
   "cell_type": "code",
   "execution_count": null,
   "metadata": {},
   "outputs": [],
   "source": [
    "function analisis(numero){\n",
    "    console.log(\"El número es\", numero);\n",
    "    if (numero > 0) {\n",
    "        console.log(\"El número es positivo.\");\n",
    "    }\n",
    "    else if (numero < 0) {\n",
    "        console.log(\"El número es negativo.\");\n",
    "    }\n",
    "    else if ( numero = 0){\n",
    "        console.log(\"El número es cero.\");\n",
    "    }\n",
    "    else {\n",
    "        console.log(\"No puedo verificar el número.\");\n",
    "    }\n",
    "    console.log(\"Buen día.\");\n",
    "}"
   ]
  },
  {
   "cell_type": "code",
   "execution_count": null,
   "metadata": {},
   "outputs": [],
   "source": [
    "analisis(22);"
   ]
  },
  {
   "cell_type": "code",
   "execution_count": null,
   "metadata": {},
   "outputs": [],
   "source": [
    "analisis(numero);"
   ]
  },
  {
   "cell_type": "code",
   "execution_count": null,
   "metadata": {},
   "outputs": [],
   "source": [
    "analisis(\"Hola\");"
   ]
  },
  {
   "cell_type": "markdown",
   "metadata": {},
   "source": [
    "Es posible definir un parámetro con un valor por defecto, de tal forma que si no se ingresa un argumento, se usará el valor por defecto:"
   ]
  },
  {
   "cell_type": "code",
   "execution_count": null,
   "metadata": {},
   "outputs": [],
   "source": [
    "function analisis(numero=1){\n",
    "    console.log(\"El número es\", numero);\n",
    "    if (numero > 0) {\n",
    "        console.log(\"El número es positivo.\");\n",
    "    }\n",
    "    else if (numero < 0) {\n",
    "        console.log(\"El número es negativo.\");\n",
    "    }\n",
    "    else if ( numero = 0){\n",
    "        console.log(\"El número es cero.\");\n",
    "    }\n",
    "    else {\n",
    "        console.log(\"No puedo verificar el número.\");\n",
    "    }\n",
    "    console.log(\"Buen día.\");\n",
    "}"
   ]
  },
  {
   "cell_type": "code",
   "execution_count": null,
   "metadata": {},
   "outputs": [],
   "source": [
    "analisis();"
   ]
  },
  {
   "cell_type": "code",
   "execution_count": null,
   "metadata": {},
   "outputs": [],
   "source": [
    "analisis(-5);"
   ]
  },
  {
   "cell_type": "markdown",
   "metadata": {},
   "source": [
    "Aquí un ejemplo de una función con 2 parámetros."
   ]
  },
  {
   "cell_type": "code",
   "execution_count": null,
   "metadata": {},
   "outputs": [],
   "source": [
    "function compara (a, b){\n",
    "    if (a > b) { \n",
    "        console.log(\"El número\", a, \"es mayor que\", b);\n",
    "    }\n",
    "    else if (a < b) {\n",
    "        console.log(\"El número\", a, \"es menor que\", b);\n",
    "    }\n",
    "    else {\n",
    "        console.log(\"El número\", a, \"es igual a\", b);\n",
    "    }\n",
    "}"
   ]
  },
  {
   "cell_type": "code",
   "execution_count": null,
   "metadata": {
    "scrolled": true
   },
   "outputs": [],
   "source": [
    "compara(1, 2);"
   ]
  },
  {
   "cell_type": "code",
   "execution_count": null,
   "metadata": {},
   "outputs": [],
   "source": [
    "compara(1, 2, 3 , 4);"
   ]
  },
  {
   "cell_type": "code",
   "execution_count": null,
   "metadata": {},
   "outputs": [],
   "source": [
    "compara(1);"
   ]
  },
  {
   "cell_type": "code",
   "execution_count": null,
   "metadata": {},
   "outputs": [],
   "source": [
    "compara(1, 2, 4);"
   ]
  },
  {
   "cell_type": "markdown",
   "metadata": {},
   "source": [
    "### Parámetros con valores predefinidos.\n",
    "\n",
    "Si no se van a definir valores por defecto para todos los paraḿetros, los parámetros finales son los que deben contener dichos valores.\n",
    "\n",
    "El primer argumento que se ingrese corresponderá al primer parámetro de la función."
   ]
  },
  {
   "cell_type": "code",
   "execution_count": null,
   "metadata": {},
   "outputs": [],
   "source": [
    "function compara (a=8, b=7){\n",
    "    if (a > b) { \n",
    "        console.log(\"El número\", a, \"es mayor que\", b);\n",
    "    }\n",
    "    else if (a < b) {\n",
    "        console.log(\"El número\", a, \"es menor que\", b);\n",
    "    }\n",
    "    else {\n",
    "        console.log(\"El número\", a, \"es igual a\", b);\n",
    "    }\n",
    "}"
   ]
  },
  {
   "cell_type": "code",
   "execution_count": null,
   "metadata": {},
   "outputs": [],
   "source": [
    "compara()"
   ]
  },
  {
   "cell_type": "code",
   "execution_count": null,
   "metadata": {},
   "outputs": [],
   "source": [
    "compara(3)"
   ]
  },
  {
   "cell_type": "code",
   "execution_count": null,
   "metadata": {},
   "outputs": [],
   "source": [
    "compara(16, 1)"
   ]
  },
  {
   "cell_type": "code",
   "execution_count": null,
   "metadata": {},
   "outputs": [],
   "source": [
    "function compara (a, b=7){\n",
    "    if (a > b) { \n",
    "        console.log(\"El número\", a, \"es mayor que\", b);\n",
    "    }\n",
    "    else if (a < b) {\n",
    "        console.log(\"El número\", a, \"es menor que\", b);\n",
    "    }\n",
    "    else {\n",
    "        console.log(\"El número\", a, \"es igual a\", b);\n",
    "    }\n",
    "}"
   ]
  },
  {
   "cell_type": "code",
   "execution_count": null,
   "metadata": {},
   "outputs": [],
   "source": [
    "compara(5);"
   ]
  },
  {
   "cell_type": "markdown",
   "metadata": {},
   "source": [
    "Hay que ser muy cuidadoso en Javascript, porque en caso de que no se defina un argumento, éste tendrá el valor de *undefined*, lo cual puede tener consecuencias inesperadas."
   ]
  },
  {
   "cell_type": "code",
   "execution_count": null,
   "metadata": {},
   "outputs": [],
   "source": [
    "compara();"
   ]
  },
  {
   "cell_type": "markdown",
   "metadata": {},
   "source": [
    "### El objeto ```arguments```.\n",
    "\n",
    "Este objeto se crea de forma autimática cuando se define una función y su objetivo es el de capturar todos los argumentos que se imgresan a una función."
   ]
  },
  {
   "cell_type": "markdown",
   "metadata": {},
   "source": [
    "**Ejemplo:**"
   ]
  },
  {
   "cell_type": "code",
   "execution_count": null,
   "metadata": {},
   "outputs": [],
   "source": [
    "function muestra_argumentos(){\n",
    "     for (let item of arguments) {\n",
    "         console.log(item);\n",
    "     }\n",
    "}"
   ]
  },
  {
   "cell_type": "code",
   "execution_count": null,
   "metadata": {},
   "outputs": [],
   "source": [
    "muestra_argumentos(1, 2, 3, 4);"
   ]
  },
  {
   "cell_type": "code",
   "execution_count": null,
   "metadata": {},
   "outputs": [],
   "source": [
    "muestra_argumentos();"
   ]
  },
  {
   "cell_type": "markdown",
   "metadata": {},
   "source": [
    "### El operador \"rest\"  ```...```.\n",
    "\n",
    "Este operador permite definir un parámetro capaz de capturar múltiples argumentos. Este parámetro siempre debe de ser el último definido en la función.\n",
    "\n",
    "```\n",
    "function <nombre>(<parámetros>, ...<parámetro final>) \n",
    "```"
   ]
  },
  {
   "cell_type": "code",
   "execution_count": null,
   "metadata": {},
   "outputs": [],
   "source": [
    "function sumatoria(titulo, ...sumandos){\n",
    "    let suma = 0;\n",
    "    for (let item of sumandos){\n",
    "        suma += item;\n",
    "    }\n",
    "    console.log(titulo + \":\", suma);\n",
    "}"
   ]
  },
  {
   "cell_type": "code",
   "execution_count": null,
   "metadata": {},
   "outputs": [],
   "source": [
    "sumatoria(\"Suma\", 1, 2, 3);"
   ]
  },
  {
   "cell_type": "code",
   "execution_count": null,
   "metadata": {},
   "outputs": [],
   "source": [
    "sumatoria(1, 2, 3, 4);"
   ]
  },
  {
   "cell_type": "markdown",
   "metadata": {},
   "source": [
    "### El operador \"spread\"  ```...```.\n",
    "\n",
    "Este operador permite ingresar cada elemento de un objeto interable como un argumento.\n",
    "\n",
    "```\n",
    "<función>(<argumentos>, ...<objeto iterable>);\n",
    "```"
   ]
  },
  {
   "cell_type": "code",
   "execution_count": null,
   "metadata": {},
   "outputs": [],
   "source": [
    "function muestra_tres(primero, segundo, tercero){\n",
    "    console.log(primero);\n",
    "    console.log(segundo);\n",
    "    console.log(tercero);   \n",
    "}"
   ]
  },
  {
   "cell_type": "code",
   "execution_count": null,
   "metadata": {},
   "outputs": [],
   "source": [
    "muestra_tres([1,2,3]);"
   ]
  },
  {
   "cell_type": "code",
   "execution_count": null,
   "metadata": {},
   "outputs": [],
   "source": [
    "muestra_tres(...[1, 2, 3]);"
   ]
  },
  {
   "cell_type": "code",
   "execution_count": null,
   "metadata": {},
   "outputs": [],
   "source": [
    "muestra_tres(...\"Hola\");"
   ]
  },
  {
   "cell_type": "code",
   "execution_count": null,
   "metadata": {},
   "outputs": [],
   "source": [
    "muestra_argumentos(...[1, 2, 3, 4], ...\"Hola\");"
   ]
  },
  {
   "cell_type": "markdown",
   "metadata": {},
   "source": [
    "## Retorno de valores de una función.\n",
    "Es posible que las funciones puedan devolver valores dsitintos de *None* mediante la palabra clave *return*.\n",
    "\n",
    "Cuando una función se encuentra con la palabra *return*, regresa el valor indicado y se da por terminada."
   ]
  },
  {
   "cell_type": "code",
   "execution_count": null,
   "metadata": {},
   "outputs": [],
   "source": [
    "function suma(a, b) \n",
    "{\n",
    "    return a + b;\n",
    "}"
   ]
  },
  {
   "cell_type": "code",
   "execution_count": null,
   "metadata": {},
   "outputs": [],
   "source": [
    "suma(2, 5);"
   ]
  },
  {
   "cell_type": "markdown",
   "metadata": {},
   "source": [
    "Pueden incluirse varios *return* en una función, pero sólo se ejecuta el primero que se encuentre en el flujo."
   ]
  },
  {
   "cell_type": "code",
   "execution_count": null,
   "metadata": {},
   "outputs": [],
   "source": [
    "function compara (a, b=7){\n",
    "    \n",
    "    if (a > b){ \n",
    "        return \"mayor que\";\n",
    "    }\n",
    "    else if (a < b){\n",
    "        return \"menor que\";\n",
    "    }\n",
    "    else {\n",
    "        return \"igual a\";\n",
    "    }\n",
    "}"
   ]
  },
  {
   "cell_type": "code",
   "execution_count": null,
   "metadata": {},
   "outputs": [],
   "source": [
    "compara(8);"
   ]
  },
  {
   "cell_type": "code",
   "execution_count": null,
   "metadata": {},
   "outputs": [],
   "source": [
    "let respuesta = compara(15, 1);"
   ]
  },
  {
   "cell_type": "code",
   "execution_count": null,
   "metadata": {},
   "outputs": [],
   "source": [
    "console.log(respuesta)"
   ]
  },
  {
   "cell_type": "markdown",
   "metadata": {},
   "source": [
    "### Cerraduras o closure.\n",
    "\n",
    "El valor que pasa del ámbito local de una función a su ámbito superior por medio de ```return``` se conoce como cerradura.  "
   ]
  },
  {
   "cell_type": "markdown",
   "metadata": {},
   "source": [
    "## Funciones anidadas.\n",
    "\n",
    "Una función anidada es una función dentro de otra función.\n",
    "La cerradura de la función anidada no es recibido por el ámbito global, sinio por el ámbito de la función superior."
   ]
  },
  {
   "cell_type": "code",
   "execution_count": null,
   "metadata": {},
   "outputs": [],
   "source": [
    "function despliega(cadena)\n",
    "{\n",
    "    let texto = \"Saludos, \" + cadena + \".\";\n",
    "    \n",
    "    function convierte_minusculas(cadena)\n",
    "    {\n",
    "        return cadena.toLowerCase();\n",
    "    }\n",
    "    \n",
    "    return [cadena, convierte_minusculas(texto)];\n",
    "}"
   ]
  },
  {
   "cell_type": "code",
   "execution_count": null,
   "metadata": {},
   "outputs": [],
   "source": [
    "despliega('José Luis');"
   ]
  },
  {
   "cell_type": "code",
   "execution_count": null,
   "metadata": {},
   "outputs": [],
   "source": [
    "opera('Hola');"
   ]
  },
  {
   "cell_type": "code",
   "execution_count": null,
   "metadata": {},
   "outputs": [],
   "source": [
    "function despliega(cadena)\n",
    "{\n",
    "    function opera()\n",
    "    {\n",
    "        return cadena.toLowerCase();\n",
    "    }\n",
    "    console.log(opera(cadena))\n",
    "}"
   ]
  },
  {
   "cell_type": "code",
   "execution_count": null,
   "metadata": {},
   "outputs": [],
   "source": [
    "despliega(\"Hola\");"
   ]
  },
  {
   "cell_type": "markdown",
   "metadata": {},
   "source": [
    "## Funciones recursivas.\n",
    "\n",
    "Son funciones que se llaman a si mismas."
   ]
  },
  {
   "cell_type": "code",
   "execution_count": null,
   "metadata": {},
   "outputs": [],
   "source": [
    "function factorial(numero)\n",
    "{\n",
    "    if (numero == 1)\n",
    "    {\n",
    "        return 1;\n",
    "    }\n",
    "    else\n",
    "    {\n",
    "        return(numero * factorial(numero - 1))        \n",
    "    }\n",
    "    \n",
    "}"
   ]
  },
  {
   "cell_type": "code",
   "execution_count": null,
   "metadata": {},
   "outputs": [],
   "source": [
    "factorial(5)"
   ]
  },
  {
   "cell_type": "code",
   "execution_count": null,
   "metadata": {},
   "outputs": [],
   "source": [
    "function factorial(numero)\n",
    "{\n",
    "    console.log('En este ámbito numero es', numero);\n",
    "    if (numero == 1)\n",
    "    {\n",
    "        console.log('Llegamos al final.');\n",
    "        return 1;\n",
    "    }\n",
    "    else\n",
    "    {\n",
    "        let fact = numero * factorial(numero - 1);\n",
    "        console.log('El factorial de', numero, 'es', fact); \n",
    "        return(fact)        \n",
    "    }\n",
    "    \n",
    "}"
   ]
  },
  {
   "cell_type": "code",
   "execution_count": null,
   "metadata": {},
   "outputs": [],
   "source": [
    "factorial(5);"
   ]
  },
  {
   "cell_type": "markdown",
   "metadata": {},
   "source": [
    "## Funciones lambda o funciones \"flecha\".\n",
    "\n",
    "Las funciones lambda son funciones que no necesariamente requieren ser ligadas a una variable.\n",
    "\n",
    "Utiliza el operador ```=>``` con la siguiente sintaxis:\n",
    "\n",
    "```\n",
    "\n",
    "(<parámetros separados por comas>) => <expresión>;\n",
    "```"
   ]
  },
  {
   "cell_type": "code",
   "execution_count": null,
   "metadata": {},
   "outputs": [],
   "source": [
    "let sum = (a, b) => a + b;"
   ]
  },
  {
   "cell_type": "code",
   "execution_count": null,
   "metadata": {},
   "outputs": [],
   "source": [
    "sum(12, 4);"
   ]
  },
  {
   "cell_type": "code",
   "execution_count": null,
   "metadata": {},
   "outputs": [],
   "source": [
    "let fact = (numero) => numero > 1 ? numero * fact(numero -1): 1;"
   ]
  },
  {
   "cell_type": "code",
   "execution_count": null,
   "metadata": {},
   "outputs": [],
   "source": [
    "fact(5);"
   ]
  },
  {
   "cell_type": "code",
   "execution_count": 2,
   "metadata": {},
   "outputs": [
    {
     "data": {
      "text/plain": [
       "[ 2, 4, 6, 8 ]"
      ]
     },
     "execution_count": 2,
     "metadata": {},
     "output_type": "execute_result"
    }
   ],
   "source": [
    "[1, 2, 3, 4].map((numero) => numero * 2);"
   ]
  },
  {
   "cell_type": "code",
   "execution_count": 1,
   "metadata": {},
   "outputs": [
    {
     "data": {
      "text/plain": [
       "[ 2, 4, 6, 8 ]"
      ]
     },
     "execution_count": 1,
     "metadata": {},
     "output_type": "execute_result"
    }
   ],
   "source": [
    "[1, 2, 3, 4].map(function(numero){ return numero * 2});"
   ]
  },
  {
   "cell_type": "code",
   "execution_count": null,
   "metadata": {},
   "outputs": [],
   "source": [
    "[1, 2, 3, 4].reduce((a, b) => a + b);"
   ]
  },
  {
   "cell_type": "markdown",
   "metadata": {},
   "source": [
    "<p style=\"text-align: center\"><a rel=\"license\" href=\"http://creativecommons.org/licenses/by/4.0/\"><img alt=\"Licencia Creative Commons\" style=\"border-width:0\" src=\"https://i.creativecommons.org/l/by/4.0/80x15.png\" /></a><br />Esta obra está bajo una <a rel=\"license\" href=\"http://creativecommons.org/licenses/by/4.0/\">Licencia Creative Commons Atribución 4.0 Internacional</a>.</p>\n",
    "<p style=\"text-align: center\">&copy; José Luis Chiquete Valdivieso. 2019.</p>"
   ]
  }
 ],
 "metadata": {
  "kernelspec": {
   "display_name": "Javascript (Node.js)",
   "language": "javascript",
   "name": "javascript"
  },
  "language_info": {
   "file_extension": ".js",
   "mimetype": "application/javascript",
   "name": "javascript",
   "version": "8.10.0"
  }
 },
 "nbformat": 4,
 "nbformat_minor": 1
}
