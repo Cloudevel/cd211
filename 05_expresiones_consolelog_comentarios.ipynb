{
 "cells": [
  {
   "cell_type": "markdown",
   "metadata": {},
   "source": [
    "[![cloudevel](Imagenes/cloudevel.png)](https://cloudevel.com)"
   ]
  },
  {
   "cell_type": "markdown",
   "metadata": {},
   "source": [
    "# Expresiones, ```console.log()``` y comentarios.\n",
    "\n",
    "## Expresiones.\n",
    "Uan expresión es una serie ordenada y coherente de valores, nombres, funciones y operadores que regresan a su vez un resultado."
   ]
  },
  {
   "cell_type": "markdown",
   "metadata": {},
   "source": [
    "**Ejemplos:**\n",
    "\n",
    "Las siguientes son expresiones válidas de *Javascript*."
   ]
  },
  {
   "cell_type": "markdown",
   "metadata": {},
   "source": [
    "* La siguiente es una expresión que realiza una operación de suma entre dos números."
   ]
  },
  {
   "cell_type": "code",
   "execution_count": null,
   "metadata": {},
   "outputs": [],
   "source": [
    "123 + 23;"
   ]
  },
  {
   "cell_type": "markdown",
   "metadata": {},
   "source": [
    "* La siguiente es una expresión lógica, que da por resultado un objeto booleano."
   ]
  },
  {
   "cell_type": "code",
   "execution_count": null,
   "metadata": {},
   "outputs": [],
   "source": [
    "\"Hola\" != \"hola\" || 17 > 3;"
   ]
  },
  {
   "cell_type": "markdown",
   "metadata": {},
   "source": [
    "* La siguiente es una expresión que accede al método ```toUpperCase()``` de un objeto de tipo ```String``` utilizando el operador ```.```. "
   ]
  },
  {
   "cell_type": "code",
   "execution_count": null,
   "metadata": {},
   "outputs": [],
   "source": [
    "'Hola, mundo'.toUpperCase();"
   ]
  },
  {
   "cell_type": "markdown",
   "metadata": {},
   "source": [
    "* La siguiente es una expresión que llama a la función ```isNaN()``` ingresando ```\"No soy un número\"``` como argumento."
   ]
  },
  {
   "cell_type": "code",
   "execution_count": null,
   "metadata": {},
   "outputs": [],
   "source": [
    "isNaN(\"No soy un número\");"
   ]
  },
  {
   "cell_type": "markdown",
   "metadata": {},
   "source": [
    "### Sobre el uso del punto y coma  ```;```.\n",
    "\n",
    "*Javascript* delimita al final de una línea de código con un signo de punto y coma ```;```.\n",
    "\n",
    "Actualmente, los intérpretes y consolas identifican el retorno de línea como el final de una expresión. Sin embargo, durante este curso se hará uso estricto de las recomendaciones y mejores prácticas, por lo que se hará uso del punto y coma al final de cada línea de código."
   ]
  },
  {
   "cell_type": "markdown",
   "metadata": {},
   "source": [
    "### Varias expresiones en una sola línea.\n",
    "\n",
    "Es posible ejecutar más de una expresión en una sola línea si cada expresión finaliza con ```;```. Todas las expresiones se ejecutarán, pero solo la última será desplegada."
   ]
  },
  {
   "cell_type": "markdown",
   "metadata": {},
   "source": [
    "**Ejemplo:**"
   ]
  },
  {
   "cell_type": "code",
   "execution_count": null,
   "metadata": {},
   "outputs": [],
   "source": [
    "123 + 23; \"Hola\" != \"hola\" || 17 > 3; 'Hola, mundo'.toUpperCase();"
   ]
  },
  {
   "cell_type": "markdown",
   "metadata": {},
   "source": [
    "## ```console.log()```.\n",
    "\n",
    "*Javascript* es un lenguaje que fue diseñado originalmente para aceptar eventos en un navegador y para modifcar la estructura de un documento *HTML*. Posteriormente, conforme la necesidad de hacer más fácil la interacción entre los desarrolladores y el navegador\n",
    "\n",
    "Sin embargo, el objeto ```console```, permite . Y la función ```console.log()``` permite evaluar expresiones y desplegarlas en un entorno interactivo corresponde al objeto ```console```.  \n",
    "\n",
    "\n",
    "```\n",
    "console.log(<expresion>);\n",
    "```"
   ]
  },
  {
   "cell_type": "markdown",
   "metadata": {},
   "source": [
    "**Ejemplo:**"
   ]
  },
  {
   "cell_type": "code",
   "execution_count": null,
   "metadata": {},
   "outputs": [],
   "source": [
    "console.log(123 + 23);\n",
    "console.log(15 -3);\n",
    "console.log(\"54\" * 5);"
   ]
  },
  {
   "cell_type": "markdown",
   "metadata": {},
   "source": [
    "## Comentarios.\n",
    "\n",
    "Los comentarios son segmentos de texto que son ignorados por el íntérprete de *Javascript*. Por lo general los comentarios sirven de documentación del código."
   ]
  },
  {
   "cell_type": "markdown",
   "metadata": {},
   "source": [
    "### Comentarios de una sola línea.\n",
    "\n",
    "Estos comentarios definen un segmento que va desde los caracteres ```//``` hasta el final de una línea, los cuales erán ignorados por el intérpete."
   ]
  },
  {
   "cell_type": "markdown",
   "metadata": {},
   "source": [
    "**Ejemplo:**"
   ]
  },
  {
   "cell_type": "code",
   "execution_count": null,
   "metadata": {},
   "outputs": [],
   "source": [
    "123 + 23; // Esto no es interpetado."
   ]
  },
  {
   "cell_type": "markdown",
   "metadata": {},
   "source": [
    "### Comentarios de varias líneas.\n",
    "\n",
    "El texto delimitado entre ```/*``` y ```*/``` será ignorado por el intérprete."
   ]
  },
  {
   "cell_type": "code",
   "execution_count": null,
   "metadata": {},
   "outputs": [],
   "source": [
    "/* Este es un comentario\n",
    "de varias líneas*/\n",
    "console.log(\"54\" * 5);\n",
    "123 + 23; // Esto no es interpetado."
   ]
  },
  {
   "cell_type": "markdown",
   "metadata": {},
   "source": [
    "<p style=\"text-align: center\"><a rel=\"license\" href=\"http://creativecommons.org/licenses/by/4.0/\"><img alt=\"Licencia Creative Commons\" style=\"border-width:0\" src=\"https://i.creativecommons.org/l/by/4.0/80x15.png\" /></a><br />Esta obra está bajo una <a rel=\"license\" href=\"http://creativecommons.org/licenses/by/4.0/\">Licencia Creative Commons Atribución 4.0 Internacional</a>.</p>\n",
    "<p style=\"text-align: center\">&copy; José Luis Chiquete Valdivieso. 2020.</p>"
   ]
  }
 ],
 "metadata": {
  "kernelspec": {
   "display_name": "Javascript (Node.js)",
   "language": "javascript",
   "name": "javascript"
  },
  "language_info": {
   "file_extension": ".js",
   "mimetype": "application/javascript",
   "name": "javascript",
   "version": "8.10.0"
  }
 },
 "nbformat": 4,
 "nbformat_minor": 2
}
