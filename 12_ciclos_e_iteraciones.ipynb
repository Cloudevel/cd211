{
 "cells": [
  {
   "cell_type": "markdown",
   "metadata": {},
   "source": [
    "[![cloudevel](Imagenes/cloudevel.png)](https://cloudevel.com)"
   ]
  },
  {
   "cell_type": "markdown",
   "metadata": {},
   "source": [
    "## Ciclos.\n",
    "\n",
    "### Ciclo ```while ()```.\n",
    "En este ciclo se evalúa una expresión y de ser verdadera, se ejecuta el código que contiene.\n",
    "\n",
    "``` javascript\n",
    "while(<expresion logica>):\n",
    "{\n",
    "      <bloque de código>\n",
    "}\n",
    "```\n",
    "Las expresiones y declaraciones dentro de ```<bloque de código>``` se repetirán siempre que ```<expresion lógica>``` sea igual a ```true```."
   ]
  },
  {
   "cell_type": "code",
   "execution_count": null,
   "metadata": {},
   "outputs": [],
   "source": [
    "let contador = 0;\n",
    "let bandera = true;\n",
    "while ((contador < 5) && bandera) {\n",
    "    console.log(contador);\n",
    "    contador ++;\n",
    "}"
   ]
  },
  {
   "cell_type": "code",
   "execution_count": null,
   "metadata": {},
   "outputs": [],
   "source": [
    "contador = 0;\n",
    "bandera = false;\n",
    "while ((contador < 5) && bandera) {\n",
    "    console.log(contador);\n",
    "    contador ++;\n",
    "}"
   ]
  },
  {
   "cell_type": "markdown",
   "metadata": {},
   "source": [
    "### Ciclo ```do``` ... ```while()```.\n",
    "En esta estructura, se ejecuta el bloque de código contenido en la declaración al menos una vez  y en caso de que la expresión contenida en ```while()``` sea ``` true```, el ciclo se repite."
   ]
  },
  {
   "cell_type": "code",
   "execution_count": null,
   "metadata": {},
   "outputs": [],
   "source": [
    "contador = 0;\n",
    "bandera = true;\n",
    "do {\n",
    "    console.log(contador);\n",
    "    contador ++;\n",
    "   } \n",
    "while ((contador < 5) && bandera);"
   ]
  },
  {
   "cell_type": "code",
   "execution_count": null,
   "metadata": {},
   "outputs": [],
   "source": [
    "contador = 0;\n",
    "bandera = false;\n",
    "do {\n",
    "    console.log(contador);\n",
    "    contador ++\n",
    "} while ((contador < 5) && bandera);"
   ]
  },
  {
   "cell_type": "markdown",
   "metadata": {},
   "source": [
    "## Iteraciones con ```for()```.\n",
    "\n",
    "Es posible iterar con una condición numérica mediante el usos de ```for()```.\n",
    "Para eso se requiere una variable con valor de inicio, una condición y una razón de cambio, cada una separado poe el símbolo de punto y coma ```;```."
   ]
  },
  {
   "cell_type": "markdown",
   "metadata": {},
   "source": [
    "### Iteración numérica.\n",
    "```\n",
    "for (let <variable> = <valor incial>; <expresión lógica>; <operación>){\n",
    "    <bloque de código>\n",
    "    }\n",
    "```\n",
    "\n",
    "Donde:\n",
    "\n",
    "* ```<variable>``` es el nombre de una variable.\n",
    "* ```<valor iniciall>``` es el valor inicial de una variable.\n",
    "* ```<expresión lógica>``` es una expresioón que evalúa al valor de ```<variable>```.\n",
    "* ```<operación>``` es una expresión que cambia el valor de ```<variable>```."
   ]
  },
  {
   "cell_type": "code",
   "execution_count": null,
   "metadata": {},
   "outputs": [],
   "source": [
    "for (let i = 0; i <= 8; i++){\n",
    "    console.log(i);\n",
    "}"
   ]
  },
  {
   "cell_type": "code",
   "execution_count": null,
   "metadata": {},
   "outputs": [],
   "source": [
    "for (let i = 8; i >= -3; i--){\n",
    "    console.log(i);\n",
    "}"
   ]
  },
  {
   "cell_type": "code",
   "execution_count": null,
   "metadata": {},
   "outputs": [],
   "source": [
    "let objetivo = 5;\n",
    "for (let i = 0; i <= objetivo; i++){\n",
    "    console.log(i);\n",
    "}"
   ]
  },
  {
   "cell_type": "code",
   "execution_count": null,
   "metadata": {},
   "outputs": [],
   "source": [
    "objetivo = 7;\n",
    "for (let i = 2; i <= objetivo; i += 2){\n",
    "    console.log(i);\n",
    "}"
   ]
  },
  {
   "cell_type": "code",
   "execution_count": null,
   "metadata": {},
   "outputs": [],
   "source": [
    "objetivo = 0;\n",
    "for (let i = 5; i >= objetivo; --i){\n",
    "    console.log(i);\n",
    "}"
   ]
  },
  {
   "cell_type": "markdown",
   "metadata": {},
   "source": [
    "## La estructura ```for (... in ...)```.\n",
    "\n",
    "Anterioriormente se utilizó al operador ```in``` para evaluar si un índice se ecuentra dentro del tamaño de un elemento iterable.\n",
    "\n",
    "En este caso, la estructura: \n",
    "\n",
    "```\n",
    "for (let <variable> in <objeto indexable>:\n",
    "    <bloque de código>\n",
    "```\n",
    "\n",
    "Realizará un conteo de ```0``` a último indice de ```<objeto indexable>```."
   ]
  },
  {
   "cell_type": "code",
   "execution_count": null,
   "metadata": {},
   "outputs": [],
   "source": [
    "let ïndexable;"
   ]
  },
  {
   "cell_type": "code",
   "execution_count": null,
   "metadata": {
    "scrolled": true
   },
   "outputs": [],
   "source": [
    "indexable = [1, \"dos\", true];\n",
    "for (let indice in indexable) {\n",
    "    console.log(indice);\n",
    "}"
   ]
  },
  {
   "cell_type": "code",
   "execution_count": null,
   "metadata": {
    "scrolled": true
   },
   "outputs": [],
   "source": [
    "indexable = [1, \"dos\", true];\n",
    "for (let indice in indexable) {\n",
    "    console.log(indexable[indice]);\n",
    "}"
   ]
  },
  {
   "cell_type": "code",
   "execution_count": null,
   "metadata": {},
   "outputs": [],
   "source": [
    "indexable = \"hola\";\n",
    "for (let indice in indexable) {\n",
    "    console.log(indexable[indice]);\n",
    "}"
   ]
  },
  {
   "cell_type": "code",
   "execution_count": null,
   "metadata": {},
   "outputs": [],
   "source": [
    "for (let indice=0; indice < indexable.length; indice++) {\n",
    "    console.log(indexable[indice]);    \n",
    "}"
   ]
  },
  {
   "cell_type": "markdown",
   "metadata": {},
   "source": [
    "## La estructura ```for (... of ...)```.\n",
    "\n",
    "La siguiente estrucutura permite obtener cada elmento de un objeto iterble y asignárselo a una variable.\n",
    "\n",
    "```\n",
    "for (let <variable> of <iterable>) {\n",
    "    <bloque de código>\n",
    "}\n",
    "```\n",
    "\n",
    "\n"
   ]
  },
  {
   "cell_type": "code",
   "execution_count": null,
   "metadata": {
    "scrolled": true
   },
   "outputs": [],
   "source": [
    "let palabra = \"Saludos\";\n",
    "for (let letra of palabra) {\n",
    "    console.log(letra);\n",
    "}"
   ]
  },
  {
   "cell_type": "code",
   "execution_count": null,
   "metadata": {},
   "outputs": [],
   "source": [
    "for (let item of arreglo) {\n",
    "    console.log(item);\n",
    "}"
   ]
  },
  {
   "cell_type": "markdown",
   "metadata": {},
   "source": [
    "## Elementos de interrupción de flujo de ejecución."
   ]
  },
  {
   "cell_type": "markdown",
   "metadata": {},
   "source": [
    "### La declaración ```continue```.\n",
    "\n",
    "Permite reiniciar in ciclo sin terminar la ejecución del bloque."
   ]
  },
  {
   "cell_type": "code",
   "execution_count": null,
   "metadata": {},
   "outputs": [],
   "source": [
    "let arreglo_detencion = [1, 2, 3, 4, 'alto', 'cinco', 'seis'];"
   ]
  },
  {
   "cell_type": "code",
   "execution_count": null,
   "metadata": {
    "scrolled": true
   },
   "outputs": [],
   "source": [
    "for (let valor of arreglo_detencion) {\n",
    "    if (valor === 'alto') {\n",
    "        continue;\n",
    "    }\n",
    "    console.log(valor);\n",
    "}"
   ]
  },
  {
   "cell_type": "markdown",
   "metadata": {},
   "source": [
    "## La declaración ```break```.\n",
    "\n",
    "Esta declaración rompe con el flujo de ejecución del bloque en el que se encuentra y regresa al bloque superior."
   ]
  },
  {
   "cell_type": "code",
   "execution_count": null,
   "metadata": {
    "scrolled": true
   },
   "outputs": [],
   "source": [
    "for (let valor of arreglo_detencion) {\n",
    "    if (valor === 'alto') {\n",
    "        break;\n",
    "    }\n",
    "    console.log(valor);\n",
    "}"
   ]
  },
  {
   "cell_type": "code",
   "execution_count": null,
   "metadata": {
    "scrolled": true
   },
   "outputs": [],
   "source": [
    "let contador = 0;\n",
    "while(true) {\n",
    "    contador ++;\n",
    "    console.log(contador);\n",
    "    if (contador == 5) {break}\n",
    "}"
   ]
  },
  {
   "cell_type": "code",
   "execution_count": null,
   "metadata": {},
   "outputs": [],
   "source": [
    "let contador;"
   ]
  },
  {
   "cell_type": "code",
   "execution_count": null,
   "metadata": {},
   "outputs": [],
   "source": [
    "contador = 0;\n",
    "while(true) {\n",
    "    contador ++;\n",
    "    if (contador == 4) {continue}  \n",
    "    console.log(contador);\n",
    "    if (contador == 5) {break}\n",
    "}"
   ]
  },
  {
   "cell_type": "markdown",
   "metadata": {},
   "source": [
    "<p style=\"text-align: center\"><a rel=\"license\" href=\"http://creativecommons.org/licenses/by/4.0/\"><img alt=\"Licencia Creative Commons\" style=\"border-width:0\" src=\"https://i.creativecommons.org/l/by/4.0/80x15.png\" /></a><br />Esta obra está bajo una <a rel=\"license\" href=\"http://creativecommons.org/licenses/by/4.0/\">Licencia Creative Commons Atribución 4.0 Internacional</a>.</p>\n",
    "<p style=\"text-align: center\">&copy; José Luis Chiquete Valdivieso. 2020.</p>"
   ]
  }
 ],
 "metadata": {
  "kernelspec": {
   "display_name": "Javascript (Node.js)",
   "language": "javascript",
   "name": "javascript"
  },
  "language_info": {
   "file_extension": ".js",
   "mimetype": "application/javascript",
   "name": "javascript",
   "version": "8.10.0"
  }
 },
 "nbformat": 4,
 "nbformat_minor": 1
}
