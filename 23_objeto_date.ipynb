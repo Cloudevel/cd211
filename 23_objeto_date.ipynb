{
 "cells": [
  {
   "cell_type": "markdown",
   "metadata": {},
   "source": [
    "[![cloudevel](Imagenes/cloudevel.png)](https://cloudevel.com)"
   ]
  },
  {
   "cell_type": "markdown",
   "metadata": {},
   "source": [
    "# El objeto ```Date```."
   ]
  },
  {
   "cell_type": "markdown",
   "metadata": {},
   "source": [
    "El objeto ```Date``` permite instanciar objetos que permitan establecer un momento en el tiempo. el cual corresponde a un número que representa los segundos transcurridos desde el 1 de enero de 1970 (UTC)."
   ]
  },
  {
   "cell_type": "markdown",
   "metadata": {},
   "source": [
    "    Date.UTC()\n",
    "    Date.now()\n",
    "    Date.parse()\n",
    "    Date.prototype.getDate()\n",
    "    Date.prototype.getDay()\n",
    "    Date.prototype.getFullYear()\n",
    "    Date.prototype.getHours()\n",
    "    Date.prototype.getMilliseconds()\n",
    "    Date.prototype.getMinutes()\n",
    "    Date.prototype.getMonth()\n",
    "    Date.prototype.getSeconds()\n",
    "    Date.prototype.getTime()\n",
    "    Date.prototype.getTimezoneOffset()\n",
    "    Date.prototype.getUTCDate()\n",
    "    Date.prototype.getUTCDay()\n",
    "    Date.prototype.getUTCFullYear()\n",
    "    Date.prototype.getUTCHours()\n",
    "    Date.prototype.getUTCMilliseconds()\n",
    "    Date.prototype.getUTCMinutes()\n",
    "    Date.prototype.getUTCMonth()\n",
    "    Date.prototype.getUTCSeconds()\n",
    "    Date.prototype.getYear()\n",
    "    Date.prototype.setDate()\n",
    "    Date.prototype.setFullYear()\n",
    "    Date.prototype.setHours()\n",
    "    Date.prototype.setMilliseconds()\n",
    "    Date.prototype.setMinutes()\n",
    "    Date.prototype.setMonth()\n",
    "    Date.prototype.setSeconds()\n",
    "    Date.prototype.setTime()\n",
    "    Date.prototype.setUTCDate()\n",
    "    Date.prototype.setUTCFullYear()\n",
    "    Date.prototype.setUTCHours()\n",
    "    Date.prototype.setUTCMilliseconds()\n",
    "    Date.prototype.setUTCMinutes()\n",
    "    Date.prototype.setUTCMonth()\n",
    "    Date.prototype.setUTCSeconds()\n",
    "    Date.prototype.setYear()\n",
    "    Date.prototype.toDateString()\n",
    "    Date.prototype.toGMTString()\n",
    "    Date.prototype.toISOString()\n",
    "    Date.prototype.toJSON()\n",
    "    Date.prototype.toLocaleDateString()\n",
    "    Date.prototype.toLocaleFormat()\n",
    "    Date.prototype.toLocaleString()\n",
    "    Date.prototype.toLocaleTimeString()\n",
    "    Date.prototype.toSource()\n",
    "    Date.prototype.toString()\n",
    "    Date.prototype.toTimeString()\n",
    "    Date.prototype.toUTCString()\n",
    "    Date.prototype.valueOf()\n",
    "    Date.prototype[@@toPrimitive]"
   ]
  },
  {
   "cell_type": "code",
   "execution_count": null,
   "metadata": {},
   "outputs": [],
   "source": [
    "ahora = new Date(Date.now());"
   ]
  },
  {
   "cell_type": "code",
   "execution_count": null,
   "metadata": {},
   "outputs": [],
   "source": [
    "ahora.getMonth();"
   ]
  },
  {
   "cell_type": "code",
   "execution_count": null,
   "metadata": {},
   "outputs": [],
   "source": [
    "ahora.toTimeString();"
   ]
  },
  {
   "cell_type": "markdown",
   "metadata": {},
   "source": [
    "<p style=\"text-align: center\"><a rel=\"license\" href=\"http://creativecommons.org/licenses/by/4.0/\"><img alt=\"Licencia Creative Commons\" style=\"border-width:0\" src=\"https://i.creativecommons.org/l/by/4.0/80x15.png\" /></a><br />Esta obra está bajo una <a rel=\"license\" href=\"http://creativecommons.org/licenses/by/4.0/\">Licencia Creative Commons Atribución 4.0 Internacional</a>.</p>\n",
    "<p style=\"text-align: center\">&copy; José Luis Chiquete Valdivieso. 2019.</p>"
   ]
  }
 ],
 "metadata": {
  "kernelspec": {
   "display_name": "Javascript (Node.js)",
   "language": "javascript",
   "name": "javascript"
  },
  "language_info": {
   "file_extension": ".js",
   "mimetype": "application/javascript",
   "name": "javascript",
   "version": "6.14.3"
  }
 },
 "nbformat": 4,
 "nbformat_minor": 2
}
