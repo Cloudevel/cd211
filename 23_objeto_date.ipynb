{
 "cells": [
  {
   "cell_type": "markdown",
   "metadata": {},
   "source": [
    "[![cloudevel](Imagenes/cloudevel.png)](https://cloudevel.com)"
   ]
  },
  {
   "cell_type": "markdown",
   "metadata": {},
   "source": [
    "# El objeto ```Date```."
   ]
  },
  {
   "cell_type": "markdown",
   "metadata": {},
   "source": [
    "El objeto ```Date``` permite instanciar objetos que permitan establecer un momento en el tiempo. el cual corresponde a un número que representa los milisegundos transcurridos desde \"Epoch\", el cual corresponde al 1 de enero de 1970 (UTC)."
   ]
  },
  {
   "cell_type": "markdown",
   "metadata": {},
   "source": [
    "## Creación de un objeto instanciado de ```Date```.\n",
    "\n",
    "```\n",
    "new Date(<número>);\n",
    "```"
   ]
  },
  {
   "cell_type": "code",
   "execution_count": 3,
   "metadata": {},
   "outputs": [
    {
     "data": {
      "text/plain": [
       "1970-01-01T00:00:00.000Z"
      ]
     },
     "execution_count": 3,
     "metadata": {},
     "output_type": "execute_result"
    }
   ],
   "source": [
    "new Date(0);"
   ]
  },
  {
   "cell_type": "markdown",
   "metadata": {},
   "source": [
    "## El método ```Date.now()```.\n",
    "\n",
    "Este método regresa el número correspondiente al instante en el que se ejecuta."
   ]
  },
  {
   "cell_type": "code",
   "execution_count": 2,
   "metadata": {},
   "outputs": [
    {
     "data": {
      "text/plain": [
       "1563309778126"
      ]
     },
     "execution_count": 2,
     "metadata": {},
     "output_type": "execute_result"
    }
   ],
   "source": [
    "Date.now();"
   ]
  },
  {
   "cell_type": "code",
   "execution_count": 4,
   "metadata": {},
   "outputs": [],
   "source": [
    "let hora_actual = new Date(Date.now());"
   ]
  },
  {
   "cell_type": "markdown",
   "metadata": {},
   "source": [
    "## Algunos métodos de ```Date```.\n",
    "\n",
    "* ```getDay()```.\n",
    "* ```getMonth()```.\n",
    "* ```getFullYear()```.\n",
    "* ```getTime()```."
   ]
  },
  {
   "cell_type": "code",
   "execution_count": 6,
   "metadata": {},
   "outputs": [
    {
     "data": {
      "text/plain": [
       "6"
      ]
     },
     "execution_count": 6,
     "metadata": {},
     "output_type": "execute_result"
    }
   ],
   "source": [
    "hora_actual.getMonth();"
   ]
  },
  {
   "cell_type": "code",
   "execution_count": 7,
   "metadata": {},
   "outputs": [
    {
     "data": {
      "text/plain": [
       "2"
      ]
     },
     "execution_count": 7,
     "metadata": {},
     "output_type": "execute_result"
    }
   ],
   "source": [
    "hora_actual.getDay();"
   ]
  },
  {
   "cell_type": "code",
   "execution_count": 8,
   "metadata": {},
   "outputs": [
    {
     "data": {
      "text/plain": [
       "2019"
      ]
     },
     "execution_count": 8,
     "metadata": {},
     "output_type": "execute_result"
    }
   ],
   "source": [
    "hora_actual.getFullYear();"
   ]
  },
  {
   "cell_type": "markdown",
   "metadata": {},
   "source": [
    "### Métodos de conversión."
   ]
  },
  {
   "cell_type": "code",
   "execution_count": 10,
   "metadata": {},
   "outputs": [
    {
     "data": {
      "text/plain": [
       "'13:43:39 GMT-0700 (PDT)'"
      ]
     },
     "execution_count": 10,
     "metadata": {},
     "output_type": "execute_result"
    }
   ],
   "source": [
    "hora_actual.toTimeString();"
   ]
  },
  {
   "cell_type": "code",
   "execution_count": 11,
   "metadata": {},
   "outputs": [
    {
     "data": {
      "text/plain": [
       "'2019-07-16T20:43:39.488Z'"
      ]
     },
     "execution_count": 11,
     "metadata": {},
     "output_type": "execute_result"
    }
   ],
   "source": [
    "hora_actual.toISOString();"
   ]
  },
  {
   "cell_type": "code",
   "execution_count": 12,
   "metadata": {},
   "outputs": [
    {
     "data": {
      "text/plain": [
       "'Tue Jul 16 2019'"
      ]
     },
     "execution_count": 12,
     "metadata": {},
     "output_type": "execute_result"
    }
   ],
   "source": [
    "hora_actual.toDateString();"
   ]
  },
  {
   "cell_type": "markdown",
   "metadata": {},
   "source": [
    "    Date.UTC()\n",
    "    Date.now()\n",
    "    Date.parse()\n",
    "    Date.prototype.getDate()\n",
    "    Date.prototype.getDay()\n",
    "    Date.prototype.getFullYear()\n",
    "    Date.prototype.getHours()\n",
    "    Date.prototype.getMilliseconds()\n",
    "    Date.prototype.getMinutes()\n",
    "    Date.prototype.getMonth()\n",
    "    Date.prototype.getSeconds()\n",
    "    Date.prototype.getTime()\n",
    "    Date.prototype.getTimezoneOffset()\n",
    "    Date.prototype.getUTCDate()\n",
    "    Date.prototype.getUTCDay()\n",
    "    Date.prototype.getUTCFullYear()\n",
    "    Date.prototype.getUTCHours()\n",
    "    Date.prototype.getUTCMilliseconds()\n",
    "    Date.prototype.getUTCMinutes()\n",
    "    Date.prototype.getUTCMonth()\n",
    "    Date.prototype.getUTCSeconds()\n",
    "    Date.prototype.getYear()\n",
    "    Date.prototype.setDate()\n",
    "    Date.prototype.setFullYear()\n",
    "    Date.prototype.setHours()\n",
    "    Date.prototype.setMilliseconds()\n",
    "    Date.prototype.setMinutes()\n",
    "    Date.prototype.setMonth()\n",
    "    Date.prototype.setSeconds()\n",
    "    Date.prototype.setTime()\n",
    "    Date.prototype.setUTCDate()\n",
    "    Date.prototype.setUTCFullYear()\n",
    "    Date.prototype.setUTCHours()\n",
    "    Date.prototype.setUTCMilliseconds()\n",
    "    Date.prototype.setUTCMinutes()\n",
    "    Date.prototype.setUTCMonth()\n",
    "    Date.prototype.setUTCSeconds()\n",
    "    Date.prototype.setYear()\n",
    "    Date.prototype.toDateString()\n",
    "    Date.prototype.toGMTString()\n",
    "    Date.prototype.toISOString()\n",
    "    Date.prototype.toJSON()\n",
    "    Date.prototype.toLocaleDateString()\n",
    "    Date.prototype.toLocaleFormat()\n",
    "    Date.prototype.toLocaleString()\n",
    "    Date.prototype.toLocaleTimeString()\n",
    "    Date.prototype.toSource()\n",
    "    Date.prototype.toString()\n",
    "    Date.prototype.toTimeString()\n",
    "    Date.prototype.toUTCString()\n",
    "    Date.prototype.valueOf()\n",
    "    Date.prototype[@@toPrimitive]"
   ]
  },
  {
   "cell_type": "markdown",
   "metadata": {},
   "source": [
    "<p style=\"text-align: center\"><a rel=\"license\" href=\"http://creativecommons.org/licenses/by/4.0/\"><img alt=\"Licencia Creative Commons\" style=\"border-width:0\" src=\"https://i.creativecommons.org/l/by/4.0/80x15.png\" /></a><br />Esta obra está bajo una <a rel=\"license\" href=\"http://creativecommons.org/licenses/by/4.0/\">Licencia Creative Commons Atribución 4.0 Internacional</a>.</p>\n",
    "<p style=\"text-align: center\">&copy; José Luis Chiquete Valdivieso. 2019.</p>"
   ]
  }
 ],
 "metadata": {
  "kernelspec": {
   "display_name": "Javascript (Node.js)",
   "language": "javascript",
   "name": "javascript"
  },
  "language_info": {
   "file_extension": ".js",
   "mimetype": "application/javascript",
   "name": "javascript",
   "version": "6.14.3"
  }
 },
 "nbformat": 4,
 "nbformat_minor": 2
}
