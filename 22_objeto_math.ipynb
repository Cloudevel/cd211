{
 "cells": [
  {
   "cell_type": "markdown",
   "metadata": {},
   "source": [
    "[![cloudevel](Imagenes/cloudevel.png)](https://cloudevel.com)"
   ]
  },
  {
   "cell_type": "markdown",
   "metadata": {},
   "source": [
    "    Math.abs()\n",
    "    Math.acos()\n",
    "    Math.acosh()\n",
    "    Math.asin()\n",
    "    Math.asinh()\n",
    "    Math.atan()\n",
    "    Math.atan2()\n",
    "    Math.atanh()\n",
    "    Math.cbrt()\n",
    "    Math.ceil()\n",
    "    Math.clz32()\n",
    "    Math.cos()\n",
    "    Math.cosh()\n",
    "    Math.exp()\n",
    "    Math.expm1()\n",
    "    Math.floor()\n",
    "    Math.fround()\n",
    "    Math.hypot()\n",
    "    Math.imul()\n",
    "    Math.log()\n",
    "    Math.log10()\n",
    "    Math.log1p()\n",
    "    Math.log2()\n",
    "    Math.max()\n",
    "    Math.min()\n",
    "    Math.pow()\n",
    "    Math.random()\n",
    "    Math.round()\n",
    "    Math.sign()\n",
    "    Math.sin()\n",
    "    Math.sinh()\n",
    "    Math.sqrt()\n",
    "    Math.tan()\n",
    "    Math.tanh()\n",
    "    Math.trunc()"
   ]
  },
  {
   "cell_type": "markdown",
   "metadata": {},
   "source": [
    "<p style=\"text-align: center\"><a rel=\"license\" href=\"http://creativecommons.org/licenses/by/4.0/\"><img alt=\"Licencia Creative Commons\" style=\"border-width:0\" src=\"https://i.creativecommons.org/l/by/4.0/80x15.png\" /></a><br />Esta obra está bajo una <a rel=\"license\" href=\"http://creativecommons.org/licenses/by/4.0/\">Licencia Creative Commons Atribución 4.0 Internacional</a>.</p>\n",
    "<p style=\"text-align: center\">&copy; José Luis Chiquete Valdivieso. 2019.</p>"
   ]
  }
 ],
 "metadata": {
  "kernelspec": {
   "display_name": "Python 3",
   "language": "python",
   "name": "python3"
  },
  "language_info": {
   "codemirror_mode": {
    "name": "ipython",
    "version": 3
   },
   "file_extension": ".py",
   "mimetype": "text/x-python",
   "name": "python",
   "nbconvert_exporter": "python",
   "pygments_lexer": "ipython3",
   "version": "3.6.3"
  }
 },
 "nbformat": 4,
 "nbformat_minor": 2
}
