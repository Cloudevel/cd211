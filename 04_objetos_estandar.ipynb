{
 "cells": [
  {
   "cell_type": "markdown",
   "metadata": {},
   "source": [
    "[![cloudevel](Imagenes/cloudevel.png)](https://cloudevel.com)"
   ]
  },
  {
   "cell_type": "markdown",
   "metadata": {},
   "source": [
    "## Objetos estándar.\n",
    "\n",
    "*Javascript* define una serie de objetos que son implementados por defecto en el lenguaje."
   ]
  },
  {
   "cell_type": "markdown",
   "metadata": {},
   "source": [
    "### Tipos básicos.\n",
    "\n",
    "* Number\n",
    "* String\n",
    "* Array\n",
    "* Boolean\n",
    "* Object\n",
    "* Symbol"
   ]
  },
  {
   "cell_type": "markdown",
   "metadata": {},
   "source": [
    "### Objetos adicionales.\n",
    "\n",
    "* Date\n",
    "* Math\n",
    "* RegExp\n",
    "* BigInt\n",
    "* Error\n",
    "* Set\n",
    "* WeakSet\n",
    "* Map\n",
    "* WeakMap\n",
    "* Function\n",
    "* Promise\n",
    "* Generator\n",
    "* GeneratorFunction\n",
    "* JSON\n",
    "* DataView\n",
    "* ArrayBuffer\n",
    "* Reflect\n",
    "* Proxy\n",
    "* arguments"
   ]
  },
  {
   "cell_type": "markdown",
   "metadata": {},
   "source": [
    "### Propiedades globales\n",
    "\n",
    "* Infinity\n",
    "* NaN\n",
    "* undefined\n",
    "* globalThis\n",
    "* null"
   ]
  },
  {
   "cell_type": "markdown",
   "metadata": {},
   "source": [
    "### Métodos o funciones globales\n",
    "\n",
    "* decodeURI()\n",
    "* decodeURIComponent()\n",
    "* encodeURI()\n",
    "* encodeURIComponent()\n",
    "* eval()\t\n",
    "* isFinite()\n",
    "* isNaN()\t\n",
    "* Number()\n",
    "* parseFloat()\n",
    "* parseInt()\n",
    "* String()\n",
    "* Boolean()"
   ]
  },
  {
   "cell_type": "markdown",
   "metadata": {},
   "source": [
    "<p style=\"text-align: center\"><a rel=\"license\" href=\"http://creativecommons.org/licenses/by/4.0/\"><img alt=\"Licencia Creative Commons\" style=\"border-width:0\" src=\"https://i.creativecommons.org/l/by/4.0/80x15.png\" /></a><br />Esta obra está bajo una <a rel=\"license\" href=\"http://creativecommons.org/licenses/by/4.0/\">Licencia Creative Commons Atribución 4.0 Internacional</a>.</p>\n",
    "<p style=\"text-align: center\">&copy; José Luis Chiquete Valdivieso. 2019.</p>"
   ]
  }
 ],
 "metadata": {
  "kernelspec": {
   "display_name": "Javascript (Node.js)",
   "language": "javascript",
   "name": "javascript"
  },
  "language_info": {
   "file_extension": ".js",
   "mimetype": "application/javascript",
   "name": "javascript",
   "version": "6.14.3"
  }
 },
 "nbformat": 4,
 "nbformat_minor": 2
}
