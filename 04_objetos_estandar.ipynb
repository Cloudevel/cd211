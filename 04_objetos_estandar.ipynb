{
 "cells": [
  {
   "cell_type": "markdown",
   "metadata": {},
   "source": [
    "[![cloudevel](Imagenes/cloudevel.png)](https://cloudevel.com)"
   ]
  },
  {
   "cell_type": "markdown",
   "metadata": {},
   "source": [
    "## Objetos estándar.\n",
    "\n",
    "*Javascript* define una serie de objetos que son implementados por defecto en el lenguaje."
   ]
  },
  {
   "cell_type": "markdown",
   "metadata": {},
   "source": [
    "## El objeto Global."
   ]
  },
  {
   "cell_type": "code",
   "execution_count": null,
   "metadata": {},
   "outputs": [],
   "source": [
    "global;"
   ]
  },
  {
   "cell_type": "markdown",
   "metadata": {},
   "source": [
    "### Tipos de datos básicos.\n",
    "\n",
    "* ```Number``` para números. \n",
    "* ```String``` para cadenas de caracteres.\n",
    "* ```Array``` para colecciones ordenada e indexada de objetos. \n",
    "* ```Boolean``` para valores booleanos.\n",
    "* ```Object``` para cualquier tipode objeto.\n",
    "* ```Symbol```"
   ]
  },
  {
   "cell_type": "markdown",
   "metadata": {},
   "source": [
    "### Objetos adicionales.\n",
    "\n",
    "* ```Date``` expresa fechas.\n",
    "* ```Math``` contiene una serie de métodos para realizar operaciones matemática básicas.\n",
    "* ```RegExp``` permite realizar búsqueda de patrones en ujhna cadena de caracteres por medio de expresiones regulares.\n",
    "* ```BigInt``` permite gestionar números enteros grandes.\n",
    "* ```Error``` es la base para la gestiónde excepciones.\n",
    "* ```Set``` permite crear colecciones de datos que se comportan como conjuntos.\n",
    "* ```WeakSet``` permite crear colecciones de datos que se comportan como conjuntos con características particulares.\n",
    "* ```Map``` permiten crear colecciones de pares mapeables mediante la sintaxis ```<clave>:<valor>```.\n",
    "* ```WeakMap``` permiten crear colecciones de pares mapeables mediante la sintaxis ```<clave>:<valor>``` con caracteristicas particulares.\n",
    "* ```Function``` este es el tipo para todas las funciones de Javascript.\n",
    "* ```Promise``` este objeto permite realizar operaciones asíncronas.\n",
    "* ```Generator``` permite crear generadores.\n",
    "* ```GeneratorFunction```  permite crear funciones de generadores.\n",
    "* ```JSON``` crea objetos de la forma antigua.\n",
    "* ```DataView``` permite crear objetos especializados en la manipulación de datos.\n",
    "* ```ArrayBuffer``` permite crear objetos especializados en la manipulación de datos.\n",
    "* ```Reflect``` permiten realizar operaciones asíncronas avanzadas.\n",
    "* ```Proxy```  permiten realizar operaciones asíncronas avanzadas.\n",
    "* ```arguments``` captura los argumentos de una función."
   ]
  },
  {
   "cell_type": "markdown",
   "metadata": {},
   "source": [
    "### Propiedades globales.\n",
    "\n",
    "* ```Infinity``` implica una cantidad infinita.\n",
    "* ```NaN``` implica que se realizó una operación que no puede ser calculada numéricamante.\n",
    "* ```undefined``` implica algo que se desconoce al momento.\n",
    "* ```null``` implica un valor inexistente.\n",
    "* ```globalThis``` es un elemento que identifica al objeto global tanto en  un navegador como en Node.js. "
   ]
  },
  {
   "cell_type": "markdown",
   "metadata": {},
   "source": [
    "### Métodos o funciones globales.\n",
    "\n",
    "* decodeURI()\n",
    "* decodeURIComponent()\n",
    "* encodeURI()\n",
    "* encodeURIComponent()\n",
    "* eval()\t\n",
    "* isFinite()\n",
    "* isNaN()\t\n",
    "* Number()\n",
    "* parseFloat()\n",
    "* parseInt()\n",
    "* String()\n",
    "* Boolean()"
   ]
  },
  {
   "cell_type": "code",
   "execution_count": null,
   "metadata": {},
   "outputs": [],
   "source": [
    "eval(\"2 + 2\");"
   ]
  },
  {
   "cell_type": "code",
   "execution_count": null,
   "metadata": {},
   "outputs": [],
   "source": [
    "\"2 + 2\";"
   ]
  },
  {
   "cell_type": "markdown",
   "metadata": {},
   "source": [
    "<p style=\"text-align: center\"><a rel=\"license\" href=\"http://creativecommons.org/licenses/by/4.0/\"><img alt=\"Licencia Creative Commons\" style=\"border-width:0\" src=\"https://i.creativecommons.org/l/by/4.0/80x15.png\" /></a><br />Esta obra está bajo una <a rel=\"license\" href=\"http://creativecommons.org/licenses/by/4.0/\">Licencia Creative Commons Atribución 4.0 Internacional</a>.</p>\n",
    "<p style=\"text-align: center\">&copy; José Luis Chiquete Valdivieso. 2019.</p>"
   ]
  }
 ],
 "metadata": {
  "kernelspec": {
   "display_name": "Javascript (Node.js)",
   "language": "javascript",
   "name": "javascript"
  },
  "language_info": {
   "file_extension": ".js",
   "mimetype": "application/javascript",
   "name": "javascript",
   "version": "6.14.3"
  }
 },
 "nbformat": 4,
 "nbformat_minor": 2
}
