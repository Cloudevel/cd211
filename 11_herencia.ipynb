{
 "cells": [
  {
   "cell_type": "markdown",
   "metadata": {},
   "source": [
    "[![imagenes/pythonista.png](imagenes/pythonista.png)](https://pythonista.io)"
   ]
  },
  {
   "cell_type": "code",
   "execution_count": 1,
   "metadata": {},
   "outputs": [
    {
     "data": {
      "text/plain": [
       "[Function: Pokemon]"
      ]
     },
     "execution_count": 1,
     "metadata": {},
     "output_type": "execute_result"
    }
   ],
   "source": [
    "class Pokemon\n",
    "{\n",
    "    constructor(exp=1, fuerza=1, resistencia=1, gold=0)\n",
    "    {\n",
    "        this.exp = exp;\n",
    "        this.gold = gold;\n",
    "        this.especie = undefined;\n",
    "        this.fuerza = fuerza;\n",
    "        this.resistencia = resistencia;\n",
    "        this.vida = 100;\n",
    "    }\n",
    "    recibe_ataque(objeto, ataque)\n",
    "    {\n",
    "        this.vida -= objeto[ataque]()/ this.resistencia;\n",
    "        return this.vida;\n",
    "    }\n",
    "    evoluciona()\n",
    "    {\n",
    "       console.log('No hay reglas de evolución');\n",
    "    }   \n",
    "} "
   ]
  },
  {
   "cell_type": "code",
   "execution_count": 2,
   "metadata": {},
   "outputs": [
    {
     "data": {
      "text/plain": [
       "[Function: VamoACalmarno]"
      ]
     },
     "execution_count": 2,
     "metadata": {},
     "output_type": "execute_result"
    }
   ],
   "source": [
    "class VamoACalmarno extends Pokemon\n",
    "{\n",
    "    constructor(exp=1, fuerza=1, resistencia=1, gold=0)\n",
    "    {\n",
    "        super(exp, fuerza, resistencia, gold)\n",
    "        this.exp = exp;\n",
    "        this.gold = gold;\n",
    "        this.especie = \"Vamo a calmarno\";\n",
    "        this.fuerza = fuerza;\n",
    "        this.resistencia = resistencia;\n",
    "        this.vida = 100;\n",
    "    }\n",
    "    evoluciona()\n",
    "    {\n",
    "        if (this.exp >= 12 && this.gold >= 10 && this.especie == \"Vamo a calmarno\")\n",
    "        {\n",
    "            this.especie = \"War turtle\";\n",
    "        }\n",
    "    }\n",
    "}"
   ]
  },
  {
   "cell_type": "code",
   "execution_count": 3,
   "metadata": {},
   "outputs": [
    {
     "data": {
      "text/plain": [
       "VamoACalmarno {\n",
       "  exp: 1,\n",
       "  gold: 0,\n",
       "  especie: 'Vamo a calmarno',\n",
       "  fuerza: 1,\n",
       "  resistencia: 1,\n",
       "  vida: 100 }"
      ]
     },
     "execution_count": 3,
     "metadata": {},
     "output_type": "execute_result"
    }
   ],
   "source": [
    "squirtle = new VamoACalmarno;"
   ]
  },
  {
   "cell_type": "code",
   "execution_count": 4,
   "metadata": {},
   "outputs": [],
   "source": [
    "squirtle.evoluciona()"
   ]
  },
  {
   "cell_type": "code",
   "execution_count": 5,
   "metadata": {
    "scrolled": true
   },
   "outputs": [
    {
     "data": {
      "text/plain": [
       "VamoACalmarno {\n",
       "  exp: 1,\n",
       "  gold: 0,\n",
       "  especie: 'Vamo a calmarno',\n",
       "  fuerza: 1,\n",
       "  resistencia: 1,\n",
       "  vida: 100 }"
      ]
     },
     "execution_count": 5,
     "metadata": {},
     "output_type": "execute_result"
    }
   ],
   "source": [
    "squirtle"
   ]
  },
  {
   "cell_type": "code",
   "execution_count": 6,
   "metadata": {},
   "outputs": [
    {
     "data": {
      "text/plain": [
       "20"
      ]
     },
     "execution_count": 6,
     "metadata": {},
     "output_type": "execute_result"
    }
   ],
   "source": [
    "squirtle.exp = 21;\n",
    "squirtle.gold = 20;"
   ]
  },
  {
   "cell_type": "code",
   "execution_count": 7,
   "metadata": {},
   "outputs": [],
   "source": [
    "squirtle.evoluciona();"
   ]
  },
  {
   "cell_type": "code",
   "execution_count": 8,
   "metadata": {},
   "outputs": [
    {
     "data": {
      "text/plain": [
       "VamoACalmarno {\n",
       "  exp: 21,\n",
       "  gold: 20,\n",
       "  especie: 'War turtle',\n",
       "  fuerza: 1,\n",
       "  resistencia: 1,\n",
       "  vida: 100 }"
      ]
     },
     "execution_count": 8,
     "metadata": {},
     "output_type": "execute_result"
    }
   ],
   "source": [
    "squirtle;"
   ]
  },
  {
   "cell_type": "code",
   "execution_count": 9,
   "metadata": {},
   "outputs": [
    {
     "data": {
      "text/plain": [
       "[Function: Pikachu]"
      ]
     },
     "execution_count": 9,
     "metadata": {},
     "output_type": "execute_result"
    }
   ],
   "source": [
    "class Pikachu extends Pokemon\n",
    "{\n",
    "    constructor(exp=1, fuerza=1, resistencia=1, gold=0)\n",
    "    {\n",
    "        super(exp, fuerza, resistencia, gold)\n",
    "        this.exp = exp;\n",
    "        this.gold = gold;\n",
    "        this.especie = \"Pikachu\";\n",
    "        this.fuerza = fuerza;\n",
    "        this.resistencia = resistencia;\n",
    "        this.vida = 100;\n",
    "    }\n",
    "    atacktrueno()\n",
    "    {\n",
    "        return this.fuerza * this.exp;\n",
    "    }\n",
    "    electrocuta()\n",
    "    {\n",
    "        if (this.especie == \"Pikachu\")\n",
    "        {\n",
    "            return undefined;\n",
    "        }\n",
    "        if (this.especie == \"Raichu\")\n",
    "        {\n",
    "            return this.fuerza * 1.5 * this.exp * 1.2;\n",
    "        }\n",
    "    }\n",
    "    evoluciona()\n",
    "    {\n",
    "        if (this.exp >= 15 && this.exp < 30 && this.gold >= 25 && this.especie == \"Pikachu\")\n",
    "        {\n",
    "            this.gold -= 25;\n",
    "            this.especie = \"Raichu\";\n",
    "            this.fuerza = 1.5;\n",
    "            this.resistencia = 2;    \n",
    "        }\n",
    "    }\n",
    "}\n",
    "    "
   ]
  },
  {
   "cell_type": "code",
   "execution_count": 10,
   "metadata": {},
   "outputs": [
    {
     "data": {
      "text/plain": [
       "Pikachu {\n",
       "  exp: 1,\n",
       "  gold: 0,\n",
       "  especie: 'Pikachu',\n",
       "  fuerza: 1,\n",
       "  resistencia: 1,\n",
       "  vida: 100 }"
      ]
     },
     "execution_count": 10,
     "metadata": {},
     "output_type": "execute_result"
    }
   ],
   "source": [
    "mascota = new Pikachu;"
   ]
  },
  {
   "cell_type": "code",
   "execution_count": 11,
   "metadata": {},
   "outputs": [
    {
     "data": {
      "text/plain": [
       "99"
      ]
     },
     "execution_count": 11,
     "metadata": {},
     "output_type": "execute_result"
    }
   ],
   "source": [
    "squirtle.recibe_ataque(mascota, \"atacktrueno\")"
   ]
  },
  {
   "cell_type": "markdown",
   "metadata": {},
   "source": [
    "<p style=\"text-align: center\"><a rel=\"license\" href=\"http://creativecommons.org/licenses/by/4.0/\"><img alt=\"Licencia Creative Commons\" style=\"border-width:0\" src=\"https://i.creativecommons.org/l/by/4.0/80x15.png\" /></a><br />Esta obra está bajo una <a rel=\"license\" href=\"http://creativecommons.org/licenses/by/4.0/\">Licencia Creative Commons Atribución 4.0 Internacional</a>.</p>\n",
    "<p style=\"text-align: center\">&copy; José Luis Chiquete Valdivieso. 2018.</p>"
   ]
  }
 ],
 "metadata": {
  "kernelspec": {
   "display_name": "Javascript (Node.js)",
   "language": "javascript",
   "name": "javascript"
  },
  "language_info": {
   "file_extension": ".js",
   "mimetype": "application/javascript",
   "name": "javascript",
   "version": "6.14.3"
  }
 },
 "nbformat": 4,
 "nbformat_minor": 2
}
