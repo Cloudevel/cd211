{
 "cells": [
  {
   "cell_type": "markdown",
   "metadata": {},
   "source": [
    "[![imagenes/pythonista.png](imagenes/pythonista.png)](https://pythonista.io)"
   ]
  },
  {
   "cell_type": "code",
   "execution_count": 6,
   "metadata": {},
   "outputs": [
    {
     "ename": "ReferenceError",
     "evalue": "Hola is not defined",
     "output_type": "error",
     "traceback": [
      "undefined:1",
      "Hola",
      "^",
      "",
      "ReferenceError: Hola is not defined",
      "    at eval (eval at <anonymous> (evalmachine.<anonymous>:1:13), <anonymous>:1:1)",
      "    at evalmachine.<anonymous>:1:13",
      "    at ContextifyScript.Script.runInThisContext (vm.js:25:33)",
      "    at Object.runInThisContext (vm.js:97:38)",
      "    at run ([eval]:1002:15)",
      "    at onRunRequest ([eval]:829:18)",
      "    at onMessage ([eval]:789:13)",
      "    at emitTwo (events.js:106:13)",
      "    at process.emit (events.js:191:7)",
      "    at process.nextTick (internal/child_process.js:787:12)"
     ]
    }
   ],
   "source": [
    "console.log(eval('Hola'));"
   ]
  },
  {
   "cell_type": "markdown",
   "metadata": {},
   "source": [
    "## Gestión de errores con try.. catch."
   ]
  },
  {
   "cell_type": "code",
   "execution_count": 7,
   "metadata": {},
   "outputs": [
    {
     "name": "stdout",
     "output_type": "stream",
     "text": [
      "Aquí no pasó nada.\n",
      "Buen día.\n"
     ]
    }
   ],
   "source": [
    "try \n",
    "{\n",
    "   console.log(eval('Hola')); \n",
    "}\n",
    "catch(error)\n",
    "{\n",
    "    console.log('Aquí no pasó nada.');\n",
    "}\n",
    "console.log('Buen día.');"
   ]
  },
  {
   "cell_type": "code",
   "execution_count": 8,
   "metadata": {},
   "outputs": [
    {
     "name": "stdout",
     "output_type": "stream",
     "text": [
      "6\n",
      "Buen día.\n"
     ]
    }
   ],
   "source": [
    "try \n",
    "{\n",
    "   console.log(eval('2 * 3')); \n",
    "}\n",
    "catch(error)\n",
    "{\n",
    "    console.log('Aquí no pasó nada.');\n",
    "}\n",
    "console.log('Buen día.');"
   ]
  },
  {
   "cell_type": "code",
   "execution_count": 9,
   "metadata": {
    "scrolled": true
   },
   "outputs": [
    {
     "name": "stdout",
     "output_type": "stream",
     "text": [
      "Ocurrió el siguiente error: ReferenceError: Hola is not defined\n",
      "    at eval (eval at <anonymous> (evalmachine.<anonymous>:3:16), <anonymous>:1:1)\n",
      "    at evalmachine.<anonymous>:3:16\n",
      "    at ContextifyScript.Script.runInThisContext (vm.js:25:33)\n",
      "    at Object.runInThisContext (vm.js:97:38)\n",
      "    at run ([eval]:1002:15)\n",
      "    at onRunRequest ([eval]:829:18)\n",
      "    at onMessage ([eval]:789:13)\n",
      "    at emitTwo (events.js:106:13)\n",
      "    at process.emit (events.js:191:7)\n",
      "    at process.nextTick (internal/child_process.js:787:12)\n",
      "Buen día.\n"
     ]
    }
   ],
   "source": [
    "try \n",
    "{\n",
    "   console.log(eval('Hola')); \n",
    "}\n",
    "catch(error)\n",
    "{\n",
    "    console.log('Ocurrió el siguiente error:', error);\n",
    "}\n",
    "console.log('Buen día.');"
   ]
  },
  {
   "cell_type": "markdown",
   "metadata": {},
   "source": [
    "**ADVERTENCIA:** El uso de instanceof para detectar el tipod e error aún no está soportado por todos los navegadores."
   ]
  },
  {
   "cell_type": "code",
   "execution_count": 12,
   "metadata": {},
   "outputs": [
    {
     "name": "stdout",
     "output_type": "stream",
     "text": [
      "Error de Referencia\n",
      "Buen día.\n"
     ]
    }
   ],
   "source": [
    "try \n",
    "{\n",
    "   console.log(eval('Hola')); \n",
    "}\n",
    "catch(error)\n",
    "{\n",
    "    if (error instanceof ReferenceError) \n",
    "    {\n",
    "        console.log('Error de Referencia');\n",
    "    }\n",
    "    else\n",
    "    {\n",
    "        console.log(error);\n",
    "    }\n",
    "}\n",
    "console.log('Buen día.');"
   ]
  },
  {
   "cell_type": "markdown",
   "metadata": {},
   "source": [
    " ## Cierre obligatorio con finally."
   ]
  },
  {
   "cell_type": "code",
   "execution_count": 13,
   "metadata": {},
   "outputs": [],
   "source": [
    "function evalua(cadena)\n",
    "{\n",
    "    let bandera = true;\n",
    "    try \n",
    "    {\n",
    "       console.log(eval(cadena)); \n",
    "    }\n",
    "    catch(error)\n",
    "    {\n",
    "        console.log('Ocurrió el siguiente error:', error);\n",
    "        bandera = false;\n",
    "    }\n",
    "    finally\n",
    "    {\n",
    "        if (bandera)\n",
    "        {\n",
    "            console.log('Todo salió bien.')\n",
    "        }\n",
    "        else\n",
    "        {\n",
    "            console.log('Ocurrió un error.')\n",
    "        }\n",
    "    }\n",
    "}"
   ]
  },
  {
   "cell_type": "code",
   "execution_count": 14,
   "metadata": {},
   "outputs": [
    {
     "name": "stdout",
     "output_type": "stream",
     "text": [
      "6\n",
      "Todo salió bien.\n"
     ]
    }
   ],
   "source": [
    "evalua('2 * 3')"
   ]
  },
  {
   "cell_type": "code",
   "execution_count": 15,
   "metadata": {},
   "outputs": [
    {
     "name": "stdout",
     "output_type": "stream",
     "text": [
      "Ocurrió el siguiente error: ReferenceError: Hola is not defined\n",
      "    at eval (eval at evalua (evalmachine.<anonymous>:6:25), <anonymous>:1:1)\n",
      "    at evalua (evalmachine.<anonymous>:6:20)\n",
      "    at evalmachine.<anonymous>:1:1\n",
      "    at ContextifyScript.Script.runInThisContext (vm.js:25:33)\n",
      "    at Object.runInThisContext (vm.js:97:38)\n",
      "    at run ([eval]:1002:15)\n",
      "    at onRunRequest ([eval]:829:18)\n",
      "    at onMessage ([eval]:789:13)\n",
      "    at emitTwo (events.js:106:13)\n",
      "    at process.emit (events.js:191:7)\n",
      "Ocurrió un error.\n"
     ]
    }
   ],
   "source": [
    "evalua('Hola')"
   ]
  },
  {
   "cell_type": "markdown",
   "metadata": {},
   "source": [
    "## Creación de excepción con throw()."
   ]
  },
  {
   "cell_type": "code",
   "execution_count": 16,
   "metadata": {},
   "outputs": [],
   "source": [
    "function evalua(cadena)\n",
    "{\n",
    "    let bandera = true;\n",
    "    try \n",
    "    {  \n",
    "        if (cadena == 1)\n",
    "        {\n",
    "            throw('error previsto')\n",
    "        }\n",
    "        console.log(eval(cadena)); \n",
    "    }\n",
    "    catch(error)\n",
    "    {\n",
    "        console.log('Ocurrió el siguiente error:', error);\n",
    "        bandera = false;\n",
    "    }\n",
    "    finally\n",
    "    {\n",
    "        if (bandera)\n",
    "        {\n",
    "            console.log('Todo salió bien.')\n",
    "        }\n",
    "        else\n",
    "        {\n",
    "            console.log('Ocurrió un error.')\n",
    "        }\n",
    "    }\n",
    "}"
   ]
  },
  {
   "cell_type": "code",
   "execution_count": 17,
   "metadata": {},
   "outputs": [
    {
     "name": "stdout",
     "output_type": "stream",
     "text": [
      "Ocurrió el siguiente error: ReferenceError: Hola is not defined\n",
      "    at eval (eval at evalua (evalmachine.<anonymous>:10:26), <anonymous>:1:1)\n",
      "    at evalua (evalmachine.<anonymous>:10:21)\n",
      "    at evalmachine.<anonymous>:1:1\n",
      "    at ContextifyScript.Script.runInThisContext (vm.js:25:33)\n",
      "    at Object.runInThisContext (vm.js:97:38)\n",
      "    at run ([eval]:1002:15)\n",
      "    at onRunRequest ([eval]:829:18)\n",
      "    at onMessage ([eval]:789:13)\n",
      "    at emitTwo (events.js:106:13)\n",
      "    at process.emit (events.js:191:7)\n",
      "Ocurrió un error.\n"
     ]
    }
   ],
   "source": [
    "evalua('Hola');"
   ]
  },
  {
   "cell_type": "code",
   "execution_count": 18,
   "metadata": {},
   "outputs": [
    {
     "name": "stdout",
     "output_type": "stream",
     "text": [
      "6\n",
      "Todo salió bien.\n"
     ]
    }
   ],
   "source": [
    "evalua('2 * 3');"
   ]
  },
  {
   "cell_type": "code",
   "execution_count": 19,
   "metadata": {},
   "outputs": [
    {
     "name": "stdout",
     "output_type": "stream",
     "text": [
      "Ocurrió el siguiente error: error previsto\n",
      "Ocurrió un error.\n"
     ]
    }
   ],
   "source": [
    "evalua('1');"
   ]
  },
  {
   "cell_type": "markdown",
   "metadata": {},
   "source": [
    "<p style=\"text-align: center\"><a rel=\"license\" href=\"http://creativecommons.org/licenses/by/4.0/\"><img alt=\"Licencia Creative Commons\" style=\"border-width:0\" src=\"https://i.creativecommons.org/l/by/4.0/80x15.png\" /></a><br />Esta obra está bajo una <a rel=\"license\" href=\"http://creativecommons.org/licenses/by/4.0/\">Licencia Creative Commons Atribución 4.0 Internacional</a>.</p>\n",
    "<p style=\"text-align: center\">&copy; José Luis Chiquete Valdivieso. 2018.</p>"
   ]
  }
 ],
 "metadata": {
  "kernelspec": {
   "display_name": "Javascript (Node.js)",
   "language": "javascript",
   "name": "javascript"
  },
  "language_info": {
   "file_extension": ".js",
   "mimetype": "application/javascript",
   "name": "javascript",
   "version": "6.14.3"
  }
 },
 "nbformat": 4,
 "nbformat_minor": 2
}
