{
 "cells": [
  {
   "cell_type": "markdown",
   "metadata": {},
   "source": [
    "[![cloudevel](Imagenes/cloudevel.png)](https://cloudevel.com)"
   ]
  },
  {
   "cell_type": "markdown",
   "metadata": {},
   "source": [
    "Aún cuando este módulo pertenezca a la serie de cursos de Pythonista<sup>®</sup>, la mayor parte de este está enfocada a presentar recursos y frameworks basados en HTML, CSS, Javascript y SVG. Sólo hasta los capítulos intermedios de este módulo se utilizarán las notebooks de Jupyter para ejecutar código en Python.\n",
    "\n",
    "Es por lo anterior que parte de los ejercicios de este módulo se realizarán fuera de las notebooks que contienen los apuntes y se ejecutarán en un navegador web, ya sea por medio de la carga de archivos o directamente por medio de una consola de Javascript.\n",
    "\n",
    "## Advertencia.\n",
    "\n",
    "Para que las notebooks de este módulo se ejecuten correctamente, es necesario que todas las salidas de las celdas estén limpias.\n",
    "\n",
    "En caso contrario es necesario seleccionar **Cell| All Output| Clear** del menú de la notebook, guardarla, cerrarla y abrirla nuevamente."
   ]
  },
  {
   "cell_type": "markdown",
   "metadata": {},
   "source": [
    "## Mozilla Firefox.\n",
    "\n",
    "Prácticamente todos los navegadores web modernos cuentan con herramientas de inspección de contenidos, las cuales incluyen:\n",
    "\n",
    "* Un visor de elementos.\n",
    "* Una consola con un shell de Javascript.\n",
    "* Un depurador.\n",
    "* Un editor de estilos.\n",
    "* Herramientas de medición de recursos y rendimiento.\n",
    "\n",
    "Para este curso se ha elegido utilizar Mozilla Firefox para ilustrar los apuntes y se recomienda instalar la versión más reciente de la [edición para desarrolladores de Firefox](https://www.mozilla.org/es-ES/firefox/developer/). \n",
    "\n",
    "### Accceso al inspector de elementos.\n",
    "\n",
    "Para acceder al inspector de elementos de Mozilla Firefox se deben de oprimir las teclas <kbd>Shift</kbd>+<kbd>Ctrl</kbd>+<kbd>S</kbd> de forma simultánea."
   ]
  },
  {
   "cell_type": "markdown",
   "metadata": {},
   "source": [
    "## Uso de los comandos mágicos de Jupyter.\n",
    "\n",
    "Las notebooks de Jupyter que incluyen el kernel de Python permiten ejecutar ciertos \"comandos mágicos\", que a su vez son capaces de realizar diversas acciones tanto en el entorno de la notebook como en la ejecución de la celda desde la que se ejecutan dichos comandos.\n",
    "\n",
    "Para mayor información acerca de los comandos mágicos puede consultar la siguiente liga:\n",
    "\n",
    "https://ipython.readthedocs.io/en/stable/interactive/magics.html\n"
   ]
  },
  {
   "cell_type": "markdown",
   "metadata": {},
   "source": [
    "### El comando mágico *%%html*.\n",
    "\n",
    "Este comando permite desplegar código HTML desde una celda de código. Dicho código se vuelve parte del objeto *document* que conforma a la notebook."
   ]
  },
  {
   "cell_type": "markdown",
   "metadata": {},
   "source": [
    "**Ejemplo:**\n",
    "\n",
    "Se utilizará código HTML para desplegar un par de mensajes."
   ]
  },
  {
   "cell_type": "code",
   "execution_count": null,
   "metadata": {
    "scrolled": true
   },
   "outputs": [],
   "source": [
    "%%html\n",
    "<h1>Hola Mundo.</h1>\n",
    "<p> Esta es una muestra de lo que puede hacer el comando mágico <em>%%html</em>.</p>"
   ]
  },
  {
   "cell_type": "markdown",
   "metadata": {},
   "source": [
    "### El comando mágico *%%javascript*.\n",
    "\n",
    "Este comando mágico permite ejecutar código en Javascript el cual es capaz de inertactuar con el DOM de la notebook que lo contiene."
   ]
  },
  {
   "cell_type": "markdown",
   "metadata": {},
   "source": [
    "**Ejemplo:**\n",
    "\n",
    "El siguiente código en Javascipt hará lo siguiente:\n",
    "* Seleccionará y modificará al elemento *&lt;body&gt;* de la notebook y cambiará su color de fondo a gris.\n",
    "* Seleccionará y modificará al círculo con el atributo *id=\"circulo\"* y calbiará su color de fondo a amarillo. El cambio se realizará en la celda en la que el círculo fue mostrado."
   ]
  },
  {
   "cell_type": "code",
   "execution_count": null,
   "metadata": {
    "scrolled": false
   },
   "outputs": [],
   "source": [
    "%%javascript\n",
    "\n",
    "let cuerpo = document.getElementsByTagName(\"body\")[0];\n",
    "cuerpo.style.backgroundColor=\"gray\";\n",
    "let circulo = document.getElementById(\"circulo\");\n",
    "circulo.style.fill=\"yellow\";"
   ]
  },
  {
   "cell_type": "markdown",
   "metadata": {},
   "source": [
    "<p style=\"text-align: center\"><a rel=\"license\" href=\"http://creativecommons.org/licenses/by/4.0/\"><img alt=\"Licencia Creative Commons\" style=\"border-width:0\" src=\"https://i.creativecommons.org/l/by/4.0/80x15.png\" /></a><br />Esta obra está bajo una <a rel=\"license\" href=\"http://creativecommons.org/licenses/by/4.0/\">Licencia Creative Commons Atribución 4.0 Internacional</a>.</p>\n",
    "<p style=\"text-align: center\">&copy; José Luis Chiquete Valdivieso. 2019.</p>"
   ]
  }
 ],
 "metadata": {
  "kernelspec": {
   "display_name": "Python 3",
   "language": "python",
   "name": "python3"
  },
  "language_info": {
   "codemirror_mode": {
    "name": "ipython",
    "version": 3
   },
   "file_extension": ".py",
   "mimetype": "text/x-python",
   "name": "python",
   "nbconvert_exporter": "python",
   "pygments_lexer": "ipython3",
   "version": "3.7.3"
  }
 },
 "nbformat": 4,
 "nbformat_minor": 2
}
