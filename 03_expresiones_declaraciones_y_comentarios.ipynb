{
 "cells": [
  {
   "cell_type": "markdown",
   "metadata": {},
   "source": [
    "[![cloudevel](Imagenes/cloudevel.png)](https://cloudevel.com)"
   ]
  },
  {
   "cell_type": "markdown",
   "metadata": {},
   "source": [
    "# Expresiones y declaraciones.\n",
    "\n",
    "## Expresiones.\n",
    "Uan expresión es una serie ordenada y coherente de valores, nombres, funciones y operadores que regresan a su vez un resultado."
   ]
  },
  {
   "cell_type": "markdown",
   "metadata": {},
   "source": [
    "**Ejemplos:**\n",
    "\n",
    "Las siguientes son expresiones válidas de *Javascript*;"
   ]
  },
  {
   "cell_type": "code",
   "execution_count": null,
   "metadata": {},
   "outputs": [],
   "source": [
    "123 + 23;"
   ]
  },
  {
   "cell_type": "code",
   "execution_count": null,
   "metadata": {},
   "outputs": [],
   "source": [
    "\"Hola\" != \"hola\" || 17 > 3;"
   ]
  },
  {
   "cell_type": "code",
   "execution_count": null,
   "metadata": {},
   "outputs": [],
   "source": [
    "'Hola, mundo'.toUpperCase();"
   ]
  },
  {
   "cell_type": "code",
   "execution_count": null,
   "metadata": {},
   "outputs": [],
   "source": [
    "isNaN(\"No soy un número\");"
   ]
  },
  {
   "cell_type": "markdown",
   "metadata": {},
   "source": [
    "### Sobre el uso del punto y coma (*;*).\n",
    "\n",
    "Javascript delimita al final de una línea de código con un signo de punto y coma ```;```.\n",
    "\n",
    "Actualmente, los intérpretes y consolas identifican en retorno de línea como el final de una expresión. Sin embargo, durante este curso se hará uso estricto de las recomendaciones y mejores prácticas, por lo que se hará uso dl punto  y coma al final de cada línea de código."
   ]
  },
  {
   "cell_type": "markdown",
   "metadata": {},
   "source": [
    "### Varias expresiones en una sola línea."
   ]
  },
  {
   "cell_type": "markdown",
   "metadata": {},
   "source": [
    "**Ejemplo:**"
   ]
  },
  {
   "cell_type": "code",
   "execution_count": null,
   "metadata": {},
   "outputs": [],
   "source": [
    "123 + 23; \"Hola\" != \"hola\" || 17 > 3; 'Hola, mundo'.toUpperCase();"
   ]
  },
  {
   "cell_type": "markdown",
   "metadata": {},
   "source": [
    "## Declaraciones.\n",
    "\n",
    "Las declaraciones representan bloques de código el cual puede contener múltiples expresiones y no regresan valores."
   ]
  },
  {
   "cell_type": "markdown",
   "metadata": {},
   "source": [
    "**Ejemplo:**"
   ]
  },
  {
   "cell_type": "code",
   "execution_count": 1,
   "metadata": {},
   "outputs": [
    {
     "ename": "SyntaxError",
     "evalue": "Unexpected token %",
     "output_type": "error",
     "traceback": [
      "evalmachine.<anonymous>:1",
      "%%javascript",
      "^",
      "",
      "SyntaxError: Unexpected token %",
      "    at createScript (vm.js:56:10)",
      "    at Object.runInThisContext (vm.js:97:10)",
      "    at run ([eval]:1002:15)",
      "    at onRunRequest ([eval]:829:18)",
      "    at onMessage ([eval]:789:13)",
      "    at emitTwo (events.js:106:13)",
      "    at process.emit (events.js:191:7)",
      "    at process.nextTick (internal/child_process.js:787:12)",
      "    at _combinedTickCallback (internal/process/next_tick.js:73:7)",
      "    at process._tickCallback (internal/process/next_tick.js:104:9)"
     ]
    }
   ],
   "source": [
    "console.log(123 + 23);\n",
    "console.log(15 -3);\n",
    "console.log(\"54\" * 5);"
   ]
  },
  {
   "cell_type": "markdown",
   "metadata": {},
   "source": [
    "## Comentarios."
   ]
  },
  {
   "cell_type": "code",
   "execution_count": null,
   "metadata": {},
   "outputs": [],
   "source": [
    "123 + 23; // Esto no es interpetado.\n",
    "console.log(\"54\" * 5);"
   ]
  },
  {
   "cell_type": "code",
   "execution_count": null,
   "metadata": {},
   "outputs": [],
   "source": [
    "/* Este es un comentario\n",
    "de varias líneas*/\n",
    "console.log(\"54\" * 5);\n",
    "123 + 23; // Esto no es interpetado."
   ]
  },
  {
   "cell_type": "markdown",
   "metadata": {},
   "source": [
    "<p style=\"text-align: center\"><a rel=\"license\" href=\"http://creativecommons.org/licenses/by/4.0/\"><img alt=\"Licencia Creative Commons\" style=\"border-width:0\" src=\"https://i.creativecommons.org/l/by/4.0/80x15.png\" /></a><br />Esta obra está bajo una <a rel=\"license\" href=\"http://creativecommons.org/licenses/by/4.0/\">Licencia Creative Commons Atribución 4.0 Internacional</a>.</p>\n",
    "<p style=\"text-align: center\">&copy; José Luis Chiquete Valdivieso. 2019.</p>"
   ]
  }
 ],
 "metadata": {
  "kernelspec": {
   "display_name": "Javascript (Node.js)",
   "language": "javascript",
   "name": "javascript"
  },
  "language_info": {
   "file_extension": ".js",
   "mimetype": "application/javascript",
   "name": "javascript",
   "version": "6.14.3"
  }
 },
 "nbformat": 4,
 "nbformat_minor": 2
}
