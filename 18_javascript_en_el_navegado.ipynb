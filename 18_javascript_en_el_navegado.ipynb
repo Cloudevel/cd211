{
 "cells": [
  {
   "cell_type": "markdown",
   "metadata": {},
   "source": [
    "[![imagenes/pythonista.png](imagenes/pythonista.png)](https://pythonista.io)"
   ]
  },
  {
   "cell_type": "markdown",
   "metadata": {},
   "source": [
    "Javascript es un lenguaje orientado a eventos, por lo que es posible que un script o una función sea ejecutada mediante:\n",
    "\n",
    "* Formas\n",
    "* Eventos\n",
    "* Ventanas"
   ]
  },
  {
   "cell_type": "markdown",
   "metadata": {},
   "source": [
    "## Inclusión de un script en un documento HTML.\n",
    "\n",
    "Existen dos formas de incluir uno script de Javascript:\n",
    "\n",
    "* *Incluyendo el código dentro del documento con la etiqueta *&lt;script&gt;*.\n",
    "\n",
    "``` html\n",
    "<script>\n",
    "    ...\n",
    "    código\n",
    "    ...\n",
    "</script>\n",
    "```\n",
    "\n",
    "* Importando el código de un archivo mediante la siguiente sintaxis:\n",
    "\n",
    "``` html\n",
    "<script src=\"URL\"></script>\n",
    "```"
   ]
  },
  {
   "cell_type": "markdown",
   "metadata": {},
   "source": [
    "<p style=\"text-align: center\"><a rel=\"license\" href=\"http://creativecommons.org/licenses/by/4.0/\"><img alt=\"Licencia Creative Commons\" style=\"border-width:0\" src=\"https://i.creativecommons.org/l/by/4.0/80x15.png\" /></a><br />Esta obra está bajo una <a rel=\"license\" href=\"http://creativecommons.org/licenses/by/4.0/\">Licencia Creative Commons Atribución 4.0 Internacional</a>.</p>\n",
    "<p style=\"text-align: center\">&copy; José Luis Chiquete Valdivieso. 2018.</p>"
   ]
  }
 ],
 "metadata": {
  "kernelspec": {
   "display_name": "Javascript (Node.js)",
   "language": "javascript",
   "name": "javascript"
  },
  "language_info": {
   "file_extension": ".js",
   "mimetype": "application/javascript",
   "name": "javascript",
   "version": "6.14.3"
  }
 },
 "nbformat": 4,
 "nbformat_minor": 2
}
