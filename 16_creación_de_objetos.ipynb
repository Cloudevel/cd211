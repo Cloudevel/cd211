{
 "cells": [
  {
   "cell_type": "markdown",
   "metadata": {},
   "source": [
    "[![cloudevel](Imagenes/cloudevel.png)](https://cloudevel.com)"
   ]
  },
  {
   "cell_type": "markdown",
   "metadata": {},
   "source": [
    "## Creación de objetos antes de *ES5*.\n",
    "\n",
    "Desde su creación, *Javascript* ha sido un lenguaje orientado a objetos, permitiendo el uso de propiedades y métodos. Sin embargo, la forma de crear dichos objetos en *Javascript* ha evolucionado desde su creación. \n",
    "\n",
    "La notación de *JSON* es la forma inicial en la que *Javascript* definía objetos sin necesidad de crear clases. Esta forma de crear objetos es contraria a muchos principios del paradigma de la programación orientada a objetos. "
   ]
  },
  {
   "cell_type": "markdown",
   "metadata": {},
   "source": [
    "**Ejemplo:**"
   ]
  },
  {
   "cell_type": "code",
   "execution_count": null,
   "metadata": {},
   "outputs": [],
   "source": [
    "let objeto = {nombre: \"Juan\",\n",
    "              apellido: \"Sánchez\",\n",
    "              correo: \"juan123@example.com\"\n",
    "             }"
   ]
  },
  {
   "cell_type": "code",
   "execution_count": null,
   "metadata": {},
   "outputs": [],
   "source": [
    "objeto.nombre"
   ]
  },
  {
   "cell_type": "code",
   "execution_count": null,
   "metadata": {},
   "outputs": [],
   "source": [
    "objeto['apellido']"
   ]
  },
  {
   "cell_type": "markdown",
   "metadata": {},
   "source": [
    "### Métodos.\n",
    "\n",
    "Los métodos son objetos de tipo *function* que son definidos dentro de un objeto."
   ]
  },
  {
   "cell_type": "code",
   "execution_count": 14,
   "metadata": {},
   "outputs": [],
   "source": [
    "let calculadora = {SumaFactores: function(a, b)\n",
    "                   {\n",
    "                       return a + b;\n",
    "                   }\n",
    "                  }"
   ]
  },
  {
   "cell_type": "code",
   "execution_count": null,
   "metadata": {},
   "outputs": [],
   "source": [
    "calculadora.SumaFactores"
   ]
  },
  {
   "cell_type": "code",
   "execution_count": null,
   "metadata": {},
   "outputs": [],
   "source": [
    "calculadora.SumaFactores(2, 3)"
   ]
  },
  {
   "cell_type": "markdown",
   "metadata": {},
   "source": [
    "### Ámbitos.\n",
    "\n",
    "De forma idéntica a las funciones, los métodos tienen un ámbito local y un ámbito local."
   ]
  },
  {
   "cell_type": "code",
   "execution_count": null,
   "metadata": {},
   "outputs": [],
   "source": [
    "calculadora = {SumaFactores: function()\n",
    "                   {\n",
    "                       return a + b;\n",
    "                   }\n",
    "                  }"
   ]
  },
  {
   "cell_type": "code",
   "execution_count": null,
   "metadata": {},
   "outputs": [],
   "source": [
    "calculadora.SumaFactores()"
   ]
  },
  {
   "cell_type": "code",
   "execution_count": null,
   "metadata": {},
   "outputs": [],
   "source": [
    "let a = 5;\n",
    "let b = 3;"
   ]
  },
  {
   "cell_type": "code",
   "execution_count": null,
   "metadata": {},
   "outputs": [],
   "source": [
    "calculadora.SumaFactores()"
   ]
  },
  {
   "cell_type": "code",
   "execution_count": null,
   "metadata": {},
   "outputs": [],
   "source": [
    "calculadora = {\n",
    "    a: 2,\n",
    "    b: 5,\n",
    "    SumaFactores: function()\n",
    "                   {\n",
    "                       return a + b;\n",
    "                   }\n",
    "                  }"
   ]
  },
  {
   "cell_type": "code",
   "execution_count": null,
   "metadata": {},
   "outputs": [],
   "source": [
    "calculadora.SumaFactores()"
   ]
  },
  {
   "cell_type": "markdown",
   "metadata": {},
   "source": [
    "### El nombre ```this```.\n",
    "\n",
    "El nombre ```this``` es la referencia que se utiliza por defecto para hacer referencia al propio objeto. \n",
    "\n",
    "Esto permite a los métodos de un objeto hacer referencia a las propiedades de dicho objeto."
   ]
  },
  {
   "cell_type": "code",
   "execution_count": null,
   "metadata": {},
   "outputs": [],
   "source": [
    "calculadora = {\n",
    "    a: 2,\n",
    "    b: 5,\n",
    "    SumaFactores: function()\n",
    "                   {\n",
    "                       return this.a + this.b;\n",
    "                   }\n",
    "                  }"
   ]
  },
  {
   "cell_type": "code",
   "execution_count": null,
   "metadata": {},
   "outputs": [],
   "source": [
    "calculadora.SumaFactores()"
   ]
  },
  {
   "cell_type": "code",
   "execution_count": null,
   "metadata": {
    "scrolled": true
   },
   "outputs": [],
   "source": [
    "calculadora = {\n",
    "    a: 14,\n",
    "    b: -32,\n",
    "    SumaFactores: function()\n",
    "                   {\n",
    "                       return this.a + this.b;\n",
    "                   },\n",
    "    SumaResta: function()\n",
    "    {\n",
    "      return [this.SumaFactores(), this.a - this.b];  \n",
    "    }\n",
    "                  }\n",
    "    "
   ]
  },
  {
   "cell_type": "code",
   "execution_count": null,
   "metadata": {},
   "outputs": [],
   "source": [
    "calculadora.SumaResta()"
   ]
  },
  {
   "cell_type": "markdown",
   "metadata": {},
   "source": [
    "### Funciones constructoras  de objetos.\n",
    "\n",
    "Ademáa de *JSON* es posble crear \"constructores\", los cuales son funciones que permiten crear objetos. \n",
    "\n",
    "```\n",
    "function <nombre>(<parámetros>) {\n",
    "\n",
    "this.<propiedad 1> = <objeto 1>;\n",
    "this.<propiedad 2> = <objeto 1>;\n",
    "...\n",
    "...\n",
    "this.<propiedad n> = <objeto n>;\n",
    "}\n",
    "```\n",
    "\n",
    "**Nota:** Las funciones también pueden ser añadidas como propiedades."
   ]
  },
  {
   "cell_type": "code",
   "execution_count": 1,
   "metadata": {},
   "outputs": [],
   "source": [
    "function Rectangulo(ancho=2, largo=2)\n",
    "{\n",
    "    this.ancho = ancho;\n",
    "    this.largo = largo;\n",
    "}"
   ]
  },
  {
   "cell_type": "markdown",
   "metadata": {},
   "source": [
    "### Instanciamiento de un objeto.\n",
    "\n",
    "Para instancias un objeto a partir de un constructor se utiliza la instrucción ```new```.\n",
    "\n",
    "```\n",
    "new <Prototipo>(<argumentos>);\n",
    "```"
   ]
  },
  {
   "cell_type": "code",
   "execution_count": 2,
   "metadata": {},
   "outputs": [],
   "source": [
    "let cuadro = new Rectangulo(5, 6);"
   ]
  },
  {
   "cell_type": "code",
   "execution_count": 3,
   "metadata": {},
   "outputs": [
    {
     "data": {
      "text/plain": [
       "Rectangulo { ancho: 5, largo: 6 }"
      ]
     },
     "execution_count": 3,
     "metadata": {},
     "output_type": "execute_result"
    }
   ],
   "source": [
    "cuadro"
   ]
  },
  {
   "cell_type": "code",
   "execution_count": 4,
   "metadata": {},
   "outputs": [
    {
     "data": {
      "text/plain": [
       "5"
      ]
     },
     "execution_count": 4,
     "metadata": {},
     "output_type": "execute_result"
    }
   ],
   "source": [
    "cuadro.ancho"
   ]
  },
  {
   "cell_type": "code",
   "execution_count": 5,
   "metadata": {},
   "outputs": [
    {
     "data": {
      "text/plain": [
       "6"
      ]
     },
     "execution_count": 5,
     "metadata": {},
     "output_type": "execute_result"
    }
   ],
   "source": [
    "cuadro.largo"
   ]
  },
  {
   "cell_type": "markdown",
   "metadata": {},
   "source": [
    "### Agregación de propiedades a un objeto."
   ]
  },
  {
   "cell_type": "code",
   "execution_count": 12,
   "metadata": {},
   "outputs": [
    {
     "data": {
      "text/plain": [
       "'rojo'"
      ]
     },
     "execution_count": 12,
     "metadata": {},
     "output_type": "execute_result"
    }
   ],
   "source": [
    "cuadro.color=\"rojo\";"
   ]
  },
  {
   "cell_type": "code",
   "execution_count": 13,
   "metadata": {},
   "outputs": [
    {
     "data": {
      "text/plain": [
       "'rojo'"
      ]
     },
     "execution_count": 13,
     "metadata": {},
     "output_type": "execute_result"
    }
   ],
   "source": [
    "cuadro.color;"
   ]
  },
  {
   "cell_type": "markdown",
   "metadata": {},
   "source": [
    "### La propiedad ```prototype``` para añadir propiedades a un cosntructor.\n",
    "\n",
    "A diferencia de los objetos insttanciados, los constructores no permiten que se les añadan propiedades usando el operador ```.``` directamente.\n",
    "\n",
    "La propiedad ```prototype``` de un constructor permite añadir propiedades adicionales a un dicho constructor, las cuales serán añadidas a todas las instancias.\n",
    "\n",
    "\n",
    "```\n",
    "<constructor>.prototype.<nombre de la propiedad> = <valor>;\n",
    "```"
   ]
  },
  {
   "cell_type": "code",
   "execution_count": 10,
   "metadata": {},
   "outputs": [
    {
     "data": {
      "text/plain": [
       "[Function]"
      ]
     },
     "execution_count": 10,
     "metadata": {},
     "output_type": "execute_result"
    }
   ],
   "source": [
    "Rectangulo.prototype.superficie = function() {return this.ancho * this.largo};"
   ]
  },
  {
   "cell_type": "code",
   "execution_count": 11,
   "metadata": {},
   "outputs": [
    {
     "data": {
      "text/plain": [
       "30"
      ]
     },
     "execution_count": 11,
     "metadata": {},
     "output_type": "execute_result"
    }
   ],
   "source": [
    "cuadro.superficie();"
   ]
  },
  {
   "cell_type": "markdown",
   "metadata": {},
   "source": [
    "## Clases a partir de *ES5*.\n",
    "\n",
    "A partir se incluyó la instrucción ```class```, al cual permite definir una clase a partir de la cual se pueden generar instancias utilizando ```new```.\n",
    "\n",
    "\n",
    "```\n",
    "class <nombre> {\n",
    "...\n",
    "...\n",
    "}\n",
    "```"
   ]
  },
  {
   "cell_type": "markdown",
   "metadata": {},
   "source": [
    "### Definición de métodos en las clases.\n",
    "\n",
    "Para definir un método dentro de una clase ya no es necesario utilizar ```function``` sólo es necesario usar la siguiente sintaxis:\n",
    "\n",
    "```\n",
    "class <nombre de la clase>{\n",
    "    ...\n",
    "    <nombre del método>(parámetros>){\n",
    "        <código>\n",
    "    }\n",
    "}\n",
    "```"
   ]
  },
  {
   "cell_type": "markdown",
   "metadata": {},
   "source": [
    "### El método ```constructor```.\n",
    "\n",
    "El método ```constructor``` recibirá los argumentos que se ingresen al instanciar a un objeto mediante ```new``` y se ejecutará al realziarse el instanciamiento."
   ]
  },
  {
   "cell_type": "code",
   "execution_count": null,
   "metadata": {},
   "outputs": [],
   "source": [
    "class Cuadrilatero \n",
    "{\n",
    "   constructor(ancho, largo)\n",
    "    {\n",
    "        this.ancho = ancho;\n",
    "        this.largo = largo;\n",
    "    }\n",
    "    superficie()\n",
    "    {\n",
    "        return this.ancho * this.largo;\n",
    "    }\n",
    "\n",
    "}"
   ]
  },
  {
   "cell_type": "code",
   "execution_count": null,
   "metadata": {},
   "outputs": [],
   "source": [
    "cuadrado = new Cuadrilatero(123, 8)"
   ]
  },
  {
   "cell_type": "code",
   "execution_count": null,
   "metadata": {},
   "outputs": [],
   "source": [
    "cuadrado.superficie()"
   ]
  },
  {
   "cell_type": "markdown",
   "metadata": {},
   "source": [
    "## Asignación y obtención de propiedades mediante *get* y *set*."
   ]
  },
  {
   "cell_type": "markdown",
   "metadata": {},
   "source": [
    "### Ejemplo del uso de *get*.\n",
    "\n",
    "Get consulta a un objeto sobre una propiedad y si la propiedad existe, regresa su contenido."
   ]
  },
  {
   "cell_type": "code",
   "execution_count": null,
   "metadata": {},
   "outputs": [],
   "source": [
    "cuadrado.ancho;"
   ]
  },
  {
   "cell_type": "code",
   "execution_count": null,
   "metadata": {},
   "outputs": [],
   "source": [
    "cuadrado.area;"
   ]
  },
  {
   "cell_type": "markdown",
   "metadata": {},
   "source": [
    "### Ejemplo del uso de *set*."
   ]
  },
  {
   "cell_type": "code",
   "execution_count": null,
   "metadata": {},
   "outputs": [],
   "source": [
    "cuadrado.ancho = 56;"
   ]
  },
  {
   "cell_type": "code",
   "execution_count": null,
   "metadata": {},
   "outputs": [],
   "source": [
    "cuadrado.area = 25;"
   ]
  },
  {
   "cell_type": "code",
   "execution_count": null,
   "metadata": {},
   "outputs": [],
   "source": [
    "cuadrado"
   ]
  },
  {
   "cell_type": "code",
   "execution_count": null,
   "metadata": {},
   "outputs": [],
   "source": [
    "cuadrado.area"
   ]
  },
  {
   "cell_type": "code",
   "execution_count": null,
   "metadata": {},
   "outputs": [],
   "source": [
    "let cuadrito = new Cuadrilatero;"
   ]
  },
  {
   "cell_type": "code",
   "execution_count": null,
   "metadata": {},
   "outputs": [],
   "source": [
    "cuadrito.ancho = 2;\n",
    "cuadrito.largo = 97;"
   ]
  },
  {
   "cell_type": "code",
   "execution_count": null,
   "metadata": {},
   "outputs": [],
   "source": [
    "cuadrito.area;"
   ]
  },
  {
   "cell_type": "markdown",
   "metadata": {},
   "source": [
    "### Getters y setters (descriptores).\n",
    "\n",
    "Es posible utilizar métodos *get* y *set* para definir, modificar o regresar porpiedades."
   ]
  },
  {
   "cell_type": "code",
   "execution_count": null,
   "metadata": {},
   "outputs": [],
   "source": [
    "class ValorNumerico\n",
    "{\n",
    "    constructor()\n",
    "    {\n",
    "        this.valor = 0;\n",
    "    }\n",
    "    get numero()\n",
    "    {\n",
    "        return this.valor;\n",
    "    }\n",
    "    set numero(valor)\n",
    "    {\n",
    "        if (typeof(valor) == 'number')\n",
    "        {\n",
    "            this.valor = valor;\n",
    "        }\n",
    "        else\n",
    "        {\n",
    "            console.log(\"formato incorrecto.\");\n",
    "        }\n",
    "    }\n",
    "}"
   ]
  },
  {
   "cell_type": "code",
   "execution_count": null,
   "metadata": {},
   "outputs": [],
   "source": [
    "numero = new ValorNumerico()"
   ]
  },
  {
   "cell_type": "code",
   "execution_count": null,
   "metadata": {},
   "outputs": [],
   "source": [
    "numero.numero;"
   ]
  },
  {
   "cell_type": "code",
   "execution_count": null,
   "metadata": {
    "scrolled": true
   },
   "outputs": [],
   "source": [
    "numero.numero = \"Hola\";"
   ]
  },
  {
   "cell_type": "code",
   "execution_count": null,
   "metadata": {},
   "outputs": [],
   "source": [
    "numero.numero"
   ]
  },
  {
   "cell_type": "code",
   "execution_count": null,
   "metadata": {},
   "outputs": [],
   "source": [
    "numero.numero = 25;"
   ]
  },
  {
   "cell_type": "code",
   "execution_count": null,
   "metadata": {},
   "outputs": [],
   "source": [
    "numero.numero"
   ]
  },
  {
   "cell_type": "code",
   "execution_count": null,
   "metadata": {},
   "outputs": [],
   "source": [
    "for (let i in numero)\n",
    "{\n",
    "    console.log(i);\n",
    "}"
   ]
  },
  {
   "cell_type": "markdown",
   "metadata": {},
   "source": [
    "<p style=\"text-align: center\"><a rel=\"license\" href=\"http://creativecommons.org/licenses/by/4.0/\"><img alt=\"Licencia Creative Commons\" style=\"border-width:0\" src=\"https://i.creativecommons.org/l/by/4.0/80x15.png\" /></a><br />Esta obra está bajo una <a rel=\"license\" href=\"http://creativecommons.org/licenses/by/4.0/\">Licencia Creative Commons Atribución 4.0 Internacional</a>.</p>\n",
    "<p style=\"text-align: center\">&copy; José Luis Chiquete Valdivieso. 2019.</p>"
   ]
  }
 ],
 "metadata": {
  "kernelspec": {
   "display_name": "Javascript (Node.js)",
   "language": "javascript",
   "name": "javascript"
  },
  "language_info": {
   "file_extension": ".js",
   "mimetype": "application/javascript",
   "name": "javascript",
   "version": "6.14.3"
  }
 },
 "nbformat": 4,
 "nbformat_minor": 2
}
