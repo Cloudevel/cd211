{
 "cells": [
  {
   "cell_type": "markdown",
   "metadata": {},
   "source": [
    "[![cloudevel](Imagenes/cloudevel.png)](https://cloudevel.com)"
   ]
  },
  {
   "cell_type": "markdown",
   "metadata": {},
   "source": [
    "# Objetos *JSON*."
   ]
  },
  {
   "cell_type": "markdown",
   "metadata": {
    "collapsed": true
   },
   "source": [
    "## *Javascript Object Notation* (*JSON*).\n",
    "\n",
    "*JSON* es la notación que utilizaba *Javascript* para definir objetos y ha trascendido al lenguaje de programación para ser adoptado como un formato confiable de intercambio de datos.\n",
    "\n",
    "A partir de *ES5* *Javascript* tiene la capacidad definir objetos de una forma más apegada al paradigma de programación orientada objetos mediante *clases*.\n",
    "\n",
    "Sin embargo, las versiones posteriores a *ES5* son compatibles con *JSON*. "
   ]
  },
  {
   "cell_type": "markdown",
   "metadata": {},
   "source": [
    "Un objeto *JSON* se define como una sucesión de pares ```clave:valor``` separados por comas y encerrados entre llaves ```{}```.\n",
    "\n",
    "```\n",
    "{<clave 1>: <objeto 1>, <clave 2>:<objeto 2>,... , <clave n>:<objeto n>};\n",
    "```\n",
    "\n",
    "Las claves se apegan a los formatos de nombre de *Javascript* y se relacionan con cualquier tipo de objeto."
   ]
  },
  {
   "cell_type": "code",
   "execution_count": null,
   "metadata": {},
   "outputs": [],
   "source": [
    "let identidad = {nombre:  \"Jose\"};"
   ]
  },
  {
   "cell_type": "code",
   "execution_count": null,
   "metadata": {},
   "outputs": [],
   "source": [
    "identidad;"
   ]
  },
  {
   "cell_type": "code",
   "execution_count": null,
   "metadata": {},
   "outputs": [],
   "source": [
    "let datos = {nombre_completo: ['Juan', 'Camarena', 'Gil'], telefono: \"5555-1234-67\"};"
   ]
  },
  {
   "cell_type": "code",
   "execution_count": null,
   "metadata": {},
   "outputs": [],
   "source": [
    "datos;"
   ]
  },
  {
   "cell_type": "markdown",
   "metadata": {},
   "source": [
    "## Acceso a los contenidos de un objeto *JSON* como índices.\n",
    "\n",
    "Para acceder a un elemento de un objeto *JSON* se utiliza la clave correspondiente ingresada como una cadena de caracteres entre corchetes.\n",
    "\n",
    "```\n",
    "<objeto json>[\"<clave>\"];\n",
    "```\n",
    "\n",
    "En caso de ingresar una clave que no exista, *Javascript* regresará ```undefined```. "
   ]
  },
  {
   "cell_type": "code",
   "execution_count": null,
   "metadata": {},
   "outputs": [],
   "source": [
    "datos[\"telefono\"];"
   ]
  },
  {
   "cell_type": "code",
   "execution_count": null,
   "metadata": {},
   "outputs": [],
   "source": [
    "datos[\"nombre_completo\"];"
   ]
  },
  {
   "cell_type": "code",
   "execution_count": null,
   "metadata": {},
   "outputs": [],
   "source": [
    "identidad[\"nombre\"];"
   ]
  },
  {
   "cell_type": "code",
   "execution_count": null,
   "metadata": {},
   "outputs": [],
   "source": [
    "identidad[\"falta\"];"
   ]
  },
  {
   "cell_type": "markdown",
   "metadata": {},
   "source": [
    "## Acceso a los contenidos de un objeto *JSON* como propiedades.\n",
    "\n",
    "Para acceder a un elemento de un objeto *JSON* se utiliza la clave correspondiente ingresada como una cadena de caracteres entre corchetes.\n",
    "\n",
    "```\n",
    "<objeto json>.<clave>;\n",
    "```"
   ]
  },
  {
   "cell_type": "markdown",
   "metadata": {},
   "source": [
    "**Ejemplos:**"
   ]
  },
  {
   "cell_type": "code",
   "execution_count": null,
   "metadata": {},
   "outputs": [],
   "source": [
    "datos.telefono;"
   ]
  },
  {
   "cell_type": "code",
   "execution_count": null,
   "metadata": {},
   "outputs": [],
   "source": [
    "datos.nombre_completo;"
   ]
  },
  {
   "cell_type": "markdown",
   "metadata": {},
   "source": [
    "## Uso del operador de asignación ```=``` con objetos *JSON*."
   ]
  },
  {
   "cell_type": "markdown",
   "metadata": {},
   "source": [
    "Este operador puede ser usado para modificar el valor ligado a la clave de una propiedad o bien, si la propiedad no existe, está se añade con el valor indicado.\n",
    "\n",
    "```\n",
    "<objeto>[\"clave\"] = <nuevo valor>;\n",
    "```\n",
    "o\n",
    "\n",
    "```\n",
    "<objeto>.clave = <nuevo valor>;\n",
    "```"
   ]
  },
  {
   "cell_type": "code",
   "execution_count": null,
   "metadata": {},
   "outputs": [],
   "source": [
    "let vacio = {};"
   ]
  },
  {
   "cell_type": "code",
   "execution_count": null,
   "metadata": {},
   "outputs": [],
   "source": [
    "vacio;"
   ]
  },
  {
   "cell_type": "code",
   "execution_count": null,
   "metadata": {},
   "outputs": [],
   "source": [
    "vacio[\"nombre\"] = \"Juan\";"
   ]
  },
  {
   "cell_type": "code",
   "execution_count": null,
   "metadata": {},
   "outputs": [],
   "source": [
    "vacio;"
   ]
  },
  {
   "cell_type": "code",
   "execution_count": null,
   "metadata": {},
   "outputs": [],
   "source": [
    "identidad;"
   ]
  },
  {
   "cell_type": "code",
   "execution_count": null,
   "metadata": {},
   "outputs": [],
   "source": [
    "identidad.nombre = \"Juan\";"
   ]
  },
  {
   "cell_type": "code",
   "execution_count": null,
   "metadata": {},
   "outputs": [],
   "source": [
    "identidad;"
   ]
  },
  {
   "cell_type": "markdown",
   "metadata": {},
   "source": [
    "<p style=\"text-align: center\"><a rel=\"license\" href=\"http://creativecommons.org/licenses/by/4.0/\"><img alt=\"Licencia Creative Commons\" style=\"border-width:0\" src=\"https://i.creativecommons.org/l/by/4.0/80x15.png\" /></a><br />Esta obra está bajo una <a rel=\"license\" href=\"http://creativecommons.org/licenses/by/4.0/\">Licencia Creative Commons Atribución 4.0 Internacional</a>.</p>\n",
    "<p style=\"text-align: center\">&copy; José Luis Chiquete Valdivieso. 2020.</p>"
   ]
  }
 ],
 "metadata": {
  "kernelspec": {
   "display_name": "Javascript (Node.js)",
   "language": "javascript",
   "name": "javascript"
  },
  "language_info": {
   "file_extension": ".js",
   "mimetype": "application/javascript",
   "name": "javascript",
   "version": "8.10.0"
  }
 },
 "nbformat": 4,
 "nbformat_minor": 2
}
