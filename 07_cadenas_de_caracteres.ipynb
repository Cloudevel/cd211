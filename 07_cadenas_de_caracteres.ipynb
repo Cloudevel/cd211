{
 "cells": [
  {
   "cell_type": "markdown",
   "metadata": {},
   "source": [
    "[![cloudevel](Imagenes/cloudevel.png)](https://cloudevel.com)"
   ]
  },
  {
   "cell_type": "markdown",
   "metadata": {},
   "source": [
    "# Cadenas de caracteres."
   ]
  },
  {
   "cell_type": "markdown",
   "metadata": {},
   "source": [
    "## El objeto ```String```.\n",
    "\n",
    "Las cadenas de caracteres son instancias del objeto ```String```. En este capítulo se explorarán algunos métodos de estos objetos."
   ]
  },
  {
   "cell_type": "markdown",
   "metadata": {},
   "source": [
    "Es posible acceder a una referencia de los métodos de los objetos ```String```  desde: \n",
    "\n",
    "https://www.w3schools.com/jsref/jsref_obj_string.asp"
   ]
  },
  {
   "cell_type": "markdown",
   "metadata": {},
   "source": [
    "**Ejemplo:**"
   ]
  },
  {
   "cell_type": "markdown",
   "metadata": {},
   "source": [
    "* La siguiente celda usará el, operador ```.``` y  el método ```toUpperCase()``` de un objeto instanciado de ```String```."
   ]
  },
  {
   "cell_type": "code",
   "execution_count": 1,
   "metadata": {},
   "outputs": [
    {
     "data": {
      "text/plain": [
       "'HOLA'"
      ]
     },
     "execution_count": 1,
     "metadata": {},
     "output_type": "execute_result"
    }
   ],
   "source": [
    "\"Hola\".toUpperCase();"
   ]
  },
  {
   "cell_type": "markdown",
   "metadata": {},
   "source": [
    "## Métodos."
   ]
  },
  {
   "cell_type": "markdown",
   "metadata": {},
   "source": [
    "### Métodos de transformación.\n",
    "\n",
    "Los siguientes métodos regresan el texto contenido del objeto de tipo ```String``` con modificaciones específicas."
   ]
  },
  {
   "cell_type": "markdown",
   "metadata": {},
   "source": [
    "**Ejemplo:**"
   ]
  },
  {
   "cell_type": "markdown",
   "metadata": {},
   "source": [
    "Se creará la variable ```cadena``` la cual contendrá la cadena ```Hola, mundo.```."
   ]
  },
  {
   "cell_type": "code",
   "execution_count": 2,
   "metadata": {},
   "outputs": [],
   "source": [
    "let cadena = \"Hola, mundo.\";"
   ]
  },
  {
   "cell_type": "markdown",
   "metadata": {},
   "source": [
    "### Métodos de cambio de mayúsculas  y minúsculas.\n",
    "\n",
    "* El método ```toUpperCase()``` regresará una cadena de caracteres en mayúsculas.\n",
    "* El método ```toLowerCase()``` regresará una cadena de caracteres en minúsculas."
   ]
  },
  {
   "cell_type": "code",
   "execution_count": 3,
   "metadata": {},
   "outputs": [
    {
     "data": {
      "text/plain": [
       "'HOLA, MUNDO.'"
      ]
     },
     "execution_count": 3,
     "metadata": {},
     "output_type": "execute_result"
    }
   ],
   "source": [
    "cadena.toUpperCase();"
   ]
  },
  {
   "cell_type": "code",
   "execution_count": 4,
   "metadata": {},
   "outputs": [
    {
     "data": {
      "text/plain": [
       "'hola, mundo.'"
      ]
     },
     "execution_count": 4,
     "metadata": {},
     "output_type": "execute_result"
    }
   ],
   "source": [
    "cadena.toLowerCase();"
   ]
  },
  {
   "cell_type": "markdown",
   "metadata": {},
   "source": [
    "Los suguientes métodos son similares, pero se aplican a la configuraciónd e codificación del avegador o del, sistema.\n",
    "\n",
    "* ```toLocaleUppercase()```.\n",
    "* ```toLocaleLowerCase()```."
   ]
  },
  {
   "cell_type": "markdown",
   "metadata": {},
   "source": [
    "* Se creará la variable ```cadena_griega``` la cual contendrá la cadena ```'Hola αβΓ'```."
   ]
  },
  {
   "cell_type": "code",
   "execution_count": 8,
   "metadata": {},
   "outputs": [
    {
     "ename": "SyntaxError",
     "evalue": "Identifier 'cadena_griega' has already been declared",
     "output_type": "error",
     "traceback": [
      "evalmachine.<anonymous>:1",
      "let cadena_griega = 'Hola αβΓ';",
      "^",
      "",
      "SyntaxError: Identifier 'cadena_griega' has already been declared",
      "    at evalmachine.<anonymous>:1:1",
      "    at ContextifyScript.Script.runInThisContext (vm.js:50:33)",
      "    at Object.runInThisContext (vm.js:139:38)",
      "    at run ([eval]:1054:15)",
      "    at onRunRequest ([eval]:888:18)",
      "    at onMessage ([eval]:848:13)",
      "    at emitTwo (events.js:126:13)",
      "    at process.emit (events.js:214:7)",
      "    at emit (internal/child_process.js:772:12)",
      "    at _combinedTickCallback (internal/process/next_tick.js:141:11)"
     ]
    }
   ],
   "source": [
    "let cadena_griega = 'Hola αβΓ';"
   ]
  },
  {
   "cell_type": "code",
   "execution_count": 9,
   "metadata": {},
   "outputs": [
    {
     "data": {
      "text/plain": [
       "'HOLA ΑΒΓ'"
      ]
     },
     "execution_count": 9,
     "metadata": {},
     "output_type": "execute_result"
    }
   ],
   "source": [
    "cadena_griega.toLocaleUpperCase();"
   ]
  },
  {
   "cell_type": "code",
   "execution_count": 10,
   "metadata": {},
   "outputs": [
    {
     "data": {
      "text/plain": [
       "'hola αβγ'"
      ]
     },
     "execution_count": 10,
     "metadata": {},
     "output_type": "execute_result"
    }
   ],
   "source": [
    "cadena_griega .toLocaleLowerCase();"
   ]
  },
  {
   "cell_type": "markdown",
   "metadata": {},
   "source": [
    "#### Método ```concat()```.\n",
    "\n",
    "Este método permite concatenar dos elementos de tipo ```String``` e incluso un elemento de tipo ```String``` y uno de tipo numérico y equivale al operador ```+```. "
   ]
  },
  {
   "cell_type": "markdown",
   "metadata": {},
   "source": [
    "**Ejemplos:**"
   ]
  },
  {
   "cell_type": "code",
   "execution_count": 11,
   "metadata": {},
   "outputs": [
    {
     "data": {
      "text/plain": [
       "'Hola, mundo. amigo.'"
      ]
     },
     "execution_count": 11,
     "metadata": {},
     "output_type": "execute_result"
    }
   ],
   "source": [
    "cadena.concat(\" amigo.\");"
   ]
  },
  {
   "cell_type": "code",
   "execution_count": 12,
   "metadata": {},
   "outputs": [
    {
     "data": {
      "text/plain": [
       "'Hola, mundo. amigo.'"
      ]
     },
     "execution_count": 12,
     "metadata": {},
     "output_type": "execute_result"
    }
   ],
   "source": [
    "cadena + \" amigo.\";"
   ]
  },
  {
   "cell_type": "code",
   "execution_count": 13,
   "metadata": {},
   "outputs": [
    {
     "data": {
      "text/plain": [
       "'Hola, mundo.2'"
      ]
     },
     "execution_count": 13,
     "metadata": {},
     "output_type": "execute_result"
    }
   ],
   "source": [
    "cadena.concat(2);"
   ]
  },
  {
   "cell_type": "code",
   "execution_count": 14,
   "metadata": {},
   "outputs": [
    {
     "data": {
      "text/plain": [
       "'Hola, mundo.2'"
      ]
     },
     "execution_count": 14,
     "metadata": {},
     "output_type": "execute_result"
    }
   ],
   "source": [
    "cadena + 2;"
   ]
  },
  {
   "cell_type": "markdown",
   "metadata": {},
   "source": [
    "### Métodos de inspección.\n",
    "\n",
    "Esots métodos permiten extraer caracteres o información de un objeto instanciado de ```String```."
   ]
  },
  {
   "cell_type": "markdown",
   "metadata": {},
   "source": [
    "#### El método ```charAt()```.\n",
    "\n",
    "Las cadenas de caracteres son una suceciónordenada de caracteres, las cuales pueden indexadas empezando desde el ```0``` para el caracter inicial y aumentando de uno en uno para cada caracter a la derecha.\n",
    "\n",
    "El método ```charAt()``` regresará el caracter en la posicioón que se ingrese como argumento.\n",
    "\n",
    "\n",
    "```\n",
    "<cadena>.charAt(n);\n",
    "```\n",
    "\n",
    "Donde:\n",
    "\n",
    "* ```n``` es un valor entero que indica la posición del caracter a extraer. En caso de que se ingrese un valor fuera de rango, regresará una cadena de caracteres vacía."
   ]
  },
  {
   "cell_type": "markdown",
   "metadata": {},
   "source": [
    "**Ejemplo:**"
   ]
  },
  {
   "cell_type": "markdown",
   "metadata": {},
   "source": [
    "* La siguiente celda regresará el caracter correspondiente al índice ```3```de ```\"Hola, mundo.``` contenido en ```cadena```."
   ]
  },
  {
   "cell_type": "code",
   "execution_count": 3,
   "metadata": {},
   "outputs": [
    {
     "data": {
      "text/plain": [
       "'a'"
      ]
     },
     "execution_count": 3,
     "metadata": {},
     "output_type": "execute_result"
    }
   ],
   "source": [
    "cadena.charAt(3);"
   ]
  },
  {
   "cell_type": "markdown",
   "metadata": {},
   "source": [
    "* La siguiente celda regresará el caracter correspondiente al índice ```11```de ```\"Hola, mundo.``` contenido en ```cadena```."
   ]
  },
  {
   "cell_type": "code",
   "execution_count": 5,
   "metadata": {},
   "outputs": [
    {
     "data": {
      "text/plain": [
       "'.'"
      ]
     },
     "execution_count": 5,
     "metadata": {},
     "output_type": "execute_result"
    }
   ],
   "source": [
    "cadena.charAt(11);"
   ]
  },
  {
   "cell_type": "markdown",
   "metadata": {},
   "source": [
    "* La siguiente celda regresará el caracter correspondiente al índice ```13```de ```\"Hola, mundo.``` contenido en ```cadena```, pero al quedar fuera de rango, regresará una cadena de caracteres vacía."
   ]
  },
  {
   "cell_type": "code",
   "execution_count": 6,
   "metadata": {},
   "outputs": [
    {
     "data": {
      "text/plain": [
       "''"
      ]
     },
     "execution_count": 6,
     "metadata": {},
     "output_type": "execute_result"
    }
   ],
   "source": [
    "cadena.charAt(13);"
   ]
  },
  {
   "cell_type": "markdown",
   "metadata": {},
   "source": [
    "#### El método ```charCodeAt()```.\n",
    "\n",
    "El método ```charCodeAt()``` regresará el número correspondiente a a codificación de caracter en la posición que se ingrese como argumento.\n",
    "\n",
    "\n",
    "```\n",
    "<cadena>.charCodeAt(n);\n",
    "```\n",
    "\n",
    "Donde:\n",
    "\n",
    "* ```n``` es un valor entero que indica la posición del caracter a extraer. En caso de que se ingrese un valor fuera de rango, regresará ```NaN```."
   ]
  },
  {
   "cell_type": "markdown",
   "metadata": {},
   "source": [
    "**Ejemplo:**"
   ]
  },
  {
   "cell_type": "markdown",
   "metadata": {},
   "source": [
    "* La siguiente celda regresará el número correspondiente al código del caracter en la posición ```11``` de la cadena ```\"Hola, Mundo.\"```."
   ]
  },
  {
   "cell_type": "code",
   "execution_count": 7,
   "metadata": {},
   "outputs": [
    {
     "data": {
      "text/plain": [
       "46"
      ]
     },
     "execution_count": 7,
     "metadata": {},
     "output_type": "execute_result"
    }
   ],
   "source": [
    "cadena.charCodeAt(11);"
   ]
  },
  {
   "cell_type": "code",
   "execution_count": 8,
   "metadata": {},
   "outputs": [
    {
     "data": {
      "text/plain": [
       "NaN"
      ]
     },
     "execution_count": 8,
     "metadata": {},
     "output_type": "execute_result"
    }
   ],
   "source": [
    "cadena.charCodeAt(13);"
   ]
  },
  {
   "cell_type": "markdown",
   "metadata": {},
   "source": [
    "#### El métodos ```startsWith()```.\n",
    "\n",
    "El método ```startsWith``` valida si la cadena de caracteres que se ingresa como argumento corresponde al inicio de la cadena de caracteres que posee a dicho método.\n",
    "\n",
    "```\n",
    "<cadena 1>.startsWith(<cadena 2>);\n",
    "```\n",
    "Donde:\n",
    "* ```cadena 1``` es la cadena que será validada.\n",
    "* ```cadena 2``` es la cadena cuyo contenido será comparado al incio de ```<cadena 1>```.\n",
    "\n",
    "En caso de que exista una coincidencia, el método regresará ``` true``` y regresará ```false``` en caso contrario."
   ]
  },
  {
   "cell_type": "markdown",
   "metadata": {},
   "source": [
    "**Ejemplo:**"
   ]
  },
  {
   "cell_type": "markdown",
   "metadata": {},
   "source": [
    "* La siguiente celda validará si la cadena de caracteres ```\"H\"``` está contenida al principio de la cadena ```\"Hola, Mundo.\"```."
   ]
  },
  {
   "cell_type": "code",
   "execution_count": 9,
   "metadata": {},
   "outputs": [
    {
     "data": {
      "text/plain": [
       "true"
      ]
     },
     "execution_count": 9,
     "metadata": {},
     "output_type": "execute_result"
    }
   ],
   "source": [
    "cadena.startsWith(\"H\");"
   ]
  },
  {
   "cell_type": "markdown",
   "metadata": {},
   "source": [
    "#### El métodos ```endsWith()```.\n",
    "\n",
    "El método ```endsWith``` valida si la cadena de caracteres que se ingresa como argumento corresponde al final de la cadena de caracteres que posee a dicho método.\n",
    "\n",
    "```\n",
    "<cadena 1>.endsWith(<cadena 2>);\n",
    "```\n",
    "Donde:\n",
    "* ```cadena 1``` es la cadena que será validada.\n",
    "* ```cadena 2``` es la cadena cuyo contenido será comparado al final ```<cadena 1>```.\n",
    "\n",
    "En caso de que exista una coincidencia, el método regresará ``` true``` y regresará ```false``` en caso contrario."
   ]
  },
  {
   "cell_type": "markdown",
   "metadata": {},
   "source": [
    "**Ejemplo:**"
   ]
  },
  {
   "cell_type": "markdown",
   "metadata": {},
   "source": [
    "* La siguiente celda validará si la cadena de caracteres ```\"H\"``` está contenida al final de la cadena ```\"Hola, Mundo.\"```."
   ]
  },
  {
   "cell_type": "code",
   "execution_count": 10,
   "metadata": {
    "scrolled": true
   },
   "outputs": [
    {
     "data": {
      "text/plain": [
       "false"
      ]
     },
     "execution_count": 10,
     "metadata": {},
     "output_type": "execute_result"
    }
   ],
   "source": [
    "cadena.endsWith(\"H\");"
   ]
  },
  {
   "cell_type": "markdown",
   "metadata": {},
   "source": [
    "* La siguiente celda validará si la cadena de caracteres ```\"la\"``` está contenida al final de la cadena ```\"Hola, Mundo.\"```."
   ]
  },
  {
   "cell_type": "code",
   "execution_count": 11,
   "metadata": {},
   "outputs": [
    {
     "data": {
      "text/plain": [
       "false"
      ]
     },
     "execution_count": 11,
     "metadata": {},
     "output_type": "execute_result"
    }
   ],
   "source": [
    "cadena.endsWith(\"la\");"
   ]
  },
  {
   "cell_type": "markdown",
   "metadata": {},
   "source": [
    "* La siguiente celda validará si la cadena de caracteres ```\"do.\"``` está contenida al final de la cadena ```\"Hola, Mundo.\"```."
   ]
  },
  {
   "cell_type": "code",
   "execution_count": 12,
   "metadata": {},
   "outputs": [
    {
     "data": {
      "text/plain": [
       "true"
      ]
     },
     "execution_count": 12,
     "metadata": {},
     "output_type": "execute_result"
    }
   ],
   "source": [
    "cadena.endsWith(\"do.\");"
   ]
  },
  {
   "cell_type": "markdown",
   "metadata": {},
   "source": [
    "### El método ```search()```.\n",
    "\n",
    "Este método buscará un patrón de texto dentro de una cadena de caracteres. En caso de encontrar dicho patrón, regresará el índice de la primera coincidencia de izquerda a derecha.\n",
    "\n",
    "```\n",
    "<cadena>.search(<patrón>);\n",
    "```\n",
    "Donde:\n",
    "* ```<cadena>``` es la cadena que será validada.\n",
    "* ```<patrón>``` puede ser una cadena de caracteres o una expresión regulaer cuyo contenido será buscado dentro de ```<cadena>```.\n",
    "\n",
    "En caso de que exista una coincidencia, el método regresará el índice donde se encuentra la primera coincidencia. En caso contrario, regresará ```-1```.\n"
   ]
  },
  {
   "cell_type": "markdown",
   "metadata": {},
   "source": [
    "**Ejemplo:**"
   ]
  },
  {
   "cell_type": "markdown",
   "metadata": {},
   "source": [
    "* La siguiente celda regresará el índice en el que se encuentra la primera coincidencia de a cadena ```\"alt\"``` dentro de la cadena contenida en ```texto```."
   ]
  },
  {
   "cell_type": "code",
   "execution_count": 13,
   "metadata": {},
   "outputs": [],
   "source": [
    "const texto = \"Javascript es un lenguaje de programación de alto nivel, interpretado y de tipos dinámicos.\";"
   ]
  },
  {
   "cell_type": "code",
   "execution_count": 14,
   "metadata": {},
   "outputs": [
    {
     "data": {
      "text/plain": [
       "45"
      ]
     },
     "execution_count": 14,
     "metadata": {},
     "output_type": "execute_result"
    }
   ],
   "source": [
    "texto.search(\"alt\");"
   ]
  },
  {
   "cell_type": "markdown",
   "metadata": {},
   "source": [
    "* La siguiente celda regresará el índice en el que se encuentra la primera coincidencia de la cadena ```\"z\"``` dentro de la cadena contenida en ```texto```. Ya que esta cadena no se encuentra dentro del contenido de ```texto```, regresará ```-1```."
   ]
  },
  {
   "cell_type": "code",
   "execution_count": 18,
   "metadata": {},
   "outputs": [
    {
     "data": {
      "text/plain": [
       "-1"
      ]
     },
     "execution_count": 18,
     "metadata": {},
     "output_type": "execute_result"
    }
   ],
   "source": [
    "texto.search(\"z\");"
   ]
  },
  {
   "cell_type": "markdown",
   "metadata": {},
   "source": [
    "### El método ```includes()```.\n",
    "\n",
    "Este método buscará un patrón de texto dentro de una cadena de caracteres. En caso de encontrar dicho patrón, regresará ```true```. En caso contrario, regresará ```false```.\n",
    "\n",
    "```\n",
    "<cadena>.includes(<patrón>);\n",
    "```\n",
    "Donde:\n",
    "* ```<cadena>``` es la cadena que será validada.\n",
    "* ```<patrón>``` puede ser una cadena de caracteres o una expresión regulaer cuyo contenido será buscado dentro de ```<cadena>```.\n"
   ]
  },
  {
   "cell_type": "markdown",
   "metadata": {},
   "source": [
    "**Ejemplos:**"
   ]
  },
  {
   "cell_type": "markdown",
   "metadata": {},
   "source": [
    "* La siguiente celda validará si la cadena  ```\"programación\"``` se encuentra dentro de la cadena contenida en ```texto```."
   ]
  },
  {
   "cell_type": "code",
   "execution_count": 19,
   "metadata": {
    "scrolled": true
   },
   "outputs": [
    {
     "data": {
      "text/plain": [
       "true"
      ]
     },
     "execution_count": 19,
     "metadata": {},
     "output_type": "execute_result"
    }
   ],
   "source": [
    "texto.includes(\"programación\");"
   ]
  },
  {
   "cell_type": "markdown",
   "metadata": {},
   "source": [
    "* La siguiente celda validará si la cadena  ```\"z\"``` se encuentra dentro de la cadena contenida en ```texto```."
   ]
  },
  {
   "cell_type": "code",
   "execution_count": 20,
   "metadata": {},
   "outputs": [
    {
     "data": {
      "text/plain": [
       "false"
      ]
     },
     "execution_count": 20,
     "metadata": {},
     "output_type": "execute_result"
    }
   ],
   "source": [
    "texto.includes(\"z\");"
   ]
  },
  {
   "cell_type": "markdown",
   "metadata": {},
   "source": [
    "#### El método ```indexOf()```.\n",
    "\n",
    "Este método regresará la posición de la primera coincidencia de la cadena de caracteres que se ingresa como argumento dentro de la cadena que contiene al metodo.\n",
    "\n",
    "```\n",
    "<cadena 1>.indexOf(<cadena 2>);\n",
    "```\n",
    "Donde:\n",
    "* ```<cadena 1>``` es la cadena que será validada.\n",
    "* ```<cadena 2>``` es una cadena de caracterescuyo contenido será buscado dentro de ```<cadena>```.\n",
    "\n",
    "En caso de que exista una coincidencia, el método regresará el índice donde se encuentra la primera coincidencia. En caso contrario, regresará ```-1```.\n"
   ]
  },
  {
   "cell_type": "markdown",
   "metadata": {},
   "source": [
    "**Ejemplos:**"
   ]
  },
  {
   "cell_type": "code",
   "execution_count": 21,
   "metadata": {},
   "outputs": [
    {
     "data": {
      "text/plain": [
       "11"
      ]
     },
     "execution_count": 21,
     "metadata": {},
     "output_type": "execute_result"
    }
   ],
   "source": [
    "texto.indexOf(\"e\");"
   ]
  },
  {
   "cell_type": "code",
   "execution_count": 22,
   "metadata": {},
   "outputs": [
    {
     "data": {
      "text/plain": [
       "-1"
      ]
     },
     "execution_count": 22,
     "metadata": {},
     "output_type": "execute_result"
    }
   ],
   "source": [
    "texto.indexOf(\"z\");"
   ]
  },
  {
   "cell_type": "markdown",
   "metadata": {},
   "source": [
    "#### El método ```lastIndexOf()```.\n",
    "\n",
    "Este método regresará la posición de la primera coincidencia de la cadena de caracteres que se ingresa como argumento dentro de la cadena que contiene al metodo buscando de derecha a izquierda.\n",
    "\n",
    "```\n",
    "<cadena 1>.lastIndexOf(<cadena 2>);\n",
    "```\n",
    "Donde:\n",
    "* ```<cadena 1>``` es la cadena que será validada.\n",
    "* ```<cadena 2>``` es una cadena de caracterescuyo contenido será buscado dentro de ```<cadena>```.\n",
    "\n",
    "En caso de que exista una coincidencia, el método regresará el índice donde se encuentra la primera coincidencia. En caso contrario, regresará ```-1```.\n"
   ]
  },
  {
   "cell_type": "markdown",
   "metadata": {},
   "source": [
    "**Ejemplo:**"
   ]
  },
  {
   "cell_type": "code",
   "execution_count": 24,
   "metadata": {},
   "outputs": [
    {
     "data": {
      "text/plain": [
       "'Javascript es un lenguaje de programación de alto nivel, interpretado y de tipos dinámicos.'"
      ]
     },
     "execution_count": 24,
     "metadata": {},
     "output_type": "execute_result"
    }
   ],
   "source": [
    "texto;"
   ]
  },
  {
   "cell_type": "code",
   "execution_count": 23,
   "metadata": {
    "scrolled": true
   },
   "outputs": [
    {
     "data": {
      "text/plain": [
       "73"
      ]
     },
     "execution_count": 23,
     "metadata": {},
     "output_type": "execute_result"
    }
   ],
   "source": [
    "texto.lastIndexOf(\"e\");"
   ]
  },
  {
   "cell_type": "markdown",
   "metadata": {},
   "source": [
    "#### El método ```substr()```.\n",
    "\n",
    "Este método regresará la cadena de caracteres dentro de un rango de índices.\n",
    "\n",
    "```\n",
    "<cadena>.substr(m, n);\n",
    "```\n",
    "\n",
    "Donde:\n",
    "\n",
    "* ```<m>``` es el índice inicial.\n",
    "* ```<n>``` es el número de caracteres a la derecha del índice."
   ]
  },
  {
   "cell_type": "markdown",
   "metadata": {},
   "source": [
    "**Ejemplo:**"
   ]
  },
  {
   "cell_type": "code",
   "execution_count": 25,
   "metadata": {},
   "outputs": [],
   "source": [
    "let palabras = \"Esta es una sucesión de palabras de palabras y más palabras\";"
   ]
  },
  {
   "cell_type": "code",
   "execution_count": 26,
   "metadata": {},
   "outputs": [
    {
     "data": {
      "text/plain": [
       "' es una su'"
      ]
     },
     "execution_count": 26,
     "metadata": {},
     "output_type": "execute_result"
    }
   ],
   "source": [
    "palabras.substr(4, 10);"
   ]
  },
  {
   "cell_type": "code",
   "execution_count": 28,
   "metadata": {},
   "outputs": [
    {
     "data": {
      "text/plain": [
       "'Esta es una sucesión de palabras de palabras y más palabras'"
      ]
     },
     "execution_count": 28,
     "metadata": {},
     "output_type": "execute_result"
    }
   ],
   "source": [
    "palabras;"
   ]
  },
  {
   "cell_type": "markdown",
   "metadata": {},
   "source": [
    "#### El método ```replace()```.\n",
    "\n",
    "Este método regresará una cadena de caracteres sustituyendo la primera coincidencia con el patrón que se ingresa como primer argumento por la cadena que se ingresa como segundo argumento.\n",
    "\n",
    "```\n",
    "<cadena 1>.replace(<patrón>, <cadena 2>);\n",
    "```\n",
    "\n",
    "Donde:\n",
    "* ```<cadena 1>``` es la cadena en la que se realizará la búsqueda del patrón.\n",
    "* ```<patrón>``` es el patrón de busqueda.\n",
    "* ```cadena 2>``` es la cadena que sustituirá al texto que corresponda al patrón."
   ]
  },
  {
   "cell_type": "markdown",
   "metadata": {},
   "source": [
    "**Ejemplo:**"
   ]
  },
  {
   "cell_type": "code",
   "execution_count": 29,
   "metadata": {},
   "outputs": [
    {
     "data": {
      "text/plain": [
       "'Esta es una sucesión de palabras de palabras y más palabras'"
      ]
     },
     "execution_count": 29,
     "metadata": {},
     "output_type": "execute_result"
    }
   ],
   "source": [
    "palabras;"
   ]
  },
  {
   "cell_type": "code",
   "execution_count": 30,
   "metadata": {},
   "outputs": [
    {
     "data": {
      "text/plain": [
       "'Esta es una sucesión de cadenas de palabras y más palabras'"
      ]
     },
     "execution_count": 30,
     "metadata": {},
     "output_type": "execute_result"
    }
   ],
   "source": [
    "palabras.replace(\"palabras\", \"cadenas\");"
   ]
  },
  {
   "cell_type": "code",
   "execution_count": null,
   "metadata": {},
   "outputs": [],
   "source": [
    "palabras.slice(12);"
   ]
  },
  {
   "cell_type": "code",
   "execution_count": null,
   "metadata": {},
   "outputs": [],
   "source": [
    "palabras;"
   ]
  },
  {
   "cell_type": "markdown",
   "metadata": {},
   "source": [
    "<p style=\"text-align: center\"><a rel=\"license\" href=\"http://creativecommons.org/licenses/by/4.0/\"><img alt=\"Licencia Creative Commons\" style=\"border-width:0\" src=\"https://i.creativecommons.org/l/by/4.0/80x15.png\" /></a><br />Esta obra está bajo una <a rel=\"license\" href=\"http://creativecommons.org/licenses/by/4.0/\">Licencia Creative Commons Atribución 4.0 Internacional</a>.</p>\n",
    "<p style=\"text-align: center\">&copy; José Luis Chiquete Valdivieso. 2020.</p>"
   ]
  }
 ],
 "metadata": {
  "kernelspec": {
   "display_name": "Javascript (Node.js)",
   "language": "javascript",
   "name": "javascript"
  },
  "language_info": {
   "file_extension": ".js",
   "mimetype": "application/javascript",
   "name": "javascript",
   "version": "8.10.0"
  }
 },
 "nbformat": 4,
 "nbformat_minor": 2
}
