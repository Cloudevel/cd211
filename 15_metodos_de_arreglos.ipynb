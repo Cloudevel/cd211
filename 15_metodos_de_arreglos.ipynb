{
 "cells": [
  {
   "cell_type": "markdown",
   "metadata": {},
   "source": [
    "[![cloudevel](Imagenes/cloudevel.png)](https://cloudevel.com)"
   ]
  },
  {
   "cell_type": "markdown",
   "metadata": {},
   "source": [
    "# Métodos de los arreglos.\n",
    "\n",
    "Los siguientes métodos permiten aplicar funciones a los elementos de un objeto de tipo ```Array```.\n",
    "\n",
    "Para mayor información es posible coultar la siguiente liga:\n",
    "\n",
    "https://developer.mozilla.org/es/docs/Web/JavaScript/Referencia/Objetos_globales/Array"
   ]
  },
  {
   "cell_type": "markdown",
   "metadata": {},
   "source": [
    "## El método ```fill()```.\n",
    "\n",
    "Este método permite llenar todos los elementos de un arreglo con un valor  que se ingresa como argumento.\n",
    "\n",
    "```\n",
    "<arreglo>.fill(<valor>);\n",
    "```"
   ]
  },
  {
   "cell_type": "code",
   "execution_count": null,
   "metadata": {},
   "outputs": [],
   "source": [
    "let arreglo_1 = [undefined, undefined, undefined];"
   ]
  },
  {
   "cell_type": "code",
   "execution_count": null,
   "metadata": {},
   "outputs": [],
   "source": [
    "arreglo_1.fill(1);"
   ]
  },
  {
   "cell_type": "code",
   "execution_count": null,
   "metadata": {},
   "outputs": [],
   "source": [
    "arreglo_1;"
   ]
  },
  {
   "cell_type": "markdown",
   "metadata": {},
   "source": [
    "## El método ```map()```.\n",
    "\n",
    "Este método aplica una función a cada elemento de un objeto ```Array``` y regresa un nuevo objeto con los elementos resultantes de aplicar dicha función.\n",
    "\n",
    "```\n",
    "<arreglo>.map(<función>);\n",
    "```"
   ]
  },
  {
   "cell_type": "code",
   "execution_count": null,
   "metadata": {},
   "outputs": [],
   "source": [
    "let arreglo_2 = [1, 2, 3, 4];"
   ]
  },
  {
   "cell_type": "code",
   "execution_count": null,
   "metadata": {},
   "outputs": [],
   "source": [
    "arreglo_2.map((x) => x * 3);"
   ]
  },
  {
   "cell_type": "markdown",
   "metadata": {},
   "source": [
    "## El método ```reduce()```.\n",
    "\n",
    "Este método aplica una función a cada elemento de un objeto ```Array```.\n",
    "El método realiza una iteración en la que el primer argumento de la función es el resultado de la función sobre el elemento previo y el segundo argumento es el elemento actual.\n",
    "\n",
    "```\n",
    "<arreglo>.map(<función>);\n",
    "```"
   ]
  },
  {
   "cell_type": "code",
   "execution_count": null,
   "metadata": {},
   "outputs": [],
   "source": [
    "arreglo_2;"
   ]
  },
  {
   "cell_type": "code",
   "execution_count": null,
   "metadata": {},
   "outputs": [],
   "source": [
    "arreglo_2.reduce((x, y) => x + y);"
   ]
  },
  {
   "cell_type": "code",
   "execution_count": null,
   "metadata": {},
   "outputs": [],
   "source": [
    "arreglo_2.reduce((x, y) => x * y);"
   ]
  },
  {
   "cell_type": "markdown",
   "metadata": {},
   "source": [
    "## El método ```filter()```.\n",
    "\n",
    "Este método utiliza una función que de por resultado un valor booleano y va a regresar aquellos elmentos para los que la función el resultado sea ```true```.\n",
    "\n",
    "```\n",
    "<arreglo>.filter(<función>);\n",
    "```"
   ]
  },
  {
   "cell_type": "markdown",
   "metadata": {},
   "source": [
    "**Ejemplos:**"
   ]
  },
  {
   "cell_type": "markdown",
   "metadata": {},
   "source": [
    "La siguiente celda aplica la función ```(x) => x % 2 ==0``` a cada elmento de ```arreglo_2``` mediante el método ```filter()```. Dicha función evalúa si un número es par."
   ]
  },
  {
   "cell_type": "code",
   "execution_count": null,
   "metadata": {},
   "outputs": [],
   "source": [
    "arreglo_2;"
   ]
  },
  {
   "cell_type": "code",
   "execution_count": null,
   "metadata": {},
   "outputs": [],
   "source": [
    "arreglo_2.filter((x) => x % 2 ==0);"
   ]
  },
  {
   "cell_type": "markdown",
   "metadata": {},
   "source": [
    "* La función ```(x) => typeof(x)==\"boolean\"``` evalúa si el valor es un booleano.\n",
    "* Dicha función se aplciará usando el método ```filter()``` a ```arreglo_3```. "
   ]
  },
  {
   "cell_type": "code",
   "execution_count": null,
   "metadata": {},
   "outputs": [],
   "source": [
    "let arreglo_3 = [\"\", 0, true, {}];"
   ]
  },
  {
   "cell_type": "code",
   "execution_count": null,
   "metadata": {
    "scrolled": true
   },
   "outputs": [],
   "source": [
    "arreglo_3.filter((x) => typeof(x)==\"boolean\");"
   ]
  },
  {
   "cell_type": "markdown",
   "metadata": {},
   "source": [
    "* La función ```(x) => x==false``` evalúa si un objeto tiene el mismo valor que ```false```.\n",
    "* Dicha función se aplciará usando el método ```filter()``` a ```arreglo_3```. "
   ]
  },
  {
   "cell_type": "code",
   "execution_count": null,
   "metadata": {},
   "outputs": [],
   "source": [
    "arreglo_3.filter((x) => x==false);"
   ]
  },
  {
   "cell_type": "markdown",
   "metadata": {},
   "source": [
    "* La función ```(x) => x===false``` evalúa si un objeto es ```false```.\n",
    "* Dicha función se aplciará usando el método ```filter()``` a ```arreglo_3```. "
   ]
  },
  {
   "cell_type": "code",
   "execution_count": null,
   "metadata": {},
   "outputs": [],
   "source": [
    "arreglo_3.filter((x) => x===false);"
   ]
  },
  {
   "cell_type": "markdown",
   "metadata": {},
   "source": [
    "## El método ```every()```.\n",
    "\n",
    "Este método evalúa si todos los elementos de un arreglo dan por resultado ```true``` al aplicarles una función. En caso de ser así, regresaría ```true```, de lo contrario, regresaría ```false```.\n",
    "\n",
    "```\n",
    "<arreglo>.every(<función>);\n",
    "```"
   ]
  },
  {
   "cell_type": "markdown",
   "metadata": {},
   "source": [
    "**Ejemplos:**"
   ]
  },
  {
   "cell_type": "code",
   "execution_count": null,
   "metadata": {},
   "outputs": [],
   "source": [
    "arreglo_2;"
   ]
  },
  {
   "cell_type": "code",
   "execution_count": null,
   "metadata": {},
   "outputs": [],
   "source": [
    "arreglo_2.every((x) => x %2 ==0);"
   ]
  },
  {
   "cell_type": "code",
   "execution_count": null,
   "metadata": {},
   "outputs": [],
   "source": [
    "arreglo_2.every((x) => typeof(x)==\"number\");"
   ]
  },
  {
   "cell_type": "code",
   "execution_count": null,
   "metadata": {},
   "outputs": [],
   "source": [
    "arreglo_3;"
   ]
  },
  {
   "cell_type": "code",
   "execution_count": null,
   "metadata": {},
   "outputs": [],
   "source": [
    "arreglo_3.every((x) => typeof(x)==\"boolean\");"
   ]
  },
  {
   "cell_type": "markdown",
   "metadata": {},
   "source": [
    "## El método ```some()```.\n",
    "\n",
    "Este método evalúa si al menos un elemento de un arreglo da por resultado ```true``` al aplicarle una función. En caso de ser así, regresaría ```true```, de lo contrario, regresaría ```false```.\n",
    "\n",
    "```\n",
    "<arreglo>.some(<función>);\n",
    "```"
   ]
  },
  {
   "cell_type": "markdown",
   "metadata": {},
   "source": [
    "**Ejemplo:**"
   ]
  },
  {
   "cell_type": "code",
   "execution_count": null,
   "metadata": {},
   "outputs": [],
   "source": [
    "arreglo_2;"
   ]
  },
  {
   "cell_type": "code",
   "execution_count": null,
   "metadata": {},
   "outputs": [],
   "source": [
    "arreglo_2.some((x) => x %2 ==0);"
   ]
  },
  {
   "cell_type": "code",
   "execution_count": null,
   "metadata": {},
   "outputs": [],
   "source": [
    "arreglo_3;"
   ]
  },
  {
   "cell_type": "code",
   "execution_count": null,
   "metadata": {},
   "outputs": [],
   "source": [
    "arreglo_3.some((x) => typeof(x)==\"boolean\");"
   ]
  },
  {
   "cell_type": "markdown",
   "metadata": {},
   "source": [
    "## El método ```forEach()```.\n",
    "\n",
    "Este método crea un iterador por cada elemento y ejecuta la función que se ingresa como argumento para cada elemento.\n",
    "\n",
    "Pasa los siguientes datos como argumentos:\n",
    "\n",
    "1. El valor del elemento.\n",
    "2. El índice del elemento.\n",
    "3. El arreglo que contiene al elemento."
   ]
  },
  {
   "cell_type": "markdown",
   "metadata": {},
   "source": [
    "**Ejemplo:**"
   ]
  },
  {
   "cell_type": "code",
   "execution_count": null,
   "metadata": {},
   "outputs": [],
   "source": [
    "arreglo_2;"
   ]
  },
  {
   "cell_type": "code",
   "execution_count": null,
   "metadata": {},
   "outputs": [],
   "source": [
    "function despliega(item, indice, arreglo) {\n",
    "    console.log(\"El elemento: \" + indice + \" del arreglo: \" + arreglo + \" tiene el valor: \" + item);\n",
    "}"
   ]
  },
  {
   "cell_type": "code",
   "execution_count": null,
   "metadata": {},
   "outputs": [],
   "source": [
    "arreglo_2.forEach(despliega);"
   ]
  },
  {
   "cell_type": "markdown",
   "metadata": {},
   "source": [
    "## El método ```entries()```."
   ]
  },
  {
   "cell_type": "code",
   "execution_count": null,
   "metadata": {},
   "outputs": [],
   "source": [
    "let iterador;"
   ]
  },
  {
   "cell_type": "code",
   "execution_count": null,
   "metadata": {},
   "outputs": [],
   "source": [
    "arreglo_2;"
   ]
  },
  {
   "cell_type": "code",
   "execution_count": null,
   "metadata": {},
   "outputs": [],
   "source": [
    "iterador = arreglo_2.entries();"
   ]
  },
  {
   "cell_type": "code",
   "execution_count": null,
   "metadata": {},
   "outputs": [],
   "source": [
    "iterador.next();"
   ]
  },
  {
   "cell_type": "markdown",
   "metadata": {},
   "source": [
    "<p style=\"text-align: center\"><a rel=\"license\" href=\"http://creativecommons.org/licenses/by/4.0/\"><img alt=\"Licencia Creative Commons\" style=\"border-width:0\" src=\"https://i.creativecommons.org/l/by/4.0/80x15.png\" /></a><br />Esta obra está bajo una <a rel=\"license\" href=\"http://creativecommons.org/licenses/by/4.0/\">Licencia Creative Commons Atribución 4.0 Internacional</a>.</p>\n",
    "<p style=\"text-align: center\">&copy; José Luis Chiquete Valdivieso. 2020.</p>"
   ]
  }
 ],
 "metadata": {
  "kernelspec": {
   "display_name": "Javascript (Node.js)",
   "language": "javascript",
   "name": "javascript"
  },
  "language_info": {
   "file_extension": ".js",
   "mimetype": "application/javascript",
   "name": "javascript",
   "version": "8.10.0"
  }
 },
 "nbformat": 4,
 "nbformat_minor": 2
}
