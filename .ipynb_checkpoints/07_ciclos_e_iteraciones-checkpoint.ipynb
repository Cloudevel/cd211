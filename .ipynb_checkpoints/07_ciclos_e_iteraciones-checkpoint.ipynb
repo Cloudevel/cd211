{
 "cells": [
  {
   "cell_type": "markdown",
   "metadata": {},
   "source": [
    "## Ciclos.\n",
    "\n",
    "### Ciclo *while ()*.\n",
    "En este ciclo se evalúa una expresión y de ser verdadera, se ejecuta el código que contiene.\n",
    "\n",
    "``` javascript\n",
    "while(<expresion logica>):\n",
    "{\n",
    "      bloque de código\n",
    "}\n",
    "```\n",
    "El bloque de código se va  repetir siempre que expresion lógica sea *true*."
   ]
  },
  {
   "cell_type": "code",
   "execution_count": null,
   "metadata": {},
   "outputs": [],
   "source": [
    "let contador = 0;\n",
    "let bandera = true;\n",
    "while ((contador < 5) && bandera) {\n",
    "    console.log(contador);\n",
    "    contador ++;\n",
    "}"
   ]
  },
  {
   "cell_type": "code",
   "execution_count": null,
   "metadata": {},
   "outputs": [],
   "source": [
    "contador = 0;\n",
    "bandera = true;\n",
    "while ((contador < 5) && bandera) {\n",
    "    contador ++;\n",
    "    console.log(contador);\n",
    "}"
   ]
  },
  {
   "cell_type": "code",
   "execution_count": null,
   "metadata": {},
   "outputs": [],
   "source": [
    "contador = 0;\n",
    "bandera = false;\n",
    "while ((contador < 5) && bandera) {\n",
    "    console.log(contador);\n",
    "    contador ++\n",
    "}"
   ]
  },
  {
   "cell_type": "markdown",
   "metadata": {},
   "source": [
    "Es de tomarse en cuenta que al final del *while()*, la ejecución regresa el último valor computado en vez de *undefined*."
   ]
  },
  {
   "cell_type": "markdown",
   "metadata": {},
   "source": [
    "### Ciclo *do ... while()* .\n",
    "En este ciclo se ejecuta el código que contiene la estructura y en caso de ser verdadero, se repite."
   ]
  },
  {
   "cell_type": "code",
   "execution_count": null,
   "metadata": {},
   "outputs": [],
   "source": [
    "contador = 0;\n",
    "bandera = true;\n",
    "do {\n",
    "    console.log(contador);\n",
    "    contador ++\n",
    "} while ((contador < 5) && bandera);"
   ]
  },
  {
   "cell_type": "code",
   "execution_count": null,
   "metadata": {},
   "outputs": [],
   "source": [
    "contador = 0;\n",
    "bandera = false;\n",
    "do {\n",
    "    console.log(contador);\n",
    "    contador ++\n",
    "} while ((contador < 5) && bandera);"
   ]
  },
  {
   "cell_type": "markdown",
   "metadata": {},
   "source": [
    "## Iteraciones con *for()*\n",
    "Es posible iterar con una condición numérica mediante el usos de *for()*.\n",
    "Para eso se requiere una variable con valor de inicio, una condición y una razón de cambio, cada una separado poe el símbolo de punto y coma (*;*)."
   ]
  },
  {
   "cell_type": "code",
   "execution_count": null,
   "metadata": {},
   "outputs": [],
   "source": [
    "objetivo = 5;\n",
    "for (i = 0; i <= objetivo; i++){\n",
    "    console.log(i);\n",
    "}"
   ]
  },
  {
   "cell_type": "markdown",
   "metadata": {},
   "source": [
    "En el caso anterior, se hace una iteración de i con valor inicial de 0 mientras sea menor que el valor de la variable *objetivo*, en incrementos de a 1. \n",
    "\n",
    "Tanbién es posible hacer la iteración en decrementos."
   ]
  },
  {
   "cell_type": "code",
   "execution_count": null,
   "metadata": {},
   "outputs": [],
   "source": [
    "objetivo = 0;\n",
    "for (i = 5; i >= objetivo; --i){\n",
    "    console.log(i);\n",
    "}"
   ]
  },
  {
   "cell_type": "markdown",
   "metadata": {},
   "source": [
    "## La estructura *for (... in ...)*.\n",
    "Como se había mencionado con anterioridad, el operador *in* regresa el índice de un elemento iterable como un arreglo. Es así que al utilizarlo en un *for"
   ]
  },
  {
   "cell_type": "code",
   "execution_count": null,
   "metadata": {},
   "outputs": [],
   "source": [
    "arreglo = [1, \"dos\", true];\n",
    "for (indice in arreglo) {\n",
    "    console.log(indice);\n",
    "}"
   ]
  },
  {
   "cell_type": "code",
   "execution_count": null,
   "metadata": {},
   "outputs": [],
   "source": [
    "arreglo = [1, \"dos\", true];\n",
    "for (indice in arreglo) {\n",
    "    console.log(arreglo[indice]);\n",
    "}"
   ]
  },
  {
   "cell_type": "code",
   "execution_count": null,
   "metadata": {},
   "outputs": [],
   "source": []
  }
 ],
 "metadata": {
  "kernelspec": {
   "display_name": "Javascript (Node.js)",
   "language": "javascript",
   "name": "javascript"
  },
  "language_info": {
   "file_extension": ".js",
   "mimetype": "application/javascript",
   "name": "javascript",
   "version": "6.14.3"
  }
 },
 "nbformat": 4,
 "nbformat_minor": 1
}
