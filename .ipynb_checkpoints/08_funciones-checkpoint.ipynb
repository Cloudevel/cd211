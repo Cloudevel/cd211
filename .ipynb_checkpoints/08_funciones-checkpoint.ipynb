{
 "cells": [
  {
   "cell_type": "markdown",
   "metadata": {},
   "source": [
    "# Definición de una función \n",
    "Javascript define una función mediante la palabra clave *function*, seguida por el nombre de la función y una serie de parámetros iniciales dentro de un paréntesis y posteriormente se ingresa el código encerrado en llaves.\n",
    "\n",
    "**Nota:** Aún cuando la indentación no es necesaria en Javascript, se utilizará para mayor claridad del código."
   ]
  },
  {
   "cell_type": "code",
   "execution_count": null,
   "metadata": {},
   "outputs": [],
   "source": [
    "function funcion()\n",
    "{\n",
    "    console.log(\"Hola\");\n",
    "}"
   ]
  },
  {
   "cell_type": "markdown",
   "metadata": {},
   "source": [
    "Las funciones siempre regresan un valor que puede ser guardado en una variable, en el caso que no se defina un valor de regreso, se regresaría *undefined*."
   ]
  },
  {
   "cell_type": "code",
   "execution_count": null,
   "metadata": {},
   "outputs": [],
   "source": [
    "let resultado = funcion();"
   ]
  },
  {
   "cell_type": "code",
   "execution_count": null,
   "metadata": {},
   "outputs": [],
   "source": [
    "console.log(resultado);"
   ]
  },
  {
   "cell_type": "markdown",
   "metadata": {},
   "source": [
    "# Ámbitos\n",
    "Para ejemplificar el tema de ámbitos se reutilizará el código que se estudió con la estructura *if ... else if ... else*:\n",
    "\n",
    "**Nota:** Para que se pueda ejemplificar correctamente este concepto, es necesario que la notebook esté apagada antes de abrirla. De lo contrario, se corre el riesgo de que haya variables que ya hayan sido definidas."
   ]
  },
  {
   "cell_type": "code",
   "execution_count": null,
   "metadata": {},
   "outputs": [],
   "source": [
    "function analisis(){\n",
    "    console.log(\"El número es\", numero);\n",
    "    if (numero > 0) {\n",
    "        console.log(\"El número es positivo.\");\n",
    "    }\n",
    "    else if (numero < 0) {\n",
    "        console.log(\"El número es negativo.\");\n",
    "    }\n",
    "    else if ( numero = 0){\n",
    "        console.log(\"El número es cero.\");\n",
    "    }\n",
    "    else {\n",
    "        console.log(\"No puedo verificar el número.\");\n",
    "    }\n",
    "}"
   ]
  },
  {
   "cell_type": "markdown",
   "metadata": {},
   "source": [
    "Como se puede apreciar, la variable *numero* no fue definida en la función.\n",
    "\n",
    "Al invocar la función *compara()*, dicha función buscará en su ámbito local y posteriormente en el ámbito general , es decir, en el entorno fuera de la función.\n",
    "\n",
    "Si la variable  no está definida en ninguno de los dos ámbitos, se generará un error."
   ]
  },
  {
   "cell_type": "code",
   "execution_count": null,
   "metadata": {
    "scrolled": true
   },
   "outputs": [],
   "source": [
    "analisis();"
   ]
  },
  {
   "cell_type": "markdown",
   "metadata": {},
   "source": [
    "Si ahora se define la variable *numero* en el ámbito global:"
   ]
  },
  {
   "cell_type": "code",
   "execution_count": null,
   "metadata": {},
   "outputs": [],
   "source": [
    "let numero = 15;"
   ]
  },
  {
   "cell_type": "code",
   "execution_count": null,
   "metadata": {},
   "outputs": [],
   "source": [
    "analisis();"
   ]
  },
  {
   "cell_type": "markdown",
   "metadata": {
    "collapsed": true
   },
   "source": [
    "La función se ejecuta con éxito.\n",
    "\n",
    "Ahora bien. Si modificamos la función y se define una variable local con el nombre *numero*."
   ]
  },
  {
   "cell_type": "code",
   "execution_count": null,
   "metadata": {},
   "outputs": [],
   "source": [
    "function analisis(){\n",
    "    let numero = 33;\n",
    "    console.log(\"El número es\", numero);\n",
    "    if (numero > 0) {\n",
    "        console.log(\"El número es positivo.\");\n",
    "    }\n",
    "    else if (numero < 0) {\n",
    "        console.log(\"El número es negativo.\");\n",
    "    }\n",
    "    else if ( numero = 0){\n",
    "        console.log(\"El número es cero.\");\n",
    "    }\n",
    "    else {\n",
    "        console.log(\"No puedo verificar el número.\");\n",
    "    }\n",
    "    console.log(\"Buen día.\");\n",
    "}"
   ]
  },
  {
   "cell_type": "code",
   "execution_count": null,
   "metadata": {
    "scrolled": false
   },
   "outputs": [],
   "source": [
    "analisis();"
   ]
  },
  {
   "cell_type": "code",
   "execution_count": null,
   "metadata": {
    "scrolled": true
   },
   "outputs": [],
   "source": [
    "console.log(numero);"
   ]
  },
  {
   "cell_type": "markdown",
   "metadata": {},
   "source": [
    "Incluso si se define una variable con el mismo nombre en el ámbito global, la función usará el valor del ámbito local."
   ]
  },
  {
   "cell_type": "code",
   "execution_count": null,
   "metadata": {},
   "outputs": [],
   "source": [
    "numero = \"Dos\";"
   ]
  },
  {
   "cell_type": "code",
   "execution_count": null,
   "metadata": {},
   "outputs": [],
   "source": [
    "analisis();"
   ]
  },
  {
   "cell_type": "code",
   "execution_count": null,
   "metadata": {},
   "outputs": [],
   "source": [
    "numero;"
   ]
  },
  {
   "cell_type": "markdown",
   "metadata": {},
   "source": [
    "## Parámetros y argumentos\n",
    "Una función puede aceptar datos al ser invocada. A estos datos se les conoce como argumentos. \n",
    "\n",
    "Los argumentos son guardados en variables locales que se nombran dentro del paréntesis al definir la función y que están separadas por comas.\n",
    "En el caso de la función análisis vamos a definir un parámetro llamado \"*número*:"
   ]
  },
  {
   "cell_type": "code",
   "execution_count": null,
   "metadata": {},
   "outputs": [],
   "source": [
    "function analisis(numero){\n",
    "    console.log(\"El número es\", numero);\n",
    "    if (numero > 0) {\n",
    "        console.log(\"El número es positivo.\");\n",
    "    }\n",
    "    else if (numero < 0) {\n",
    "        console.log(\"El número es negativo.\");\n",
    "    }\n",
    "    else if ( numero = 0){\n",
    "        console.log(\"El número es cero.\");\n",
    "    }\n",
    "    else {\n",
    "        console.log(\"No puedo verificar el número.\");\n",
    "    }\n",
    "    console.log(\"Buen día.\");\n",
    "}"
   ]
  },
  {
   "cell_type": "code",
   "execution_count": null,
   "metadata": {},
   "outputs": [],
   "source": [
    "analisis(22);"
   ]
  },
  {
   "cell_type": "code",
   "execution_count": null,
   "metadata": {},
   "outputs": [],
   "source": [
    "analisis(numero)"
   ]
  },
  {
   "cell_type": "code",
   "execution_count": null,
   "metadata": {},
   "outputs": [],
   "source": [
    "analisis(\"Hola\");"
   ]
  },
  {
   "cell_type": "markdown",
   "metadata": {},
   "source": [
    "Es posible definir un parámetro con un valor por defecto, de tal forma que si no se ingresa un argumento, se usará el valor por defecto:"
   ]
  },
  {
   "cell_type": "code",
   "execution_count": null,
   "metadata": {},
   "outputs": [],
   "source": [
    "function analisis(numero=1){\n",
    "    console.log(\"El número es\", numero);\n",
    "    if (numero > 0) {\n",
    "        console.log(\"El número es positivo.\");\n",
    "    }\n",
    "    else if (numero < 0) {\n",
    "        console.log(\"El número es negativo.\");\n",
    "    }\n",
    "    else if ( numero = 0){\n",
    "        console.log(\"El número es cero.\");\n",
    "    }\n",
    "    else {\n",
    "        console.log(\"No puedo verificar el número.\");\n",
    "    }\n",
    "    console.log(\"Buen día.\");\n",
    "}"
   ]
  },
  {
   "cell_type": "code",
   "execution_count": null,
   "metadata": {},
   "outputs": [],
   "source": [
    "analisis();"
   ]
  },
  {
   "cell_type": "code",
   "execution_count": null,
   "metadata": {},
   "outputs": [],
   "source": [
    "analisis(-5);"
   ]
  },
  {
   "cell_type": "markdown",
   "metadata": {},
   "source": [
    "Aquí un ejemplo de una función con 2 parámetros."
   ]
  },
  {
   "cell_type": "code",
   "execution_count": null,
   "metadata": {},
   "outputs": [],
   "source": [
    "function compara (a, b){\n",
    "    if (a > b) { \n",
    "        console.log(\"El número\", a, \"es mayor que\", b);\n",
    "    }\n",
    "    else if (a < b) {\n",
    "        console.log(\"El número\", a, \"es menor que\", b);\n",
    "    }\n",
    "    else {\n",
    "        console.log(\"El número\", a, \"es igual a\", b);\n",
    "    }\n",
    "}"
   ]
  },
  {
   "cell_type": "code",
   "execution_count": null,
   "metadata": {},
   "outputs": [],
   "source": [
    "compara(1, 2);"
   ]
  },
  {
   "cell_type": "code",
   "execution_count": null,
   "metadata": {},
   "outputs": [],
   "source": [
    "compara(1);"
   ]
  },
  {
   "cell_type": "code",
   "execution_count": null,
   "metadata": {},
   "outputs": [],
   "source": [
    "compara(1, 2, 4);"
   ]
  },
  {
   "cell_type": "markdown",
   "metadata": {},
   "source": [
    "También en este caso es posible usar parámetros con valores por defecto.\n",
    "\n",
    "Si no se van a definir valores por defecto para todos los paraḿetros, los parámetros finales son los que deben contener dichos valores.\n",
    "El primer argumento que se ingrese corresponderá al primer parámetro de la función."
   ]
  },
  {
   "cell_type": "code",
   "execution_count": null,
   "metadata": {},
   "outputs": [],
   "source": [
    "function compara (a=8, b=7){\n",
    "    if (a > b) { \n",
    "        console.log(\"El número\", a, \"es mayor que\", b);\n",
    "    }\n",
    "    else if (a < b) {\n",
    "        console.log(\"El número\", a, \"es menor que\", b);\n",
    "    }\n",
    "    else {\n",
    "        console.log(\"El número\", a, \"es igual a\", b);\n",
    "    }\n",
    "}"
   ]
  },
  {
   "cell_type": "code",
   "execution_count": null,
   "metadata": {},
   "outputs": [],
   "source": [
    "compara()"
   ]
  },
  {
   "cell_type": "code",
   "execution_count": null,
   "metadata": {},
   "outputs": [],
   "source": [
    "compara(3)"
   ]
  },
  {
   "cell_type": "code",
   "execution_count": null,
   "metadata": {},
   "outputs": [],
   "source": [
    "compara(16, 1)"
   ]
  },
  {
   "cell_type": "code",
   "execution_count": null,
   "metadata": {},
   "outputs": [],
   "source": [
    "function compara (a, b=7){\n",
    "    if (a > b) { \n",
    "        console.log(\"El número\", a, \"es mayor que\", b);\n",
    "    }\n",
    "    else if (a < b) {\n",
    "        console.log(\"El número\", a, \"es menor que\", b);\n",
    "    }\n",
    "    else {\n",
    "        console.log(\"El número\", a, \"es igual a\", b);\n",
    "    }\n",
    "}"
   ]
  },
  {
   "cell_type": "code",
   "execution_count": null,
   "metadata": {},
   "outputs": [],
   "source": [
    "compara(5);"
   ]
  },
  {
   "cell_type": "markdown",
   "metadata": {},
   "source": [
    "Hay que ser muy cuidadoso en Javascript, porque en caso de que no se defina un argumento, éste tendrá el valor de *undefined*, lo cual puede tener consecuencias inesperadas."
   ]
  },
  {
   "cell_type": "code",
   "execution_count": null,
   "metadata": {},
   "outputs": [],
   "source": [
    "compara();"
   ]
  },
  {
   "cell_type": "markdown",
   "metadata": {},
   "source": [
    "## Retorno de valores de una función.\n",
    "Es posible que las funciones puedan devolver valores dsitintos de *None* mediante la palabra clave *return*.\n",
    "\n",
    "Cuando una función se encuentra con la palabra *return*, regresa el valor indicado y se da por terminada."
   ]
  },
  {
   "cell_type": "code",
   "execution_count": null,
   "metadata": {},
   "outputs": [],
   "source": [
    "function suma(a, b) \n",
    "{\n",
    "    return a + b;\n",
    "}"
   ]
  },
  {
   "cell_type": "code",
   "execution_count": null,
   "metadata": {},
   "outputs": [],
   "source": [
    "suma(2, 5);"
   ]
  },
  {
   "cell_type": "markdown",
   "metadata": {},
   "source": [
    "Pueden incluirse varios *return* en una función, pero sólo se ejecuta el primero que se encuentre en el flujo."
   ]
  },
  {
   "cell_type": "code",
   "execution_count": null,
   "metadata": {},
   "outputs": [],
   "source": [
    "function compara (a, b=7){\n",
    "    if (a > b){ \n",
    "        return \"mayor que\";\n",
    "    }\n",
    "    else if (a < b){\n",
    "        return \"menor que\";\n",
    "    }\n",
    "    else {\n",
    "        return \"igual a\";\n",
    "    }\n",
    "}"
   ]
  },
  {
   "cell_type": "code",
   "execution_count": null,
   "metadata": {},
   "outputs": [],
   "source": [
    "compara(8);"
   ]
  },
  {
   "cell_type": "code",
   "execution_count": null,
   "metadata": {},
   "outputs": [],
   "source": [
    "let respuesta = compara(15, 1);"
   ]
  },
  {
   "cell_type": "code",
   "execution_count": null,
   "metadata": {},
   "outputs": [],
   "source": [
    "console.log(respuesta)"
   ]
  },
  {
   "cell_type": "markdown",
   "metadata": {},
   "source": [
    "## Funciones anidadas.\n",
    "\n",
    "Una función anidada es una función dentro de otra función."
   ]
  },
  {
   "cell_type": "code",
   "execution_count": null,
   "metadata": {},
   "outputs": [],
   "source": [
    "function despliega(cadena)\n",
    "{\n",
    "    function opera(cadena)\n",
    "    {\n",
    "        return cadena.toLowerCase();\n",
    "    }\n",
    "    console.log(opera(cadena));\n",
    "}"
   ]
  },
  {
   "cell_type": "code",
   "execution_count": null,
   "metadata": {},
   "outputs": [],
   "source": [
    "despliega('Hola');"
   ]
  },
  {
   "cell_type": "code",
   "execution_count": null,
   "metadata": {},
   "outputs": [],
   "source": [
    "opera('Hola');"
   ]
  },
  {
   "cell_type": "code",
   "execution_count": null,
   "metadata": {},
   "outputs": [],
   "source": [
    "function despliega(cadena)\n",
    "{\n",
    "    function opera()\n",
    "    {\n",
    "        return cadena.toLowerCase();\n",
    "    }\n",
    "    console.log(opera(cadena))\n",
    "}"
   ]
  },
  {
   "cell_type": "code",
   "execution_count": null,
   "metadata": {},
   "outputs": [],
   "source": [
    "despliega(\"Hola\");"
   ]
  },
  {
   "cell_type": "markdown",
   "metadata": {},
   "source": [
    "## Funciones recursivas.\n",
    "\n",
    "Son funciones que se llaman a si mismas."
   ]
  },
  {
   "cell_type": "code",
   "execution_count": null,
   "metadata": {},
   "outputs": [],
   "source": [
    "function factorial(numero)\n",
    "{\n",
    "    if (numero == 1)\n",
    "    {\n",
    "        return 1;\n",
    "    }\n",
    "    else\n",
    "    {\n",
    "        return(numero * factorial(numero - 1))        \n",
    "    }\n",
    "    \n",
    "}"
   ]
  },
  {
   "cell_type": "code",
   "execution_count": null,
   "metadata": {},
   "outputs": [],
   "source": [
    "factorial(5)"
   ]
  },
  {
   "cell_type": "code",
   "execution_count": null,
   "metadata": {},
   "outputs": [],
   "source": [
    "function factorial(numero)\n",
    "{\n",
    "    console.log('En este ámbito numero es', numero);\n",
    "    if (numero == 1)\n",
    "    {\n",
    "        console.log('Llegamos al final.');\n",
    "        return 1;\n",
    "    }\n",
    "    else\n",
    "    {\n",
    "        fact = numero * factorial(numero - 1)\n",
    "        console.log('El factorial de', numero, 'es', fact); \n",
    "        return(fact)        \n",
    "    }\n",
    "    \n",
    "}"
   ]
  },
  {
   "cell_type": "code",
   "execution_count": null,
   "metadata": {},
   "outputs": [],
   "source": [
    "factorial(5)"
   ]
  },
  {
   "cell_type": "markdown",
   "metadata": {},
   "source": [
    "## Funciones lambda.\n",
    "\n",
    "Las funciones lambda o funciones anónimas son funciones que no necesariamente requieren ser ligadas a una variable.\n",
    "\n",
    "Utiliza el operador *=>* con la siguiente sintaxis:\n",
    "\n",
    "``` javascript\n",
    "\n",
    "(<parámetros separados por comas>) => <expresión>;\n",
    "```"
   ]
  },
  {
   "cell_type": "code",
   "execution_count": null,
   "metadata": {},
   "outputs": [],
   "source": [
    "let sumatoria = (a,b) => a + b;"
   ]
  },
  {
   "cell_type": "code",
   "execution_count": null,
   "metadata": {},
   "outputs": [],
   "source": [
    "sumatoria(12, 4);"
   ]
  },
  {
   "cell_type": "code",
   "execution_count": null,
   "metadata": {},
   "outputs": [],
   "source": []
  }
 ],
 "metadata": {
  "kernelspec": {
   "display_name": "Javascript (Node.js)",
   "language": "javascript",
   "name": "javascript"
  },
  "language_info": {
   "file_extension": ".js",
   "mimetype": "application/javascript",
   "name": "javascript",
   "version": "6.14.3"
  }
 },
 "nbformat": 4,
 "nbformat_minor": 1
}
