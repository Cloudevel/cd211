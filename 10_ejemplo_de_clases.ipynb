{
 "cells": [
  {
   "cell_type": "markdown",
   "metadata": {},
   "source": [
    "[![imagenes/pythonista.png](imagenes/pythonista.png)](https://pythonista.io)"
   ]
  },
  {
   "cell_type": "code",
   "execution_count": null,
   "metadata": {},
   "outputs": [],
   "source": [
    "class Pikachu{\n",
    "    constructor(exp=1, fuerza=1, resistencia=1, gold=0)\n",
    "    {\n",
    "        this.exp = exp;\n",
    "        this.gold = gold;\n",
    "        this.especie = \"Pikachu\";\n",
    "        this.fuerza = fuerza;\n",
    "        this.resistencia = resistencia;\n",
    "        this.vida = 100;\n",
    "    }\n",
    "    atacktrueno()\n",
    "    {\n",
    "        return this.fuerza * this.exp;\n",
    "    }\n",
    "    electrocuta()\n",
    "    {\n",
    "        if (this.especie == \"Pikachu\")\n",
    "        {\n",
    "            return undefined;\n",
    "        }\n",
    "        if (this.especie == \"Raichu\")\n",
    "        {\n",
    "            return this.fuerza * 1.5 * this.exp * 1.2;\n",
    "        }\n",
    "    }\n",
    "    recibe_ataque(objeto, ataque)\n",
    "    {\n",
    "        this.vida -= objeto[ataque]()/ this.resistencia;\n",
    "        return this.vida;\n",
    "    }\n",
    "    evoluciona()\n",
    "    {\n",
    "        if (this.exp >= 15 && this.exp < 30 && this.gold >= 25 && this.especie == \"Pikachu\")\n",
    "        {\n",
    "            this.gold -= 25;\n",
    "            this.especie = \"Raichu\";\n",
    "            this.fuerza = 1.5;\n",
    "            this.resistencia = 2;    \n",
    "        }\n",
    "    }   \n",
    "} "
   ]
  },
  {
   "cell_type": "code",
   "execution_count": null,
   "metadata": {},
   "outputs": [],
   "source": [
    "const mascota = new Pikachu;"
   ]
  },
  {
   "cell_type": "code",
   "execution_count": null,
   "metadata": {},
   "outputs": [],
   "source": [
    "mascota"
   ]
  },
  {
   "cell_type": "code",
   "execution_count": null,
   "metadata": {},
   "outputs": [],
   "source": [
    "mascota.atacktrueno();"
   ]
  },
  {
   "cell_type": "code",
   "execution_count": null,
   "metadata": {},
   "outputs": [],
   "source": [
    "mascota.electrocuta();"
   ]
  },
  {
   "cell_type": "code",
   "execution_count": null,
   "metadata": {},
   "outputs": [],
   "source": [
    "mascota.exp = 27;\n",
    "mascota.gold = 31;"
   ]
  },
  {
   "cell_type": "code",
   "execution_count": null,
   "metadata": {},
   "outputs": [],
   "source": [
    "mascota"
   ]
  },
  {
   "cell_type": "code",
   "execution_count": null,
   "metadata": {},
   "outputs": [],
   "source": [
    "mascota.evoluciona()"
   ]
  },
  {
   "cell_type": "code",
   "execution_count": null,
   "metadata": {},
   "outputs": [],
   "source": [
    "mascota"
   ]
  },
  {
   "cell_type": "code",
   "execution_count": null,
   "metadata": {},
   "outputs": [],
   "source": [
    "mascota.exp"
   ]
  },
  {
   "cell_type": "code",
   "execution_count": null,
   "metadata": {},
   "outputs": [],
   "source": [
    "mascota.gold"
   ]
  },
  {
   "cell_type": "code",
   "execution_count": null,
   "metadata": {},
   "outputs": [],
   "source": [
    "mascota.atacktrueno()"
   ]
  },
  {
   "cell_type": "code",
   "execution_count": null,
   "metadata": {},
   "outputs": [],
   "source": [
    "mascota.electrocuta()"
   ]
  },
  {
   "cell_type": "code",
   "execution_count": null,
   "metadata": {},
   "outputs": [],
   "source": [
    "mascota.recibe_ataque(mascota, \"electrocuta\")"
   ]
  },
  {
   "cell_type": "code",
   "execution_count": null,
   "metadata": {},
   "outputs": [],
   "source": [
    "mascota"
   ]
  },
  {
   "cell_type": "markdown",
   "metadata": {},
   "source": [
    "<p style=\"text-align: center\"><a rel=\"license\" href=\"http://creativecommons.org/licenses/by/4.0/\"><img alt=\"Licencia Creative Commons\" style=\"border-width:0\" src=\"https://i.creativecommons.org/l/by/4.0/80x15.png\" /></a><br />Esta obra está bajo una <a rel=\"license\" href=\"http://creativecommons.org/licenses/by/4.0/\">Licencia Creative Commons Atribución 4.0 Internacional</a>.</p>\n",
    "<p style=\"text-align: center\">&copy; José Luis Chiquete Valdivieso. 2018.</p>"
   ]
  }
 ],
 "metadata": {
  "kernelspec": {
   "display_name": "Javascript (Node.js)",
   "language": "javascript",
   "name": "javascript"
  },
  "language_info": {
   "file_extension": ".js",
   "mimetype": "application/javascript",
   "name": "javascript",
   "version": "6.14.3"
  }
 },
 "nbformat": 4,
 "nbformat_minor": 2
}
