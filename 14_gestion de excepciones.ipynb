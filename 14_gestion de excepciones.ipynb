{
 "cells": [
  {
   "cell_type": "markdown",
   "metadata": {},
   "source": [
    "[![cloudevel](Imagenes/cloudevel.png)](https://cloudevel.com)"
   ]
  },
  {
   "cell_type": "markdown",
   "metadata": {},
   "source": [
    "# Gestión de excepciones.\n",
    "\n",
    "Una excepción es un erro en la lógica del programa que obliga a que este sea detenido de forma prematura y que se genere un mensaje de error.\n",
    "\n",
    "La excepción más común es el error de sintaxis. "
   ]
  },
  {
   "cell_type": "markdown",
   "metadata": {},
   "source": [
    "**Ejemplos:**"
   ]
  },
  {
   "cell_type": "markdown",
   "metadata": {},
   "source": [
    "* la siguiente celda incluye caracteres que el intérprete de *Javascript* no puede procesar y se generará un ```SyntaxError```."
   ]
  },
  {
   "cell_type": "code",
   "execution_count": null,
   "metadata": {
    "scrolled": false
   },
   "outputs": [],
   "source": [
    "1234\""
   ]
  },
  {
   "cell_type": "markdown",
   "metadata": {},
   "source": [
    "* L:a siguiente celda contiene caracteres que pueden ser sintácticamente correctos, pero que hacen referencia a la función ```print()```, la cual no está definida y causará un ```ReferenceError```. "
   ]
  },
  {
   "cell_type": "code",
   "execution_count": null,
   "metadata": {},
   "outputs": [],
   "source": [
    "print(\"Hola\");"
   ]
  },
  {
   "cell_type": "markdown",
   "metadata": {},
   "source": [
    "* La siguiente celda definirá a la función ```evaluador()```, la cual intentará evaluar como una expresión el parámetro que se le ingrese."
   ]
  },
  {
   "cell_type": "code",
   "execution_count": null,
   "metadata": {},
   "outputs": [],
   "source": [
    "function evaluador(expresion){\n",
    "    console.log(eval(expresion)); \n",
    "    console.log('Buen día.');\n",
    "}"
   ]
  },
  {
   "cell_type": "markdown",
   "metadata": {},
   "source": [
    "* Al ingresar una cadena de caracteres que represente a una expresión valida, el resultado de dicha expresión será desplegado."
   ]
  },
  {
   "cell_type": "code",
   "execution_count": null,
   "metadata": {},
   "outputs": [],
   "source": [
    "evaluador(\"2 + 2\");"
   ]
  },
  {
   "cell_type": "markdown",
   "metadata": {},
   "source": [
    "* Cuando se ingresa algo que no represente a una expresión, se generará un error."
   ]
  },
  {
   "cell_type": "code",
   "execution_count": null,
   "metadata": {},
   "outputs": [],
   "source": [
    "evaluador(print);"
   ]
  },
  {
   "cell_type": "code",
   "execution_count": null,
   "metadata": {},
   "outputs": [],
   "source": [
    "evaluador(\"23wefd'\");"
   ]
  },
  {
   "cell_type": "code",
   "execution_count": null,
   "metadata": {},
   "outputs": [],
   "source": [
    "evaluador(4);"
   ]
  },
  {
   "cell_type": "markdown",
   "metadata": {},
   "source": [
    "## Gestión de excepciones con ```try```...```catch```.\n",
    "\n",
    "Para gestionar excepciones en *Javascript* es necesario delimitar el bloque de código susceptible de un error encerrándolo dentro de una declaración ```try```. En caso de que ocurra la exzcepción, se ejecutará el códiog contenido dentro de la declaración ```catch```.\n",
    "\n",
    "\n",
    "```\n",
    "try {\n",
    "   <bloque de código>\n",
    "}\n",
    "catch(<parámetro>) {\n",
    "    <código en caso de excepción>\n",
    "}\n",
    "```"
   ]
  },
  {
   "cell_type": "code",
   "execution_count": null,
   "metadata": {},
   "outputs": [],
   "source": []
  },
  {
   "cell_type": "markdown",
   "metadata": {},
   "source": [
    "**Ejemplo:**\n",
    "\n",
    "La función ```evaluador()``` dee de recibir una cadena de caracteres que corresponda a una expresión válida de *Javascript*.\n",
    "\n",
    "La función ```eval()``` de *Javascript* evalúa el contenido de una cadena de caracteres como si fuera una expresión.\n",
    "\n",
    "En caso de que esto no ocurra, se generarán varias excepciones."
   ]
  },
  {
   "cell_type": "code",
   "execution_count": null,
   "metadata": {},
   "outputs": [],
   "source": [
    "function evaluador(expresion){\n",
    "    try \n",
    "    {\n",
    "        console.log(eval(expresion)); \n",
    "    }\n",
    "    catch(error)\n",
    "    {\n",
    "        console.log('Aquí no pasó nada.');\n",
    "    }\n",
    "    console.log('Buen día.');\n",
    "}"
   ]
  },
  {
   "cell_type": "markdown",
   "metadata": {},
   "source": [
    "* La siguiente celda ejecutará la función ```evaluador()``` ingresando como argumento la cadena \"Hola\". Debido a que no existe ninguna variable con ese nombre, se generará una excepción, lo que desencadenará que se ejecute el código dentro de ```catch()``` definido en la función.\n",
    "\n",
    "* ```catch()``` le asignará el mensaje de error al parámetro ```error```."
   ]
  },
  {
   "cell_type": "code",
   "execution_count": null,
   "metadata": {},
   "outputs": [],
   "source": [
    "evaluador(\"Hola\");"
   ]
  },
  {
   "cell_type": "code",
   "execution_count": null,
   "metadata": {
    "scrolled": true
   },
   "outputs": [],
   "source": [
    "evaluador(\"2 + 2\");"
   ]
  },
  {
   "cell_type": "markdown",
   "metadata": {},
   "source": [
    "* La función ```evaluador_despliega```regresa el contenido del parámetro ```error```."
   ]
  },
  {
   "cell_type": "code",
   "execution_count": null,
   "metadata": {
    "scrolled": true
   },
   "outputs": [],
   "source": [
    "function evaluador_despliega(expresion){\n",
    "    try \n",
    "    {\n",
    "       console.log(eval(expresion)); \n",
    "    }\n",
    "    catch(error)\n",
    "    {\n",
    "        console.log('Ocurrió el siguiente error:', error);\n",
    "    }\n",
    "    console.log('Buen día.');\n",
    "}"
   ]
  },
  {
   "cell_type": "code",
   "execution_count": null,
   "metadata": {
    "scrolled": true
   },
   "outputs": [],
   "source": [
    "evaluador_despliega(\"Hola\");"
   ]
  },
  {
   "cell_type": "markdown",
   "metadata": {},
   "source": [
    "* La función ```evaluador_tipo``` utilizará al operador ```instanceof``` para determinar el tipo de excepción de la que se trata.\n",
    "\n",
    "Para mayor referencia sobre ```instanceof``` se peude conslutar la siguiente liga: \n",
    "\n",
    "https://developer.mozilla.org/en-US/docs/Web/JavaScript/Reference/Operators/instanceof"
   ]
  },
  {
   "cell_type": "markdown",
   "metadata": {},
   "source": [
    "**ADVERTENCIA:** El uso de ```instanceof``` para detectar el tipo de error aún no está soportado por todos los navegadores."
   ]
  },
  {
   "cell_type": "code",
   "execution_count": null,
   "metadata": {},
   "outputs": [],
   "source": [
    "function evaluador_tipo(expresion){\n",
    "    try \n",
    "    {\n",
    "       console.log(eval(expresion)); \n",
    "    }\n",
    "    catch(error)\n",
    "    {\n",
    "        if (error instanceof ReferenceError) \n",
    "        {\n",
    "            console.log('Error de Referencia');\n",
    "        }\n",
    "        else\n",
    "        {\n",
    "            console.log(error);\n",
    "        }\n",
    "    }\n",
    "    console.log('Buen día.');\n",
    "}"
   ]
  },
  {
   "cell_type": "code",
   "execution_count": null,
   "metadata": {},
   "outputs": [],
   "source": [
    "evaluador_tipo(\"Hola\");"
   ]
  },
  {
   "cell_type": "code",
   "execution_count": null,
   "metadata": {},
   "outputs": [],
   "source": [
    "evaluador_tipo(\"1_nio + 3\");"
   ]
  },
  {
   "cell_type": "markdown",
   "metadata": {},
   "source": [
    " ## Cierre obligatorio con ```finally```.\n",
    " \n",
    " La declaración ```finallly``` se usa junto con ```try``` y ```catch``` y su finalidad es ejecutar código independientemente de si ocurre una excepción o no.\n",
    " \n",
    "```\n",
    " try {\n",
    "   <bloque de código>\n",
    "}\n",
    "catch(<parámetro>) {\n",
    "    <código en caso de excepción>\n",
    "}\n",
    "finally {\n",
    "    <código que siempre se ejecutará>\n",
    "}\n",
    "```"
   ]
  },
  {
   "cell_type": "markdown",
   "metadata": {},
   "source": [
    "**Ejemplo:**"
   ]
  },
  {
   "cell_type": "code",
   "execution_count": null,
   "metadata": {},
   "outputs": [],
   "source": [
    "function evalua(expresion)\n",
    "{\n",
    "    let ocurre_error = false;\n",
    "    try \n",
    "    {\n",
    "       console.log(eval(expresion)); \n",
    "    }\n",
    "    catch(error)\n",
    "    {\n",
    "        console.log('Ocurrió el siguiente error:', error);\n",
    "        ocurre_error = false;\n",
    "    }\n",
    "    finally\n",
    "    {\n",
    "        if (!ocurre_error)\n",
    "        {\n",
    "            console.log('Todo salió bien.')\n",
    "        }\n",
    "        else\n",
    "        {\n",
    "            console.log('Ocurrió un error.')\n",
    "        }\n",
    "    }\n",
    "}"
   ]
  },
  {
   "cell_type": "code",
   "execution_count": null,
   "metadata": {},
   "outputs": [],
   "source": [
    "evalua('2 * 3');"
   ]
  },
  {
   "cell_type": "code",
   "execution_count": null,
   "metadata": {},
   "outputs": [],
   "source": [
    "evalua('Hola');"
   ]
  },
  {
   "cell_type": "markdown",
   "metadata": {},
   "source": [
    "## Creación de excepción con ```throw()```.\n",
    "\n",
    "La declaración ```throw``` desencadena una excepción.\n",
    "\n",
    "```\n",
    "throw \"<mensaje>\"\n",
    "```"
   ]
  },
  {
   "cell_type": "markdown",
   "metadata": {},
   "source": [
    "**Ejemplo:**"
   ]
  },
  {
   "cell_type": "code",
   "execution_count": null,
   "metadata": {},
   "outputs": [],
   "source": [
    "function lanza_excepcion(expresion)\n",
    "{\n",
    "    let ocurre_error = false;\n",
    "    try \n",
    "    {  \n",
    "        if (expresion == \"error\")\n",
    "        {\n",
    "            throw \"error previsto\";\n",
    "        }\n",
    "        console.log(eval(expresion)); \n",
    "    }\n",
    "    catch(error)\n",
    "    {\n",
    "        console.log('Ocurrió el siguiente error:', error);\n",
    "        ocurre_error = true;\n",
    "    }\n",
    "    finally\n",
    "    {\n",
    "        if (!ocurre_error)\n",
    "        {\n",
    "            console.log('Todo salió bien.')\n",
    "        }\n",
    "        else\n",
    "        {\n",
    "            console.log('Ocurrió un error.')\n",
    "        }\n",
    "    }\n",
    "}"
   ]
  },
  {
   "cell_type": "code",
   "execution_count": null,
   "metadata": {},
   "outputs": [],
   "source": [
    "lanza_excepcion(\"Hola\");"
   ]
  },
  {
   "cell_type": "code",
   "execution_count": null,
   "metadata": {},
   "outputs": [],
   "source": [
    "lanza_excepcion(\"5 - 4\");"
   ]
  },
  {
   "cell_type": "code",
   "execution_count": null,
   "metadata": {},
   "outputs": [],
   "source": [
    "lanza_excepcion(\"error\");"
   ]
  },
  {
   "cell_type": "markdown",
   "metadata": {},
   "source": [
    "<p style=\"text-align: center\"><a rel=\"license\" href=\"http://creativecommons.org/licenses/by/4.0/\"><img alt=\"Licencia Creative Commons\" style=\"border-width:0\" src=\"https://i.creativecommons.org/l/by/4.0/80x15.png\" /></a><br />Esta obra está bajo una <a rel=\"license\" href=\"http://creativecommons.org/licenses/by/4.0/\">Licencia Creative Commons Atribución 4.0 Internacional</a>.</p>\n",
    "<p style=\"text-align: center\">&copy; José Luis Chiquete Valdivieso. 2019.</p>"
   ]
  }
 ],
 "metadata": {
  "kernelspec": {
   "display_name": "Javascript (Node.js)",
   "language": "javascript",
   "name": "javascript"
  },
  "language_info": {
   "file_extension": ".js",
   "mimetype": "application/javascript",
   "name": "javascript",
   "version": "8.10.0"
  }
 },
 "nbformat": 4,
 "nbformat_minor": 2
}
