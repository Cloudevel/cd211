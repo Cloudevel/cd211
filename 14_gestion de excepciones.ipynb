{
 "cells": [
  {
   "cell_type": "markdown",
   "metadata": {},
   "source": [
    "[![cloudevel](Imagenes/cloudevel.png)](https://cloudevel.com)"
   ]
  },
  {
   "cell_type": "code",
   "execution_count": null,
   "metadata": {},
   "outputs": [],
   "source": [
    "console.log(eval('Hola'));"
   ]
  },
  {
   "cell_type": "markdown",
   "metadata": {},
   "source": [
    "## Gestión de errores con ```try```...```catch```.\n",
    "\n",
    "\n",
    "```\n",
    "try {\n",
    "   <bloque de código>\n",
    "}\n",
    "catch(<parámetro>) {\n",
    "    <código en caso de excepción>\n",
    "}\n",
    "```"
   ]
  },
  {
   "cell_type": "code",
   "execution_count": null,
   "metadata": {},
   "outputs": [],
   "source": [
    "function evaluador(expresion){\n",
    "    try \n",
    "    {\n",
    "        console.log(eval(expresion)); \n",
    "    }\n",
    "    catch(error)\n",
    "    {\n",
    "        console.log('Aquí no pasó nada.');\n",
    "    }\n",
    "    console.log('Buen día.');\n",
    "}"
   ]
  },
  {
   "cell_type": "code",
   "execution_count": null,
   "metadata": {},
   "outputs": [],
   "source": [
    "evaluador(\"Hola\");"
   ]
  },
  {
   "cell_type": "code",
   "execution_count": null,
   "metadata": {
    "scrolled": true
   },
   "outputs": [],
   "source": [
    "evaluador(\"2 + 2\");"
   ]
  },
  {
   "cell_type": "code",
   "execution_count": null,
   "metadata": {},
   "outputs": [],
   "source": [
    "La siguiente función regresa en contenido del parámetro ```error```."
   ]
  },
  {
   "cell_type": "code",
   "execution_count": null,
   "metadata": {
    "scrolled": true
   },
   "outputs": [],
   "source": [
    "function evaluador_despliega(expresion){\n",
    "    try \n",
    "    {\n",
    "       console.log(eval(expresion)); \n",
    "    }\n",
    "    catch(error)\n",
    "    {\n",
    "        console.log('Ocurrió el siguiente error:', error);\n",
    "    }\n",
    "    console.log('Buen día.');\n",
    "}"
   ]
  },
  {
   "cell_type": "code",
   "execution_count": null,
   "metadata": {
    "scrolled": true
   },
   "outputs": [],
   "source": [
    "evaluador_despliega(\"Hola\");"
   ]
  },
  {
   "cell_type": "markdown",
   "metadata": {},
   "source": [
    "* La función ```evaluador_tipo``` utilizará al operador ```instanceof``` para determinar el tipo de excepción de la que se trata."
   ]
  },
  {
   "cell_type": "markdown",
   "metadata": {},
   "source": [
    "**ADVERTENCIA:** El uso de ```instanceof``` para detectar el tipod e error aún no está soportado por todos los navegadores."
   ]
  },
  {
   "cell_type": "code",
   "execution_count": null,
   "metadata": {},
   "outputs": [],
   "source": [
    "function evaluador_tipo(expresion){\n",
    "    try \n",
    "    {\n",
    "       console.log(eval(expresion)); \n",
    "    }\n",
    "    catch(error)\n",
    "    {\n",
    "        if (error instanceof ReferenceError) \n",
    "        {\n",
    "            console.log('Error de Referencia');\n",
    "        }\n",
    "        else\n",
    "        {\n",
    "            console.log(error);\n",
    "        }\n",
    "    }\n",
    "    console.log('Buen día.');\n",
    "}"
   ]
  },
  {
   "cell_type": "code",
   "execution_count": null,
   "metadata": {},
   "outputs": [],
   "source": [
    "evaluador_tipo(\"Hola\");"
   ]
  },
  {
   "cell_type": "code",
   "execution_count": null,
   "metadata": {},
   "outputs": [],
   "source": [
    "evaluador_tipo(\"1_nio + 3\");"
   ]
  },
  {
   "cell_type": "markdown",
   "metadata": {},
   "source": [
    " ## Cierre obligatorio con ```finally```.\n",
    " \n",
    "```\n",
    " try {\n",
    "   <bloque de código>\n",
    "}\n",
    "catch(<parámetro>) {\n",
    "    <código en caso de excepción>\n",
    "}\n",
    "finally {\n",
    "    <código que siempre se ejecutará>\n",
    "}\n",
    "```"
   ]
  },
  {
   "cell_type": "code",
   "execution_count": null,
   "metadata": {},
   "outputs": [],
   "source": [
    "function evalua(expresion)\n",
    "{\n",
    "    let sin_error = true;\n",
    "    try \n",
    "    {\n",
    "       console.log(eval(expresion)); \n",
    "    }\n",
    "    catch(error)\n",
    "    {\n",
    "        console.log('Ocurrió el siguiente error:', error);\n",
    "        sin_error = false;\n",
    "    }\n",
    "    finally\n",
    "    {\n",
    "        if (sin_error)\n",
    "        {\n",
    "            console.log('Todo salió bien.')\n",
    "        }\n",
    "        else\n",
    "        {\n",
    "            console.log('Ocurrió un error.')\n",
    "        }\n",
    "    }\n",
    "}"
   ]
  },
  {
   "cell_type": "code",
   "execution_count": null,
   "metadata": {},
   "outputs": [],
   "source": [
    "evalua('2 * 3')"
   ]
  },
  {
   "cell_type": "code",
   "execution_count": null,
   "metadata": {},
   "outputs": [],
   "source": [
    "evalua('Hola')"
   ]
  },
  {
   "cell_type": "markdown",
   "metadata": {},
   "source": [
    "## Creación de excepción con ```throw()```."
   ]
  },
  {
   "cell_type": "code",
   "execution_count": null,
   "metadata": {},
   "outputs": [],
   "source": [
    "function lanza_excepcion(expresion)\n",
    "{\n",
    "    let sin_error = true;\n",
    "    try \n",
    "    {  \n",
    "        if (expresion == \"error\")\n",
    "        {\n",
    "            throw \"error previsto\";\n",
    "        }\n",
    "        console.log(eval(expresion)); \n",
    "    }\n",
    "    catch(error)\n",
    "    {\n",
    "        console.log('Ocurrió el siguiente error:', error);\n",
    "        sin_error = false;\n",
    "    }\n",
    "    finally\n",
    "    {\n",
    "        if (sin_error)\n",
    "        {\n",
    "            console.log('Todo salió bien.')\n",
    "        }\n",
    "        else\n",
    "        {\n",
    "            console.log('Ocurrió un error.')\n",
    "        }\n",
    "    }\n",
    "}"
   ]
  },
  {
   "cell_type": "code",
   "execution_count": null,
   "metadata": {},
   "outputs": [],
   "source": [
    "lanza_excepcion(\"Hola\");"
   ]
  },
  {
   "cell_type": "code",
   "execution_count": null,
   "metadata": {},
   "outputs": [],
   "source": [
    "lanza_excepcion(\"5 - 4\");"
   ]
  },
  {
   "cell_type": "code",
   "execution_count": null,
   "metadata": {},
   "outputs": [],
   "source": [
    "lanza_excepcion(\"error\");"
   ]
  },
  {
   "cell_type": "markdown",
   "metadata": {},
   "source": [
    "<p style=\"text-align: center\"><a rel=\"license\" href=\"http://creativecommons.org/licenses/by/4.0/\"><img alt=\"Licencia Creative Commons\" style=\"border-width:0\" src=\"https://i.creativecommons.org/l/by/4.0/80x15.png\" /></a><br />Esta obra está bajo una <a rel=\"license\" href=\"http://creativecommons.org/licenses/by/4.0/\">Licencia Creative Commons Atribución 4.0 Internacional</a>.</p>\n",
    "<p style=\"text-align: center\">&copy; José Luis Chiquete Valdivieso. 2019.</p>"
   ]
  }
 ],
 "metadata": {
  "kernelspec": {
   "display_name": "Javascript (Node.js)",
   "language": "javascript",
   "name": "javascript"
  },
  "language_info": {
   "file_extension": ".js",
   "mimetype": "application/javascript",
   "name": "javascript",
   "version": "6.14.3"
  }
 },
 "nbformat": 4,
 "nbformat_minor": 2
}
