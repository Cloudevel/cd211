{
 "cells": [
  {
   "cell_type": "markdown",
   "metadata": {},
   "source": [
    "[![cloudevel](Imagenes/cloudevel.png)](https://cloudevel.com)"
   ]
  },
  {
   "cell_type": "markdown",
   "metadata": {},
   "source": [
    "# Expresiones y declaraciones.\n",
    "\n",
    "## Expresiones.\n",
    "Uan expresión es una serie ordenada de nombres, valores, funciones y operadores que regresan a su vez un resultado."
   ]
  },
  {
   "cell_type": "markdown",
   "metadata": {},
   "source": [
    "### Sobre el uso del punto y coma (*;*).\n",
    "\n",
    "Javascript delimita al final de una línea de código con un signo de punto y coma (*;*). Actualmente, los intérpretes y consolas identifican en retorno de línea como el final de una línea de código. Sin embargo, durante este curso se hará uso estricto de las recomendaciones y mejroes prácticas, por lo que se hará uso dl punto  y coma al final de cada línea de código.\n"
   ]
  },
  {
   "cell_type": "markdown",
   "metadata": {},
   "source": [
    "**Ejemplos:**\n",
    "\n",
    "``` javascript\n",
    "123 + 23;\n",
    "15 -3;\n",
    "\"54\" * 5;\n",
    "```"
   ]
  },
  {
   "cell_type": "markdown",
   "metadata": {},
   "source": [
    "## Declaraciones.\n",
    "\n",
    "Las declaraciones por si mismas son una especie de expresión. Lo que las dirferencia es que las delcraciones puede contener múltiples expresiones y en muchos casos no regresan un valor.\n",
    "\n",
    "**Ejemplo:**\n",
    "\n",
    "```console.log()``` es un método del objeto ```console```. Este metodo permite desplegar en la consola contenido que es ingresado como argumento dentro de los paréntesis. Dicho contenido puede ser una cadena de caracteres o una expresión.\n",
    "\n",
    "Por lo general si no se define un valor a regresar, el resultado de una"
   ]
  },
  {
   "cell_type": "code",
   "execution_count": 6,
   "metadata": {},
   "outputs": [
    {
     "data": {
      "application/javascript": [
       "\n",
       "console.log(123 + 23);\n",
       "console.log(15 -3);\n",
       "console.log(\"54\" * 5);"
      ],
      "text/plain": [
       "<IPython.core.display.Javascript object>"
      ]
     },
     "metadata": {},
     "output_type": "display_data"
    }
   ],
   "source": [
    "%%javascript\n",
    "\n",
    "console.log(123 + 23);\n",
    "console.log(15 -3);\n",
    "console.log(\"54\" * 5);"
   ]
  },
  {
   "cell_type": "code",
   "execution_count": null,
   "metadata": {},
   "outputs": [],
   "source": [
    "123 + 23; // Esto no es interpetado.\n",
    "console.log(\"54\" * 5);"
   ]
  },
  {
   "cell_type": "code",
   "execution_count": null,
   "metadata": {},
   "outputs": [],
   "source": [
    "/* Este es un comentario\n",
    "de varias líneas*/\n",
    "console.log(\"54\" * 5);\n",
    "123 + 23; // Esto no es interpetado."
   ]
  },
  {
   "cell_type": "markdown",
   "metadata": {},
   "source": [
    "<p style=\"text-align: center\"><a rel=\"license\" href=\"http://creativecommons.org/licenses/by/4.0/\"><img alt=\"Licencia Creative Commons\" style=\"border-width:0\" src=\"https://i.creativecommons.org/l/by/4.0/80x15.png\" /></a><br />Esta obra está bajo una <a rel=\"license\" href=\"http://creativecommons.org/licenses/by/4.0/\">Licencia Creative Commons Atribución 4.0 Internacional</a>.</p>\n",
    "<p style=\"text-align: center\">&copy; José Luis Chiquete Valdivieso. 2019.</p>"
   ]
  }
 ],
 "metadata": {
  "kernelspec": {
   "display_name": "Python 3",
   "language": "python",
   "name": "python3"
  },
  "language_info": {
   "codemirror_mode": {
    "name": "ipython",
    "version": 3
   },
   "file_extension": ".py",
   "mimetype": "text/x-python",
   "name": "python",
   "nbconvert_exporter": "python",
   "pygments_lexer": "ipython3",
   "version": "3.6.3"
  }
 },
 "nbformat": 4,
 "nbformat_minor": 2
}
