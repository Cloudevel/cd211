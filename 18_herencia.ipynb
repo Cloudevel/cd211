{
 "cells": [
  {
   "cell_type": "markdown",
   "metadata": {},
   "source": [
    "[![cloudevel](Imagenes/cloudevel.png)](https://cloudevel.com)"
   ]
  },
  {
   "cell_type": "markdown",
   "metadata": {},
   "source": [
    "## La clase ```Pokemon```.\n",
    "\n",
    "En este capítulo se creará cla clase ```Pokemon```, la cual es la base para el resto de los objetos.\n",
    "\n",
    "Las propiedades que define esta clase son:\n",
    "\n",
    "* ```especie``` la cual tiene el valor ```undefined```.\n",
    "* ```vida```\n",
    "* ```fuerza```\n",
    "* ```resistencia```\n",
    "* ```gold```\n",
    "\n",
    "Sólo define los siguientes métodos:\n",
    "\n",
    "* ```recibeAtaque()```.\n",
    "* ```evoluciona()``` que en realidad no contiene código."
   ]
  },
  {
   "cell_type": "code",
   "execution_count": 1,
   "metadata": {},
   "outputs": [
    {
     "data": {
      "text/plain": [
       "[Function: Pokemon]"
      ]
     },
     "execution_count": 1,
     "metadata": {},
     "output_type": "execute_result"
    }
   ],
   "source": [
    "class Pokemon\n",
    "{\n",
    "    constructor(experiencia=1, fuerza=1, resistencia=1, gold=0)\n",
    "    {\n",
    "        this.experiencia = experiencia;\n",
    "        this.gold = gold;\n",
    "        this.especie = undefined;\n",
    "        this.fuerza = fuerza;\n",
    "        this.resistencia = resistencia;\n",
    "        this.vida = 100;\n",
    "    }\n",
    "    recibeAtaque(objeto, ataque)\n",
    "    {\n",
    "        this.vida -= objeto[ataque]()/ this.resistencia;\n",
    "        this.experiencia += 1;\n",
    "        return this.vida;\n",
    "    }\n",
    "    evoluciona()\n",
    "    {\n",
    "       console.log('No hay reglas de evolución');\n",
    "    }   \n",
    "} "
   ]
  },
  {
   "cell_type": "code",
   "execution_count": 2,
   "metadata": {},
   "outputs": [],
   "source": [
    "let generico = new Pokemon;"
   ]
  },
  {
   "cell_type": "code",
   "execution_count": 3,
   "metadata": {},
   "outputs": [
    {
     "data": {
      "text/plain": [
       "Pokemon {\n",
       "  experiencia: 1,\n",
       "  gold: 0,\n",
       "  especie: undefined,\n",
       "  fuerza: 1,\n",
       "  resistencia: 1,\n",
       "  vida: 100 }"
      ]
     },
     "execution_count": 3,
     "metadata": {},
     "output_type": "execute_result"
    }
   ],
   "source": [
    "cosa;"
   ]
  },
  {
   "cell_type": "code",
   "execution_count": 4,
   "metadata": {},
   "outputs": [],
   "source": [
    "generico.especie;"
   ]
  },
  {
   "cell_type": "code",
   "execution_count": 5,
   "metadata": {},
   "outputs": [
    {
     "name": "stdout",
     "output_type": "stream",
     "text": [
      "No hay reglas de evolución\n"
     ]
    }
   ],
   "source": [
    "generico.evoluciona();"
   ]
  },
  {
   "cell_type": "markdown",
   "metadata": {},
   "source": [
    "## La declaración ```extends```.\n",
    "\n",
    "*Javascript* permite crear nuevas clases a partir de otras clases mediante la herencia. Esto implica que una clase original (superclase) puede utilizarse para ser la base de nuevas clases(subclases).\n",
    "\n",
    "\n",
    "```\n",
    "class <NombreSubClase> extends <NombreSuperClase> {\n",
    "    ...\n",
    "    ...\n",
    "    ...\n",
    "}\n",
    "``` \n",
    "\n",
    "Los métodos y propiedades definidas en una subclase sobreescribirán a los métodos y porpiedades de la superclase cuando tengan el mismo nombre."
   ]
  },
  {
   "cell_type": "markdown",
   "metadata": {},
   "source": [
    "### La clase ```SubPokemon```."
   ]
  },
  {
   "cell_type": "code",
   "execution_count": 13,
   "metadata": {},
   "outputs": [
    {
     "data": {
      "text/plain": [
       "[Function: SubPokemon]"
      ]
     },
     "execution_count": 13,
     "metadata": {},
     "output_type": "execute_result"
    }
   ],
   "source": [
    "class SubPokemon extends Pokemon {\n",
    "    saluda() {\n",
    "        return \"Hola\";\n",
    "    }\n",
    "}"
   ]
  },
  {
   "cell_type": "code",
   "execution_count": 14,
   "metadata": {},
   "outputs": [],
   "source": [
    "let junior = new SubPokemon;"
   ]
  },
  {
   "cell_type": "code",
   "execution_count": 15,
   "metadata": {},
   "outputs": [
    {
     "data": {
      "text/plain": [
       "SubPokemon {\n",
       "  experiencia: 1,\n",
       "  gold: 0,\n",
       "  especie: undefined,\n",
       "  fuerza: 1,\n",
       "  resistencia: 1,\n",
       "  vida: 100 }"
      ]
     },
     "execution_count": 15,
     "metadata": {},
     "output_type": "execute_result"
    }
   ],
   "source": [
    "junior;"
   ]
  },
  {
   "cell_type": "code",
   "execution_count": 17,
   "metadata": {},
   "outputs": [
    {
     "data": {
      "text/plain": [
       "'Hola'"
      ]
     },
     "execution_count": 17,
     "metadata": {},
     "output_type": "execute_result"
    }
   ],
   "source": [
    "junior.saluda();"
   ]
  },
  {
   "cell_type": "code",
   "execution_count": 18,
   "metadata": {},
   "outputs": [
    {
     "name": "stdout",
     "output_type": "stream",
     "text": [
      "No hay reglas de evolución\n"
     ]
    }
   ],
   "source": [
    "junior.evoluciona();"
   ]
  },
  {
   "cell_type": "markdown",
   "metadata": {},
   "source": [
    "## El nombre ```this``` de una subclase.\n",
    "\n",
    "Cunado una clase hereda a una superclase, el nombre ```this``` hace referencia a la superclase.\n",
    "\n",
    "Es necesario traer al método ```constructor``` de la superclase dentro del metodo ```constructor``` de la subclase para que ésta funcione correctamente."
   ]
  },
  {
   "cell_type": "markdown",
   "metadata": {},
   "source": [
    "## La función ```super()```.\n",
    "\n",
    "Esta función permite acceder al método que se está sobreescribiendo. Al aplicar ```super()``` en el método ```constructor``` de la clase ```VamoACalmarno```, redirewccionamos el nombre ```this```."
   ]
  },
  {
   "cell_type": "markdown",
   "metadata": {},
   "source": [
    "### La clase PokeError."
   ]
  },
  {
   "cell_type": "code",
   "execution_count": 6,
   "metadata": {},
   "outputs": [
    {
     "data": {
      "text/plain": [
       "[Function: PokeError]"
      ]
     },
     "execution_count": 6,
     "metadata": {},
     "output_type": "execute_result"
    }
   ],
   "source": [
    "class PokeError extends Pokemon\n",
    "{\n",
    "    constructor(experiencia=1, fuerza=1, resistencia=1, gold=0)\n",
    "    {\n",
    "       this.experiencia = experiencia;\n",
    "        this.gold = gold;\n",
    "        this.especie = fallido;\n",
    "        this.fuerza = fuerza;\n",
    "        this.resistencia = resistencia;\n",
    "        this.vida = 100; \n",
    "    }\n",
    "    evoluciona()\n",
    "    {\n",
    "        if (this.experiencia >= 12 && this.gold >= 10 && this.especie == \"Vamo a calmarno\")\n",
    "        {\n",
    "            this.especie = \"War turtle\";\n",
    "        }\n",
    "    }\n",
    "}"
   ]
  },
  {
   "cell_type": "code",
   "execution_count": 7,
   "metadata": {},
   "outputs": [
    {
     "ename": "ReferenceError",
     "evalue": "this is not defined",
     "output_type": "error",
     "traceback": [
      "evalmachine.<anonymous>:5",
      "       this.experiencia = experiencia;",
      "       ^",
      "",
      "ReferenceError: this is not defined",
      "    at PokeError (evalmachine.<anonymous>:5:8)",
      "    at evalmachine.<anonymous>:1:12",
      "    at ContextifyScript.Script.runInThisContext (vm.js:25:33)",
      "    at Object.runInThisContext (vm.js:97:38)",
      "    at run ([eval]:1002:15)",
      "    at onRunRequest ([eval]:829:18)",
      "    at onMessage ([eval]:789:13)",
      "    at emitTwo (events.js:106:13)",
      "    at process.emit (events.js:191:7)",
      "    at process.nextTick (internal/child_process.js:787:12)"
     ]
    }
   ],
   "source": [
    "let coso = new PokeError();"
   ]
  },
  {
   "cell_type": "markdown",
   "metadata": {},
   "source": [
    "### La clase ```VamoACalmarno```.\n",
    "\n",
    "Esta clase hereda las propiedades y métodos  de la superclase ```Pokemon```.\n",
    "\n",
    "Los siguientes métodos serán sobreescritos en esta subclase.\n",
    "\n",
    "* ```constructor()```\n",
    "* ```evoluciona()```\n",
    "\n",
    "El método ```recibeAtaque()``` es el mismo de la superclase ```Pokemon```."
   ]
  },
  {
   "cell_type": "code",
   "execution_count": null,
   "metadata": {},
   "outputs": [],
   "source": []
  },
  {
   "cell_type": "code",
   "execution_count": null,
   "metadata": {},
   "outputs": [],
   "source": [
    " class VamoACalmarno extends Pokemon\n",
    "{\n",
    "    constructor(experiencia=1, fuerza=1, resistencia=1, gold=0)\n",
    "    {\n",
    "        super(experiencia, fuerza, resistencia, gold);\n",
    "        this.especie = \"Vamo a calmarno\";\n",
    "        this.color = \"verde\";\n",
    "    }\n",
    "    evoluciona()\n",
    "    {\n",
    "        if (this.experiencia >= 12 && this.gold >= 10 && this.especie == \"Vamo a calmarno\")\n",
    "        {\n",
    "            this.especie = \"War turtle\";\n",
    "        }\n",
    "    }\n",
    "}"
   ]
  },
  {
   "cell_type": "code",
   "execution_count": null,
   "metadata": {},
   "outputs": [],
   "source": [
    "let squirtle = new VamoACalmarno;"
   ]
  },
  {
   "cell_type": "code",
   "execution_count": null,
   "metadata": {},
   "outputs": [],
   "source": [
    "squirtle;"
   ]
  },
  {
   "cell_type": "code",
   "execution_count": null,
   "metadata": {},
   "outputs": [],
   "source": [
    "squirtle.evoluciona();"
   ]
  },
  {
   "cell_type": "code",
   "execution_count": null,
   "metadata": {
    "scrolled": true
   },
   "outputs": [],
   "source": [
    "squirtle;"
   ]
  },
  {
   "cell_type": "code",
   "execution_count": null,
   "metadata": {},
   "outputs": [],
   "source": [
    "squirtle.experiencia = 21;\n",
    "squirtle.gold = 20;"
   ]
  },
  {
   "cell_type": "code",
   "execution_count": null,
   "metadata": {},
   "outputs": [],
   "source": [
    "squirtle.evoluciona();"
   ]
  },
  {
   "cell_type": "code",
   "execution_count": null,
   "metadata": {},
   "outputs": [],
   "source": [
    "squirtle;"
   ]
  },
  {
   "cell_type": "markdown",
   "metadata": {},
   "source": [
    "## La clase ```Pikachu```.\n",
    "\n",
    "Esta clase tambien es subclase de ```Pokemon```pero con implementaciones distintas a las de ```VamoACalmarno```."
   ]
  },
  {
   "cell_type": "code",
   "execution_count": null,
   "metadata": {},
   "outputs": [],
   "source": [
    "class Pikachu extends Pokemon\n",
    "{\n",
    "    constructor(experiencia=1, fuerza=1, resistencia=1, gold=0)\n",
    "    {\n",
    "        super(experiencia, fuerza, resistencia, gold)\n",
    "        this.especie = \"Pikachu\";\n",
    "    }\n",
    "    attackTrueno()\n",
    "    {\n",
    "        return this.fuerza * this.experiencia;\n",
    "    }\n",
    "    electrocuta()\n",
    "    {\n",
    "        if (this.especie == \"Pikachu\")\n",
    "        {\n",
    "            return undefined;\n",
    "        }\n",
    "        if (this.especie == \"Raichu\")\n",
    "        {\n",
    "            return this.fuerza * 1.5 * this.experiencia * 1.2;\n",
    "        }\n",
    "    }\n",
    "    evoluciona()\n",
    "    {\n",
    "        if (this.experiencia >= 15 && this.experiencia < 30 && this.gold >= 25 && this.especie == \"Pikachu\")\n",
    "        {\n",
    "            this.gold -= 25;\n",
    "            this.especie = \"Raichu\";\n",
    "            this.fuerza = 1.5;\n",
    "            this.resistencia = 2;    \n",
    "        }\n",
    "    }\n",
    "}\n",
    "    "
   ]
  },
  {
   "cell_type": "code",
   "execution_count": null,
   "metadata": {},
   "outputs": [],
   "source": [
    "let pika = new Pikachu;"
   ]
  },
  {
   "cell_type": "code",
   "execution_count": null,
   "metadata": {},
   "outputs": [],
   "source": [
    "squirtle.recibeAtaque(pika, \"attackTrueno\");"
   ]
  },
  {
   "cell_type": "markdown",
   "metadata": {},
   "source": [
    "## Uso de ```prototype``` en clases."
   ]
  },
  {
   "cell_type": "code",
   "execution_count": null,
   "metadata": {},
   "outputs": [],
   "source": [
    "VamoACalmarno.prototype.chorroDeAgua = function() {\n",
    "    return this.fuerza * 1.2 * this.experiencia * 1.5;\n",
    "}"
   ]
  },
  {
   "cell_type": "code",
   "execution_count": null,
   "metadata": {},
   "outputs": [],
   "source": [
    "squirtle.chorroDeAgua();"
   ]
  },
  {
   "cell_type": "code",
   "execution_count": null,
   "metadata": {},
   "outputs": [],
   "source": [
    "VamoACalmarno;"
   ]
  },
  {
   "cell_type": "code",
   "execution_count": null,
   "metadata": {},
   "outputs": [],
   "source": [
    "Object.keys(VamoACalmarno);"
   ]
  },
  {
   "cell_type": "markdown",
   "metadata": {},
   "source": [
    "<p style=\"text-align: center\"><a rel=\"license\" href=\"http://creativecommons.org/licenses/by/4.0/\"><img alt=\"Licencia Creative Commons\" style=\"border-width:0\" src=\"https://i.creativecommons.org/l/by/4.0/80x15.png\" /></a><br />Esta obra está bajo una <a rel=\"license\" href=\"http://creativecommons.org/licenses/by/4.0/\">Licencia Creative Commons Atribución 4.0 Internacional</a>.</p>\n",
    "<p style=\"text-align: center\">&copy; José Luis Chiquete Valdivieso. 2019.</p>"
   ]
  }
 ],
 "metadata": {
  "kernelspec": {
   "display_name": "Javascript (Node.js)",
   "language": "javascript",
   "name": "javascript"
  },
  "language_info": {
   "file_extension": ".js",
   "mimetype": "application/javascript",
   "name": "javascript",
   "version": "6.14.3"
  }
 },
 "nbformat": 4,
 "nbformat_minor": 2
}
