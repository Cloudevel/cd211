{
 "cells": [
  {
   "cell_type": "markdown",
   "metadata": {},
   "source": [
    "[![cloudevel](Imagenes/cloudevel.png)](https://cloudevel.com)"
   ]
  },
  {
   "cell_type": "code",
   "execution_count": null,
   "metadata": {},
   "outputs": [],
   "source": [
    "class Pokemon\n",
    "{\n",
    "    constructor(experiencia=1, fuerza=1, resistencia=1, gold=0)\n",
    "    {\n",
    "        this.experiencia = experiencia;\n",
    "        this.gold = gold;\n",
    "        this.especie = undefined;\n",
    "        this.fuerza = fuerza;\n",
    "        this.resistencia = resistencia;\n",
    "        this.vida = 100;\n",
    "    }\n",
    "    recibe_ataque(objeto, ataque)\n",
    "    {\n",
    "        this.vida -= objeto[ataque]()/ this.resistencia;\n",
    "        return this.vida;\n",
    "    }\n",
    "    evoluciona()\n",
    "    {\n",
    "       console.log('No hay reglas de evolución');\n",
    "    }   \n",
    "} "
   ]
  },
  {
   "cell_type": "code",
   "execution_count": null,
   "metadata": {},
   "outputs": [],
   "source": [
    "class VamoACalmarno extends Pokemon\n",
    "{\n",
    "    constructor(exp=1, fuerza=1, resistencia=1, gold=0)\n",
    "    {\n",
    "        super(experiencia, fuerza, resistencia, gold)\n",
    "        this.experiencia = exp;\n",
    "        this.gold = gold;\n",
    "        this.especie = \"Vamo a calmarno\";\n",
    "        this.fuerza = fuerza;\n",
    "        this.resistencia = resistencia;\n",
    "        this.vida = 100;\n",
    "    }\n",
    "    evoluciona()\n",
    "    {\n",
    "        if (this.experiencia >= 12 && this.gold >= 10 && this.especie == \"Vamo a calmarno\")\n",
    "        {\n",
    "            this.especie = \"War turtle\";\n",
    "        }\n",
    "    }\n",
    "}"
   ]
  },
  {
   "cell_type": "code",
   "execution_count": null,
   "metadata": {},
   "outputs": [],
   "source": [
    "squirtle = new VamoACalmarno;"
   ]
  },
  {
   "cell_type": "code",
   "execution_count": null,
   "metadata": {},
   "outputs": [],
   "source": [
    "squirtle.evoluciona()"
   ]
  },
  {
   "cell_type": "code",
   "execution_count": null,
   "metadata": {
    "scrolled": true
   },
   "outputs": [],
   "source": [
    "squirtle"
   ]
  },
  {
   "cell_type": "code",
   "execution_count": null,
   "metadata": {},
   "outputs": [],
   "source": [
    "squirtle.experiencia = 21;\n",
    "squirtle.gold = 20;"
   ]
  },
  {
   "cell_type": "code",
   "execution_count": null,
   "metadata": {},
   "outputs": [],
   "source": [
    "squirtle.evoluciona();"
   ]
  },
  {
   "cell_type": "code",
   "execution_count": null,
   "metadata": {},
   "outputs": [],
   "source": [
    "squirtle;"
   ]
  },
  {
   "cell_type": "code",
   "execution_count": null,
   "metadata": {},
   "outputs": [],
   "source": [
    "class Pikachu extends Pokemon\n",
    "{\n",
    "    constructor(experiencia=1, fuerza=1, resistencia=1, gold=0)\n",
    "    {\n",
    "        super(experiencia, fuerza, resistencia, gold)\n",
    "        this.experiencia = expexperiencia;\n",
    "        this.gold = gold;\n",
    "        this.especie = \"Pikachu\";\n",
    "        this.fuerza = fuerza;\n",
    "        this.resistencia = resistencia;\n",
    "        this.vida = 100;\n",
    "    }\n",
    "    atacktrueno()\n",
    "    {\n",
    "        return this.fuerza * this.experiencia;\n",
    "    }\n",
    "    electrocuta()\n",
    "    {\n",
    "        if (this.especie == \"Pikachu\")\n",
    "        {\n",
    "            return undefined;\n",
    "        }\n",
    "        if (this.especie == \"Raichu\")\n",
    "        {\n",
    "            return this.fuerza * 1.5 * this.experiencia * 1.2;\n",
    "        }\n",
    "    }\n",
    "    evoluciona()\n",
    "    {\n",
    "        if (this.experiencia >= 15 && this.experiencia < 30 && this.gold >= 25 && this.especie == \"Pikachu\")\n",
    "        {\n",
    "            this.gold -= 25;\n",
    "            this.especie = \"Raichu\";\n",
    "            this.fuerza = 1.5;\n",
    "            this.resistencia = 2;    \n",
    "        }\n",
    "    }\n",
    "}\n",
    "    "
   ]
  },
  {
   "cell_type": "code",
   "execution_count": null,
   "metadata": {},
   "outputs": [],
   "source": [
    "mascota = new Pikachu;"
   ]
  },
  {
   "cell_type": "code",
   "execution_count": null,
   "metadata": {},
   "outputs": [],
   "source": [
    "squirtle.recibe_ataque(mascota, \"atacktrueno\")"
   ]
  },
  {
   "cell_type": "markdown",
   "metadata": {},
   "source": [
    "<p style=\"text-align: center\"><a rel=\"license\" href=\"http://creativecommons.org/licenses/by/4.0/\"><img alt=\"Licencia Creative Commons\" style=\"border-width:0\" src=\"https://i.creativecommons.org/l/by/4.0/80x15.png\" /></a><br />Esta obra está bajo una <a rel=\"license\" href=\"http://creativecommons.org/licenses/by/4.0/\">Licencia Creative Commons Atribución 4.0 Internacional</a>.</p>\n",
    "<p style=\"text-align: center\">&copy; José Luis Chiquete Valdivieso. 2019.</p>"
   ]
  }
 ],
 "metadata": {
  "kernelspec": {
   "display_name": "Javascript (Node.js)",
   "language": "javascript",
   "name": "javascript"
  },
  "language_info": {
   "file_extension": ".js",
   "mimetype": "application/javascript",
   "name": "javascript",
   "version": "6.14.3"
  }
 },
 "nbformat": 4,
 "nbformat_minor": 2
}
