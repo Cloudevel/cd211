{
 "cells": [
  {
   "cell_type": "markdown",
   "metadata": {},
   "source": [
    "[![cloudevel](Imagenes/cloudevel.png)](https://cloudevel.com)"
   ]
  },
  {
   "cell_type": "markdown",
   "metadata": {},
   "source": [
    "El objetivo de este curso es el de crear objetos basados en un juego tipo Pokemon."
   ]
  },
  {
   "cell_type": "markdown",
   "metadata": {},
   "source": [
    "## La clase ```Pikachu```.\n",
    "\n",
    "Esta clase tiene varias propeidades tales como:\n",
    "\n",
    "* ```especie```.\n",
    "* ```vida```.\n",
    "* ```experiencia```.\n",
    "* ```resistencia```.\n",
    "* ```fuerza```.\n",
    "* ```gold```.\n",
    "\n",
    "Además de estas propiedades se definen los métodos tales como:\n",
    "\n",
    "* ```attackTrueno()```.\n",
    "* ```electrocuta()```.\n",
    "* ```recibeAtaque()```.\n",
    "* ```evoluciona()```."
   ]
  },
  {
   "cell_type": "markdown",
   "metadata": {},
   "source": [
    "### Objeto de los métodos.\n",
    "\n",
    "Los métodos son piezas de código ejecutables (callables) que están ligadas a un objeto y sus objetivos son:\n",
    "\n",
    "* Modificar el estado del propio objeto.\n",
    "* Interactuar con otros objetos.\n",
    "* Interactiar con el entorno."
   ]
  },
  {
   "cell_type": "code",
   "execution_count": null,
   "metadata": {},
   "outputs": [],
   "source": [
    "class Pikachu{\n",
    "    constructor(experiencia=1, fuerza=1, resistencia=1, gold=0)\n",
    "    {\n",
    "        this.experiencia = experiencia;\n",
    "        this.gold = gold;\n",
    "        this.especie = \"Pikachu\";\n",
    "        this.fuerza = fuerza;\n",
    "        this.resistencia = resistencia;\n",
    "        this.vida = 100;\n",
    "    }\n",
    "    attackTrueno()\n",
    "    {\n",
    "        return this.fuerza * this.experiencia;\n",
    "    }\n",
    "    electrocuta()\n",
    "    {\n",
    "        if (this.especie == \"Pikachu\")\n",
    "        {\n",
    "            return undefined;\n",
    "        }\n",
    "        if (this.especie == \"Raichu\")\n",
    "        {\n",
    "            return this.fuerza * 1.5 * this.experiencia * 1.2;\n",
    "        }\n",
    "    }\n",
    "    recibe_ataque(objeto, ataque)\n",
    "    {\n",
    "        this.vida -= objeto[ataque]()/ this.resistencia;\n",
    "        this.experiencia += 1;\n",
    "        return this.vida;\n",
    "    }\n",
    "    evoluciona()\n",
    "    {\n",
    "        if (this.experiencia >= 15 && this.experiencia < 30 && this.gold >= 25 && this.especie == \"Pikachu\")\n",
    "        {\n",
    "            this.gold -= 25;\n",
    "            this.especie = \"Raichu\";\n",
    "            this.fuerza = 1.5;\n",
    "            this.resistencia = 2;    \n",
    "        }\n",
    "    }   \n",
    "} "
   ]
  },
  {
   "cell_type": "code",
   "execution_count": null,
   "metadata": {},
   "outputs": [],
   "source": [
    "const mascota = new Pikachu;"
   ]
  },
  {
   "cell_type": "code",
   "execution_count": null,
   "metadata": {},
   "outputs": [],
   "source": [
    "mascota;"
   ]
  },
  {
   "cell_type": "code",
   "execution_count": null,
   "metadata": {},
   "outputs": [],
   "source": [
    "mascota.attackTrueno();"
   ]
  },
  {
   "cell_type": "code",
   "execution_count": null,
   "metadata": {},
   "outputs": [],
   "source": [
    "mascota.electrocuta();"
   ]
  },
  {
   "cell_type": "code",
   "execution_count": null,
   "metadata": {},
   "outputs": [],
   "source": [
    "mascota.experiencia = 27;\n",
    "mascota.gold = 31;"
   ]
  },
  {
   "cell_type": "code",
   "execution_count": null,
   "metadata": {},
   "outputs": [],
   "source": [
    "mascota;"
   ]
  },
  {
   "cell_type": "code",
   "execution_count": null,
   "metadata": {},
   "outputs": [],
   "source": [
    "mascota.evoluciona();"
   ]
  },
  {
   "cell_type": "code",
   "execution_count": null,
   "metadata": {},
   "outputs": [],
   "source": [
    "mascota;"
   ]
  },
  {
   "cell_type": "code",
   "execution_count": null,
   "metadata": {},
   "outputs": [],
   "source": [
    "mascota.experiencia;"
   ]
  },
  {
   "cell_type": "code",
   "execution_count": null,
   "metadata": {},
   "outputs": [],
   "source": [
    "mascota.gold;"
   ]
  },
  {
   "cell_type": "code",
   "execution_count": null,
   "metadata": {},
   "outputs": [],
   "source": [
    "mascota.attackTrueno();"
   ]
  },
  {
   "cell_type": "code",
   "execution_count": null,
   "metadata": {},
   "outputs": [],
   "source": [
    "mascota.electrocuta();"
   ]
  },
  {
   "cell_type": "code",
   "execution_count": null,
   "metadata": {},
   "outputs": [],
   "source": [
    "mascota.recibe_ataque(mascota, \"electrocuta\");"
   ]
  },
  {
   "cell_type": "code",
   "execution_count": null,
   "metadata": {},
   "outputs": [],
   "source": [
    "mascota;"
   ]
  },
  {
   "cell_type": "markdown",
   "metadata": {},
   "source": [
    "<p style=\"text-align: center\"><a rel=\"license\" href=\"http://creativecommons.org/licenses/by/4.0/\"><img alt=\"Licencia Creative Commons\" style=\"border-width:0\" src=\"https://i.creativecommons.org/l/by/4.0/80x15.png\" /></a><br />Esta obra está bajo una <a rel=\"license\" href=\"http://creativecommons.org/licenses/by/4.0/\">Licencia Creative Commons Atribución 4.0 Internacional</a>.</p>\n",
    "<p style=\"text-align: center\">&copy; José Luis Chiquete Valdivieso. 2019.</p>"
   ]
  }
 ],
 "metadata": {
  "kernelspec": {
   "display_name": "Javascript (Node.js)",
   "language": "javascript",
   "name": "javascript"
  },
  "language_info": {
   "file_extension": ".js",
   "mimetype": "application/javascript",
   "name": "javascript",
   "version": "6.14.3"
  }
 },
 "nbformat": 4,
 "nbformat_minor": 2
}
