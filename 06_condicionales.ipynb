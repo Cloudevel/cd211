{
 "cells": [
  {
   "cell_type": "markdown",
   "metadata": {},
   "source": [
    "# Expresiones lógicas.\n",
    "\n",
    "Para que una expresión lógica de un resultado verdadero (*true*) o falso (*false*) es necesario comparar un objeto con otro.\n",
    "\n",
    "## Operadores de evaluación lógica.\n",
    "Para lograr este fin, Javascript cuenta con los siguientes operadores lógicos:\n",
    "\n",
    "|Operador|Evalúa          |\n",
    "|:------:|:---------------|\n",
    "|*==*    |*a == b* ¿a igual a b?|\n",
    "|*!=* \t |*a != b* ¿a distinta de b?|\n",
    "|*>*     |*a > b* ¿a mayor que b?|\n",
    "|*<* \t |*a < b* ¿a menor que b?|\n",
    "|*>=*    |*a >= b* ¿a mayor o igual que b?|\n",
    "|*<=*    |*a <= b* ¿a menor o igual que b?|\n",
    "|*===*   |* a === b* ¿a es igual y del mismo tipo que b?|\n",
    "|*!==*   |* a !== b* ¿a es de distinto tipo que b?|\n",
    "\n",
    "**Nota:** Es un error extremadamente común confundir el operador de asignación \"=\" con el operador de igualdad \"==\", por lo que es necesario ser ciudadoso y evitar errores de sintaxis.\n",
    "\n",
    "Debido a que Javascript no es un lenguaje de tipado estricto, es posible hacer comparaciones entre números y cadenas de caracteres con resultados contradictorios."
   ]
  },
  {
   "cell_type": "code",
   "execution_count": null,
   "metadata": {},
   "outputs": [],
   "source": [
    "2 == \"2\";"
   ]
  },
  {
   "cell_type": "code",
   "execution_count": null,
   "metadata": {},
   "outputs": [],
   "source": [
    "0 != true;"
   ]
  },
  {
   "cell_type": "code",
   "execution_count": null,
   "metadata": {},
   "outputs": [],
   "source": [
    "1 == true;"
   ]
  },
  {
   "cell_type": "code",
   "execution_count": null,
   "metadata": {},
   "outputs": [],
   "source": [
    "0 == false;"
   ]
  },
  {
   "cell_type": "code",
   "execution_count": null,
   "metadata": {},
   "outputs": [],
   "source": [
    "2 === \"2\";"
   ]
  },
  {
   "cell_type": "code",
   "execution_count": null,
   "metadata": {},
   "outputs": [],
   "source": [
    "0 === true;"
   ]
  },
  {
   "cell_type": "code",
   "execution_count": null,
   "metadata": {},
   "outputs": [],
   "source": [
    "5 > \"Hola\";"
   ]
  },
  {
   "cell_type": "code",
   "execution_count": null,
   "metadata": {},
   "outputs": [],
   "source": [
    "\"1000\" >= \"a12\";"
   ]
  },
  {
   "cell_type": "code",
   "execution_count": null,
   "metadata": {},
   "outputs": [],
   "source": [
    "null == 0;"
   ]
  },
  {
   "cell_type": "code",
   "execution_count": null,
   "metadata": {},
   "outputs": [],
   "source": [
    "[] == 0;"
   ]
  },
  {
   "cell_type": "code",
   "execution_count": null,
   "metadata": {},
   "outputs": [],
   "source": [
    "[] == false;"
   ]
  },
  {
   "cell_type": "code",
   "execution_count": null,
   "metadata": {},
   "outputs": [],
   "source": [
    "undefined == 0;"
   ]
  },
  {
   "cell_type": "code",
   "execution_count": null,
   "metadata": {},
   "outputs": [],
   "source": [
    "[] === 0;"
   ]
  },
  {
   "cell_type": "code",
   "execution_count": null,
   "metadata": {},
   "outputs": [],
   "source": [
    "[] !== 0;"
   ]
  },
  {
   "cell_type": "code",
   "execution_count": null,
   "metadata": {},
   "outputs": [],
   "source": [
    "25.43 >= 17;"
   ]
  },
  {
   "cell_type": "code",
   "execution_count": null,
   "metadata": {},
   "outputs": [],
   "source": [
    "let saludo = \"HoLa\";"
   ]
  },
  {
   "cell_type": "code",
   "execution_count": null,
   "metadata": {},
   "outputs": [],
   "source": [
    "saludo == 'hola';"
   ]
  },
  {
   "cell_type": "code",
   "execution_count": null,
   "metadata": {},
   "outputs": [],
   "source": [
    "saludo.toLowerCase();"
   ]
  },
  {
   "cell_type": "code",
   "execution_count": null,
   "metadata": {},
   "outputs": [],
   "source": [
    "saludo;"
   ]
  },
  {
   "cell_type": "code",
   "execution_count": null,
   "metadata": {},
   "outputs": [],
   "source": [
    "saludo.toLowerCase() == 'hola';"
   ]
  },
  {
   "cell_type": "markdown",
   "metadata": {},
   "source": [
    "## El operador *in*.\n",
    "El operador *in* permite saber si el índice de un elemento está dentro de una colección de datos. "
   ]
  },
  {
   "cell_type": "code",
   "execution_count": null,
   "metadata": {
    "scrolled": true
   },
   "outputs": [],
   "source": [
    "0 in [\"delantero\", \"defensa\", \"portero\", \"árbitro\"];"
   ]
  },
  {
   "cell_type": "code",
   "execution_count": null,
   "metadata": {
    "scrolled": true
   },
   "outputs": [],
   "source": [
    "7 in [\"delantero\", \"defensa\", \"portero\", \"árbitro\"];"
   ]
  },
  {
   "cell_type": "markdown",
   "metadata": {},
   "source": [
    "# Operadores lógicos.\n",
    "Los operadores lógicos permiten evaluar varias condiciones dentro de una expresión.\n",
    "\n",
    "|Operación|Operador|Evalúa|\n",
    "|:----:|:------:|:----:|\n",
    "|OR|  &#124;&#124;|*a &#124;&#124; b* ¿Se cumplen a o b?|\n",
    "|AND|&& \t |*a && b* ¿Se comple a y b?|\n",
    "|NOT|*!*   |* !x* Complemento de x|\n",
    "\n",
    "\n",
    "\n",
    "|OR| true|false|\n",
    "|---|---|---|\n",
    "|true|true|true|\n",
    "|false|true|false|\n",
    "\n",
    "\n",
    "|AND| true|false|\n",
    "|---|---|---|\n",
    "|true|true|false|\n",
    "|false|false|false|"
   ]
  },
  {
   "cell_type": "code",
   "execution_count": null,
   "metadata": {},
   "outputs": [],
   "source": [
    "true && false;"
   ]
  },
  {
   "cell_type": "markdown",
   "metadata": {},
   "source": [
    "**Ejemplo:**"
   ]
  },
  {
   "cell_type": "code",
   "execution_count": null,
   "metadata": {},
   "outputs": [],
   "source": [
    "(12 / 3) + 2 - 1 == 1;"
   ]
  },
  {
   "cell_type": "code",
   "execution_count": null,
   "metadata": {},
   "outputs": [],
   "source": [
    "15 >= 6;"
   ]
  },
  {
   "cell_type": "code",
   "execution_count": null,
   "metadata": {},
   "outputs": [],
   "source": [
    "(12 / 3) + 2 - 1 == 1 && 15 >= 6;"
   ]
  },
  {
   "cell_type": "code",
   "execution_count": null,
   "metadata": {},
   "outputs": [],
   "source": [
    "(12 / 3) + 2 - 1 == 1 || 15 >= 6;"
   ]
  },
  {
   "cell_type": "code",
   "execution_count": null,
   "metadata": {},
   "outputs": [],
   "source": [
    "!((12 / 3) + 2 - 1 == 1);"
   ]
  },
  {
   "cell_type": "code",
   "execution_count": null,
   "metadata": {},
   "outputs": [],
   "source": [
    "(12 / 3) + 2 - 1 == 1 && 15 >= 6 || 12 == 5;"
   ]
  },
  {
   "cell_type": "code",
   "execution_count": null,
   "metadata": {},
   "outputs": [],
   "source": [
    "(12 / 3) + 2 - 1 == 1 || 15 >= 6 || 12 == 5;"
   ]
  },
  {
   "cell_type": "code",
   "execution_count": null,
   "metadata": {},
   "outputs": [],
   "source": [
    "(12 / 3) + 2 - 1 == 1 || (15 >= 6 || 12 == 5);"
   ]
  },
  {
   "cell_type": "code",
   "execution_count": null,
   "metadata": {},
   "outputs": [],
   "source": [
    "((12 / 3) + 2 - 1 == 1 || 15 >= 6) || 12 == 5;"
   ]
  },
  {
   "cell_type": "code",
   "execution_count": null,
   "metadata": {},
   "outputs": [],
   "source": [
    "typeof(Hola) == String;"
   ]
  },
  {
   "cell_type": "code",
   "execution_count": null,
   "metadata": {},
   "outputs": [],
   "source": [
    "typeof(\"Hola\") == 'string';"
   ]
  },
  {
   "cell_type": "code",
   "execution_count": null,
   "metadata": {},
   "outputs": [],
   "source": [
    "typeof(\"Hola\")"
   ]
  },
  {
   "cell_type": "code",
   "execution_count": null,
   "metadata": {},
   "outputs": [],
   "source": [
    "true || false;"
   ]
  },
  {
   "cell_type": "code",
   "execution_count": null,
   "metadata": {},
   "outputs": [],
   "source": [
    "!true;"
   ]
  },
  {
   "cell_type": "markdown",
   "metadata": {},
   "source": [
    "En estos ejemplos se evaluara si el valor dentro de una variable se encuentra en un rango."
   ]
  },
  {
   "cell_type": "code",
   "execution_count": null,
   "metadata": {},
   "outputs": [],
   "source": [
    "let numero = 12;"
   ]
  },
  {
   "cell_type": "code",
   "execution_count": null,
   "metadata": {},
   "outputs": [],
   "source": [
    "numero > 5 && numero < 43;"
   ]
  },
  {
   "cell_type": "code",
   "execution_count": null,
   "metadata": {},
   "outputs": [],
   "source": [
    "numero > 12 && numero < 43;"
   ]
  },
  {
   "cell_type": "code",
   "execution_count": null,
   "metadata": {},
   "outputs": [],
   "source": [
    "numero >= 12 && numero < 43;"
   ]
  },
  {
   "cell_type": "markdown",
   "metadata": {},
   "source": [
    "## Precedencia de los operadores y los paréntesis.\n",
    "Los operadores lógicos se evalúan de izquierda a derecha, pero a los componentes encerrados dentro del paréntesis se les evalúa primero."
   ]
  },
  {
   "cell_type": "code",
   "execution_count": null,
   "metadata": {},
   "outputs": [],
   "source": [
    "!false && true || true;"
   ]
  },
  {
   "cell_type": "code",
   "execution_count": null,
   "metadata": {},
   "outputs": [],
   "source": [
    "!(false && true || true);"
   ]
  },
  {
   "cell_type": "code",
   "execution_count": null,
   "metadata": {},
   "outputs": [],
   "source": [
    "!false && (true || true);"
   ]
  },
  {
   "cell_type": "code",
   "execution_count": null,
   "metadata": {
    "scrolled": true
   },
   "outputs": [],
   "source": [
    "!(false && true) || true;"
   ]
  },
  {
   "cell_type": "markdown",
   "metadata": {},
   "source": [
    "## Declaraciones."
   ]
  },
  {
   "cell_type": "markdown",
   "metadata": {},
   "source": [
    "# Delimitación de bloques de código.\n",
    "En Javasacript un bloque de código se delimita mediante llaves ( *{}* ).\n",
    "\n",
    "La indentación (espacios en blanco al iniciar una línea) se utiliza sólo como buena práctica para identificar los bloques de código de mejor manera."
   ]
  },
  {
   "cell_type": "markdown",
   "metadata": {},
   "source": [
    "# Condicional *if()*.\n",
    "Un condicional permite ejecutar cierto bloque de código delimitado dentro de éste en caso de que una condición dada sea verdadera.\n",
    "El el caso de Javascript es obligatorio que las condiciones lógicas estén encerradas en paréntesis."
   ]
  },
  {
   "cell_type": "code",
   "execution_count": null,
   "metadata": {},
   "outputs": [],
   "source": [
    "let animal = \"gato\";\n",
    "\n",
    "/* despliega un mensaje indicando el valor de animal. */\n",
    "console.log(\"El animal es un\", animal + \".\");\n",
    "\n",
    "/* evalúa el valor de la variable animal. */\n",
    "if (animal == \"gato\") {\n",
    "    console.log(\"Los gatos maullan.\");\n",
    "}\n",
    "\n",
    "/* despliega un mensaje final. */\n",
    "console.log(\"Tenga un buen día.\");"
   ]
  },
  {
   "cell_type": "markdown",
   "metadata": {},
   "source": [
    "Ahora bien. Si en lugar de *\"gato\"* el valor de la variable *animal* es *\"perro\"*,entonces el código indentado no se ejecuta:"
   ]
  },
  {
   "cell_type": "code",
   "execution_count": null,
   "metadata": {},
   "outputs": [],
   "source": [
    "animal = \"perro\";\n",
    "\n",
    "/* despliega un mensaje indicando el valor de animal. */\n",
    "console.log(\"El animal es un\", animal + \".\");\n",
    "\n",
    "/* evalúa el valor de la variable animal. */\n",
    "if (animal == \"gato\") {\n",
    "    console.log(\"Los gatos maullan.\");\n",
    "}\n",
    "\n",
    "/* despliega un mensaje final. */\n",
    "console.log(\"Tenga un buen día.\");"
   ]
  },
  {
   "cell_type": "markdown",
   "metadata": {},
   "source": [
    "Javascript es sensible a las mayúsculas."
   ]
  },
  {
   "cell_type": "code",
   "execution_count": null,
   "metadata": {},
   "outputs": [],
   "source": [
    "animal = \"Gato\";\n",
    "\n",
    "/* despliega un mensaje indicando el valor de animal. */\n",
    "console.log(\"El animal es un\", animal + \".\");\n",
    "\n",
    "/* evalúa el valor de la variable animal. */\n",
    "if (animal == \"gato\") {\n",
    "    console.log(\"Los gatos maullan.\");\n",
    "}\n",
    "\n",
    "/* despliega un mensaje final. */\n",
    "console.log(\"Tenga un buen día.\");"
   ]
  },
  {
   "cell_type": "markdown",
   "metadata": {},
   "source": [
    "## Estructura *if () ... else*.\n",
    "En esta estructura, el bloque de código delimitado por else se ejecuta en caso de que la condición no sea verdadera."
   ]
  },
  {
   "cell_type": "code",
   "execution_count": null,
   "metadata": {},
   "outputs": [],
   "source": [
    "animal = \"Gato\";\n",
    "\n",
    "/* despliega un mensaje indicando el valor de animal. */\n",
    "console.log(\"El animal es un\", animal + \".\");\n",
    "\n",
    "/* evalúa el valor de la variable animal. */\n",
    "if (animal == \"gato\") {\n",
    "    console.log(\"Los gatos maullan.\");\n",
    "}\n",
    "/* si el resultado de la evaluación es false */\n",
    "else {\n",
    "    console.log(\"No identifico al animal.\")\n",
    "}\n",
    "console.log(\"Tenga un buen día.\");"
   ]
  },
  {
   "cell_type": "markdown",
   "metadata": {},
   "source": [
    "## Estructura *if () ... else if() ... else*.\n",
    "\n",
    "Existen casos en los que se deben evaluar diversas condiciones. Javascript permite evaluar más de una condición con la combonación *else* *if*. Tan pronto como una condición sea verdadera, esta se ejecutará y el flujo de código continúa con el bloque de mayor jerarquía."
   ]
  },
  {
   "cell_type": "code",
   "execution_count": null,
   "metadata": {},
   "outputs": [],
   "source": [
    "let variable = 12.3;\n",
    "console.log(\"El número es\", variable);\n",
    "\n",
    "/* evalúa si el valor es mayor que cero. */\n",
    "if (variable > 0) {\n",
    "    console.log(\"El número es positivo.\");\n",
    "}\n",
    "\n",
    "/* evalúa si el valor es menor que cero. */\n",
    "else if (variable < 0) {\n",
    "    console.log(\"El número es negativo.\");    \n",
    "}\n",
    "\n",
    "/* si ninguna de las condiciones es true, se ejecuta lo siguiente*/\n",
    "else {\n",
    "    console.log(\"El número es cero.\");\n",
    "}\n",
    "console.log(\"Buen día.\");"
   ]
  },
  {
   "cell_type": "code",
   "execution_count": null,
   "metadata": {},
   "outputs": [],
   "source": [
    "variable = -0.00000000001;\n",
    "console.log(\"El número es\", variable);\n",
    "\n",
    "/* evalúa si el valor es mayor que cero. */\n",
    "if (variable > 0) {\n",
    "    console.log(\"El número es positivo.\");\n",
    "}\n",
    "\n",
    "/* evalúa si el valor es menor que cero. */\n",
    "else if (variable < 0) {\n",
    "    console.log(\"El número es negativo.\");    \n",
    "}\n",
    "\n",
    "/* si ninguna de las condiciones es true, se ejecuta lo siguiente*/\n",
    "else {\n",
    "    console.log(\"El número es cero.\");\n",
    "}\n",
    "console.log(\"Buen día.\");"
   ]
  },
  {
   "cell_type": "code",
   "execution_count": null,
   "metadata": {},
   "outputs": [],
   "source": [
    "variable = 0;\n",
    "console.log(\"El número es\", variable);\n",
    "\n",
    "/* evalúa si el valor es mayor que cero. */\n",
    "if (variable > 0) {\n",
    "    console.log(\"El número es positivo.\");\n",
    "}\n",
    "\n",
    "/* evalúa si el valor es menor que cero. */\n",
    "else if (variable < 0) {\n",
    "    console.log(\"El número es negativo.\");    \n",
    "}\n",
    "\n",
    "/* si ninguna de las condiciones es true, se ejecuta lo siguiente*/\n",
    "else {\n",
    "    console.log(\"El número es cero.\");\n",
    "}\n",
    "console.log(\"Buen día.\");"
   ]
  },
  {
   "cell_type": "markdown",
   "metadata": {
    "collapsed": true
   },
   "source": [
    "## Bloques \"anidados\".\n",
    "Es posible colocar bloques dentro de otros y cada bloque está delimitado por loas llaves ( *{}* ), tal como se ejemplifica a continuación. \n",
    "Estos bloques anidados pueden ser de diversos tipos, pero en este caso se usarán los condicionales conocidos:"
   ]
  },
  {
   "cell_type": "code",
   "execution_count": null,
   "metadata": {},
   "outputs": [],
   "source": [
    "cantidad = 12;\n",
    "console.log(\"La variable es\", cantidad + \".\");\n",
    "\n",
    "/* evalua si es una representación de un número*/\n",
    "if (cantidad == Number(cantidad))\n",
    "{\n",
    "    console.log(\"El valor representa a un número.\");\n",
    "    \n",
    "    /* evalua si es de tipo numérico*/\n",
    "    if (typeof(cantidad) == 'number')\n",
    "    {\n",
    "        console.log(\"La variable es de tipo numérico.\");  \n",
    "    }\n",
    "    else \n",
    "    {\n",
    "        console.log(\"La variable no es de tipo numérico.\"); \n",
    "    }\n",
    "}\n",
    "else {\n",
    "    console.log(\"La variable no representa a un número.\");\n",
    "}"
   ]
  },
  {
   "cell_type": "code",
   "execution_count": null,
   "metadata": {},
   "outputs": [],
   "source": [
    "cantidad = \"Hola\";\n",
    "console.log(\"La variable es\", cantidad + \".\");\n",
    "\n",
    "/* evalua si es una representación de un número*/\n",
    "if (cantidad == Number(cantidad))\n",
    "{\n",
    "    console.log(\"El valor representa a un número.\");\n",
    "    \n",
    "    /* evalua si es de tipo numérico*/\n",
    "    if (typeof(cantidad) == 'number')\n",
    "    {\n",
    "        console.log(\"La variable es de tipo numérico.\");  \n",
    "    }\n",
    "    else \n",
    "    {\n",
    "        console.log(\"La variable no es de tipo numérico.\"); \n",
    "    }\n",
    "}\n",
    "else {\n",
    "    console.log(\"La variable no representa a un número.\");\n",
    "}"
   ]
  },
  {
   "cell_type": "markdown",
   "metadata": {
    "collapsed": true
   },
   "source": [
    "## Estructura *switch* ... *case*.\n",
    "\n",
    "* La declaración *switch* evalúa una expresión. \n",
    "* La declaración *case* corresponde a posibles valores resultantes de la expresión, y en caso de que exista una conicidencia, se ejecutará el bloque correspondiente.\n",
    "\n",
    "``` javascript\n",
    "switch(<expresion>)\n",
    "{\n",
    "    case(<valor 1>):\n",
    "    {\n",
    "        <bloque de código 1>\n",
    "    }\n",
    "    case(<valor 2>):\n",
    "    {\n",
    "        <bloque de código 2>\n",
    "    }\n",
    "    ...\n",
    "    ...\n",
    "    case(<valor n>):\n",
    "    {\n",
    "        <bloque de código n>\n",
    "    }\n",
    "}\n",
    "```"
   ]
  },
  {
   "cell_type": "markdown",
   "metadata": {},
   "source": [
    "**Ejemplo:**"
   ]
  },
  {
   "cell_type": "code",
   "execution_count": null,
   "metadata": {},
   "outputs": [],
   "source": [
    "let producto = \"llanta\";\n",
    "\n",
    "switch(producto.toLowerCase())\n",
    "    {\n",
    "        case \"volante\":\n",
    "        {\n",
    "            console.log('El volante cuesta $250.00');\n",
    "        }\n",
    "        case \"llanta\":\n",
    "        {\n",
    "            console.log('La llanta cuesta $500.00');\n",
    "        }\n",
    "    }"
   ]
  },
  {
   "cell_type": "code",
   "execution_count": null,
   "metadata": {},
   "outputs": [],
   "source": [
    "producto = \"llanta\";\n",
    "\n",
    "switch(producto.toLowerCase())\n",
    "    {\n",
    "        case \"volante\":\n",
    "        {\n",
    "            console.log('El volante cuesta $250.00.');\n",
    "        }\n",
    "        case \"rin\":\n",
    "        case \"llanta\":\n",
    "        {\n",
    "            console.log('La llanta y el rin cuestan $500.00 cada uno.');\n",
    "        }\n",
    "    }"
   ]
  },
  {
   "cell_type": "code",
   "execution_count": null,
   "metadata": {},
   "outputs": [],
   "source": []
  }
 ],
 "metadata": {
  "kernelspec": {
   "display_name": "Javascript (Node.js)",
   "language": "javascript",
   "name": "javascript"
  },
  "language_info": {
   "file_extension": ".js",
   "mimetype": "application/javascript",
   "name": "javascript",
   "version": "6.14.3"
  }
 },
 "nbformat": 4,
 "nbformat_minor": 1
}
